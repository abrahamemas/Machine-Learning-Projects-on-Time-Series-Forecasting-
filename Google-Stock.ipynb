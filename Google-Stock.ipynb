{
 "cells": [
  {
   "cell_type": "code",
   "execution_count": 47,
   "metadata": {},
   "outputs": [],
   "source": [
    "import numpy as np \n",
    "import pandas as pd\n",
    "import matplotlib.pyplot as plt\n",
    "import seaborn as sns\n",
    "import tensorflow as tf\n",
    "import sklearn as sk\n",
    "from tensorflow import keras\n",
    "from keras import layers\n",
    "from sklearn.model_selection import train_test_split"
   ]
  },
  {
   "cell_type": "code",
   "execution_count": 48,
   "metadata": {},
   "outputs": [
    {
     "data": {
      "text/html": [
       "<div>\n",
       "<style scoped>\n",
       "    .dataframe tbody tr th:only-of-type {\n",
       "        vertical-align: middle;\n",
       "    }\n",
       "\n",
       "    .dataframe tbody tr th {\n",
       "        vertical-align: top;\n",
       "    }\n",
       "\n",
       "    .dataframe thead th {\n",
       "        text-align: right;\n",
       "    }\n",
       "</style>\n",
       "<table border=\"1\" class=\"dataframe\">\n",
       "  <thead>\n",
       "    <tr style=\"text-align: right;\">\n",
       "      <th></th>\n",
       "      <th>Date</th>\n",
       "      <th>Open</th>\n",
       "      <th>High</th>\n",
       "      <th>Low</th>\n",
       "      <th>Close</th>\n",
       "      <th>Adj Close</th>\n",
       "      <th>Volume</th>\n",
       "    </tr>\n",
       "  </thead>\n",
       "  <tbody>\n",
       "    <tr>\n",
       "      <th>0</th>\n",
       "      <td>2004-08-19</td>\n",
       "      <td>50.050049</td>\n",
       "      <td>52.082081</td>\n",
       "      <td>48.028027</td>\n",
       "      <td>50.220219</td>\n",
       "      <td>50.220219</td>\n",
       "      <td>44659096</td>\n",
       "    </tr>\n",
       "    <tr>\n",
       "      <th>1</th>\n",
       "      <td>2004-08-20</td>\n",
       "      <td>50.555557</td>\n",
       "      <td>54.594597</td>\n",
       "      <td>50.300301</td>\n",
       "      <td>54.209209</td>\n",
       "      <td>54.209209</td>\n",
       "      <td>22834343</td>\n",
       "    </tr>\n",
       "    <tr>\n",
       "      <th>2</th>\n",
       "      <td>2004-08-23</td>\n",
       "      <td>55.430431</td>\n",
       "      <td>56.796799</td>\n",
       "      <td>54.579578</td>\n",
       "      <td>54.754753</td>\n",
       "      <td>54.754753</td>\n",
       "      <td>18256126</td>\n",
       "    </tr>\n",
       "    <tr>\n",
       "      <th>3</th>\n",
       "      <td>2004-08-24</td>\n",
       "      <td>55.675674</td>\n",
       "      <td>55.855858</td>\n",
       "      <td>51.836838</td>\n",
       "      <td>52.487488</td>\n",
       "      <td>52.487488</td>\n",
       "      <td>15247337</td>\n",
       "    </tr>\n",
       "    <tr>\n",
       "      <th>4</th>\n",
       "      <td>2004-08-25</td>\n",
       "      <td>52.532532</td>\n",
       "      <td>54.054054</td>\n",
       "      <td>51.991993</td>\n",
       "      <td>53.053055</td>\n",
       "      <td>53.053055</td>\n",
       "      <td>9188602</td>\n",
       "    </tr>\n",
       "    <tr>\n",
       "      <th>5</th>\n",
       "      <td>2004-08-26</td>\n",
       "      <td>52.527527</td>\n",
       "      <td>54.029030</td>\n",
       "      <td>52.382381</td>\n",
       "      <td>54.009010</td>\n",
       "      <td>54.009010</td>\n",
       "      <td>7094898</td>\n",
       "    </tr>\n",
       "    <tr>\n",
       "      <th>6</th>\n",
       "      <td>2004-08-27</td>\n",
       "      <td>54.104103</td>\n",
       "      <td>54.364365</td>\n",
       "      <td>52.897900</td>\n",
       "      <td>53.128128</td>\n",
       "      <td>53.128128</td>\n",
       "      <td>6211782</td>\n",
       "    </tr>\n",
       "    <tr>\n",
       "      <th>7</th>\n",
       "      <td>2004-08-30</td>\n",
       "      <td>52.692692</td>\n",
       "      <td>52.797798</td>\n",
       "      <td>51.056057</td>\n",
       "      <td>51.056057</td>\n",
       "      <td>51.056057</td>\n",
       "      <td>5196798</td>\n",
       "    </tr>\n",
       "    <tr>\n",
       "      <th>8</th>\n",
       "      <td>2004-08-31</td>\n",
       "      <td>51.201202</td>\n",
       "      <td>51.906906</td>\n",
       "      <td>51.131130</td>\n",
       "      <td>51.236237</td>\n",
       "      <td>51.236237</td>\n",
       "      <td>4917877</td>\n",
       "    </tr>\n",
       "    <tr>\n",
       "      <th>9</th>\n",
       "      <td>2004-09-01</td>\n",
       "      <td>51.401402</td>\n",
       "      <td>51.536537</td>\n",
       "      <td>49.884884</td>\n",
       "      <td>50.175175</td>\n",
       "      <td>50.175175</td>\n",
       "      <td>9138253</td>\n",
       "    </tr>\n",
       "  </tbody>\n",
       "</table>\n",
       "</div>"
      ],
      "text/plain": [
       "         Date       Open       High        Low      Close  Adj Close    Volume\n",
       "0  2004-08-19  50.050049  52.082081  48.028027  50.220219  50.220219  44659096\n",
       "1  2004-08-20  50.555557  54.594597  50.300301  54.209209  54.209209  22834343\n",
       "2  2004-08-23  55.430431  56.796799  54.579578  54.754753  54.754753  18256126\n",
       "3  2004-08-24  55.675674  55.855858  51.836838  52.487488  52.487488  15247337\n",
       "4  2004-08-25  52.532532  54.054054  51.991993  53.053055  53.053055   9188602\n",
       "5  2004-08-26  52.527527  54.029030  52.382381  54.009010  54.009010   7094898\n",
       "6  2004-08-27  54.104103  54.364365  52.897900  53.128128  53.128128   6211782\n",
       "7  2004-08-30  52.692692  52.797798  51.056057  51.056057  51.056057   5196798\n",
       "8  2004-08-31  51.201202  51.906906  51.131130  51.236237  51.236237   4917877\n",
       "9  2004-09-01  51.401402  51.536537  49.884884  50.175175  50.175175   9138253"
      ]
     },
     "execution_count": 48,
     "metadata": {},
     "output_type": "execute_result"
    }
   ],
   "source": [
    "Data = pd.read_csv('GOOGL.csv')\n",
    "Data.head(10)"
   ]
  },
  {
   "cell_type": "code",
   "execution_count": 49,
   "metadata": {},
   "outputs": [
    {
     "data": {
      "text/html": [
       "<div>\n",
       "<style scoped>\n",
       "    .dataframe tbody tr th:only-of-type {\n",
       "        vertical-align: middle;\n",
       "    }\n",
       "\n",
       "    .dataframe tbody tr th {\n",
       "        vertical-align: top;\n",
       "    }\n",
       "\n",
       "    .dataframe thead th {\n",
       "        text-align: right;\n",
       "    }\n",
       "</style>\n",
       "<table border=\"1\" class=\"dataframe\">\n",
       "  <thead>\n",
       "    <tr style=\"text-align: right;\">\n",
       "      <th></th>\n",
       "      <th>Date</th>\n",
       "      <th>Open</th>\n",
       "      <th>High</th>\n",
       "      <th>Low</th>\n",
       "      <th>Close</th>\n",
       "      <th>Adj Close</th>\n",
       "      <th>Volume</th>\n",
       "    </tr>\n",
       "  </thead>\n",
       "  <tbody>\n",
       "    <tr>\n",
       "      <th>4426</th>\n",
       "      <td>2022-03-18</td>\n",
       "      <td>2668.489990</td>\n",
       "      <td>2724.879883</td>\n",
       "      <td>2645.169922</td>\n",
       "      <td>2722.510010</td>\n",
       "      <td>2722.510010</td>\n",
       "      <td>2223100</td>\n",
       "    </tr>\n",
       "    <tr>\n",
       "      <th>4427</th>\n",
       "      <td>2022-03-21</td>\n",
       "      <td>2723.270020</td>\n",
       "      <td>2741.000000</td>\n",
       "      <td>2681.850098</td>\n",
       "      <td>2722.030029</td>\n",
       "      <td>2722.030029</td>\n",
       "      <td>1341600</td>\n",
       "    </tr>\n",
       "    <tr>\n",
       "      <th>4428</th>\n",
       "      <td>2022-03-22</td>\n",
       "      <td>2722.030029</td>\n",
       "      <td>2821.000000</td>\n",
       "      <td>2722.030029</td>\n",
       "      <td>2797.360107</td>\n",
       "      <td>2797.360107</td>\n",
       "      <td>1774800</td>\n",
       "    </tr>\n",
       "    <tr>\n",
       "      <th>4429</th>\n",
       "      <td>2022-03-23</td>\n",
       "      <td>2774.050049</td>\n",
       "      <td>2791.770020</td>\n",
       "      <td>2756.699951</td>\n",
       "      <td>2765.510010</td>\n",
       "      <td>2765.510010</td>\n",
       "      <td>1257700</td>\n",
       "    </tr>\n",
       "    <tr>\n",
       "      <th>4430</th>\n",
       "      <td>2022-03-24</td>\n",
       "      <td>2784.000000</td>\n",
       "      <td>2832.379883</td>\n",
       "      <td>2755.010010</td>\n",
       "      <td>2831.439941</td>\n",
       "      <td>2831.439941</td>\n",
       "      <td>1317900</td>\n",
       "    </tr>\n",
       "  </tbody>\n",
       "</table>\n",
       "</div>"
      ],
      "text/plain": [
       "            Date         Open         High          Low        Close  \\\n",
       "4426  2022-03-18  2668.489990  2724.879883  2645.169922  2722.510010   \n",
       "4427  2022-03-21  2723.270020  2741.000000  2681.850098  2722.030029   \n",
       "4428  2022-03-22  2722.030029  2821.000000  2722.030029  2797.360107   \n",
       "4429  2022-03-23  2774.050049  2791.770020  2756.699951  2765.510010   \n",
       "4430  2022-03-24  2784.000000  2832.379883  2755.010010  2831.439941   \n",
       "\n",
       "        Adj Close   Volume  \n",
       "4426  2722.510010  2223100  \n",
       "4427  2722.030029  1341600  \n",
       "4428  2797.360107  1774800  \n",
       "4429  2765.510010  1257700  \n",
       "4430  2831.439941  1317900  "
      ]
     },
     "execution_count": 49,
     "metadata": {},
     "output_type": "execute_result"
    }
   ],
   "source": [
    "Data.tail()"
   ]
  },
  {
   "cell_type": "code",
   "execution_count": 50,
   "metadata": {},
   "outputs": [],
   "source": [
    "#Now that we have imported the data we need to understand some things\n",
    "#1 what is our dataset saying to us \n",
    "#2 what are the  problems of our data\n",
    "#3 what are the things not needed in my dataset\n",
    "#4 which algorithm should i use is it supervised or unsupervised\n",
    "#5 if supervised which algorithm is the best to solve my problem"
   ]
  },
  {
   "cell_type": "code",
   "execution_count": 51,
   "metadata": {},
   "outputs": [
    {
     "data": {
      "text/html": [
       "<div>\n",
       "<style scoped>\n",
       "    .dataframe tbody tr th:only-of-type {\n",
       "        vertical-align: middle;\n",
       "    }\n",
       "\n",
       "    .dataframe tbody tr th {\n",
       "        vertical-align: top;\n",
       "    }\n",
       "\n",
       "    .dataframe thead th {\n",
       "        text-align: right;\n",
       "    }\n",
       "</style>\n",
       "<table border=\"1\" class=\"dataframe\">\n",
       "  <thead>\n",
       "    <tr style=\"text-align: right;\">\n",
       "      <th></th>\n",
       "      <th>Column</th>\n",
       "      <th>Missing_Count</th>\n",
       "      <th>Missing_Percentage</th>\n",
       "    </tr>\n",
       "  </thead>\n",
       "  <tbody>\n",
       "    <tr>\n",
       "      <th>0</th>\n",
       "      <td>Date</td>\n",
       "      <td>0</td>\n",
       "      <td>0.0</td>\n",
       "    </tr>\n",
       "    <tr>\n",
       "      <th>1</th>\n",
       "      <td>Open</td>\n",
       "      <td>0</td>\n",
       "      <td>0.0</td>\n",
       "    </tr>\n",
       "    <tr>\n",
       "      <th>2</th>\n",
       "      <td>High</td>\n",
       "      <td>0</td>\n",
       "      <td>0.0</td>\n",
       "    </tr>\n",
       "    <tr>\n",
       "      <th>3</th>\n",
       "      <td>Low</td>\n",
       "      <td>0</td>\n",
       "      <td>0.0</td>\n",
       "    </tr>\n",
       "    <tr>\n",
       "      <th>4</th>\n",
       "      <td>Close</td>\n",
       "      <td>0</td>\n",
       "      <td>0.0</td>\n",
       "    </tr>\n",
       "    <tr>\n",
       "      <th>5</th>\n",
       "      <td>Adj Close</td>\n",
       "      <td>0</td>\n",
       "      <td>0.0</td>\n",
       "    </tr>\n",
       "    <tr>\n",
       "      <th>6</th>\n",
       "      <td>Volume</td>\n",
       "      <td>0</td>\n",
       "      <td>0.0</td>\n",
       "    </tr>\n",
       "  </tbody>\n",
       "</table>\n",
       "</div>"
      ],
      "text/plain": [
       "      Column  Missing_Count  Missing_Percentage\n",
       "0       Date              0                 0.0\n",
       "1       Open              0                 0.0\n",
       "2       High              0                 0.0\n",
       "3        Low              0                 0.0\n",
       "4      Close              0                 0.0\n",
       "5  Adj Close              0                 0.0\n",
       "6     Volume              0                 0.0"
      ]
     },
     "execution_count": 51,
     "metadata": {},
     "output_type": "execute_result"
    }
   ],
   "source": [
    "def missing_data(Data):\n",
    "    missing_data_count = Data.isnull().sum()*100 / Data.shape[0]\n",
    "    Data_missing_count = pd.DataFrame(missing_data_count).round(2)\n",
    "    Data_missing_count = Data_missing_count.reset_index().rename(\n",
    "               columns= {\n",
    "                       'index': 'Column',\n",
    "                        0 : 'Missing_Percentage',\n",
    "               }\n",
    ")\n",
    "    Data_missing_value = Data.isnull().sum()\n",
    "    Data_missing_value = Data_missing_value.reset_index().rename(\n",
    "                columns= {\n",
    "                    'index': 'Column',\n",
    "                     0: 'Missing_Count',\n",
    "                }\n",
    ")\n",
    "    Final = Data_missing_value.merge(Data_missing_count,how = 'inner', left_on = 'Column', right_on = 'Column')  \n",
    "    Final = Final.sort_values(by = 'Missing_Count', ascending = False)\n",
    "    return Final\n",
    "\n",
    "missing_data(Data)"
   ]
  },
  {
   "cell_type": "code",
   "execution_count": 52,
   "metadata": {},
   "outputs": [
    {
     "name": "stdout",
     "output_type": "stream",
     "text": [
      "<class 'pandas.core.frame.DataFrame'>\n",
      "RangeIndex: 4431 entries, 0 to 4430\n",
      "Data columns (total 7 columns):\n",
      " #   Column     Non-Null Count  Dtype  \n",
      "---  ------     --------------  -----  \n",
      " 0   Date       4431 non-null   object \n",
      " 1   Open       4431 non-null   float64\n",
      " 2   High       4431 non-null   float64\n",
      " 3   Low        4431 non-null   float64\n",
      " 4   Close      4431 non-null   float64\n",
      " 5   Adj Close  4431 non-null   float64\n",
      " 6   Volume     4431 non-null   int64  \n",
      "dtypes: float64(5), int64(1), object(1)\n",
      "memory usage: 242.4+ KB\n"
     ]
    }
   ],
   "source": [
    "Data.info()"
   ]
  },
  {
   "cell_type": "code",
   "execution_count": 53,
   "metadata": {},
   "outputs": [
    {
     "data": {
      "text/html": [
       "<div>\n",
       "<style scoped>\n",
       "    .dataframe tbody tr th:only-of-type {\n",
       "        vertical-align: middle;\n",
       "    }\n",
       "\n",
       "    .dataframe tbody tr th {\n",
       "        vertical-align: top;\n",
       "    }\n",
       "\n",
       "    .dataframe thead th {\n",
       "        text-align: right;\n",
       "    }\n",
       "</style>\n",
       "<table border=\"1\" class=\"dataframe\">\n",
       "  <thead>\n",
       "    <tr style=\"text-align: right;\">\n",
       "      <th></th>\n",
       "      <th>Open</th>\n",
       "      <th>High</th>\n",
       "      <th>Low</th>\n",
       "      <th>Close</th>\n",
       "      <th>Adj Close</th>\n",
       "      <th>Volume</th>\n",
       "    </tr>\n",
       "  </thead>\n",
       "  <tbody>\n",
       "    <tr>\n",
       "      <th>count</th>\n",
       "      <td>4431.000000</td>\n",
       "      <td>4431.000000</td>\n",
       "      <td>4431.000000</td>\n",
       "      <td>4431.000000</td>\n",
       "      <td>4431.000000</td>\n",
       "      <td>4.431000e+03</td>\n",
       "    </tr>\n",
       "    <tr>\n",
       "      <th>mean</th>\n",
       "      <td>693.087345</td>\n",
       "      <td>699.735595</td>\n",
       "      <td>686.078751</td>\n",
       "      <td>693.097367</td>\n",
       "      <td>693.097367</td>\n",
       "      <td>6.444992e+06</td>\n",
       "    </tr>\n",
       "    <tr>\n",
       "      <th>std</th>\n",
       "      <td>645.118799</td>\n",
       "      <td>651.331215</td>\n",
       "      <td>638.579488</td>\n",
       "      <td>645.187806</td>\n",
       "      <td>645.187806</td>\n",
       "      <td>7.690351e+06</td>\n",
       "    </tr>\n",
       "    <tr>\n",
       "      <th>min</th>\n",
       "      <td>49.644646</td>\n",
       "      <td>50.920921</td>\n",
       "      <td>48.028027</td>\n",
       "      <td>50.055054</td>\n",
       "      <td>50.055054</td>\n",
       "      <td>4.656000e+05</td>\n",
       "    </tr>\n",
       "    <tr>\n",
       "      <th>25%</th>\n",
       "      <td>248.558563</td>\n",
       "      <td>250.853355</td>\n",
       "      <td>245.813309</td>\n",
       "      <td>248.415916</td>\n",
       "      <td>248.415916</td>\n",
       "      <td>1.695600e+06</td>\n",
       "    </tr>\n",
       "    <tr>\n",
       "      <th>50%</th>\n",
       "      <td>434.924927</td>\n",
       "      <td>437.887878</td>\n",
       "      <td>432.687683</td>\n",
       "      <td>435.330322</td>\n",
       "      <td>435.330322</td>\n",
       "      <td>3.778418e+06</td>\n",
       "    </tr>\n",
       "    <tr>\n",
       "      <th>75%</th>\n",
       "      <td>1007.364990</td>\n",
       "      <td>1020.649994</td>\n",
       "      <td>997.274994</td>\n",
       "      <td>1007.790008</td>\n",
       "      <td>1007.790008</td>\n",
       "      <td>8.002390e+06</td>\n",
       "    </tr>\n",
       "    <tr>\n",
       "      <th>max</th>\n",
       "      <td>3025.000000</td>\n",
       "      <td>3030.929932</td>\n",
       "      <td>2977.979980</td>\n",
       "      <td>2996.770020</td>\n",
       "      <td>2996.770020</td>\n",
       "      <td>8.215117e+07</td>\n",
       "    </tr>\n",
       "  </tbody>\n",
       "</table>\n",
       "</div>"
      ],
      "text/plain": [
       "              Open         High          Low        Close    Adj Close  \\\n",
       "count  4431.000000  4431.000000  4431.000000  4431.000000  4431.000000   \n",
       "mean    693.087345   699.735595   686.078751   693.097367   693.097367   \n",
       "std     645.118799   651.331215   638.579488   645.187806   645.187806   \n",
       "min      49.644646    50.920921    48.028027    50.055054    50.055054   \n",
       "25%     248.558563   250.853355   245.813309   248.415916   248.415916   \n",
       "50%     434.924927   437.887878   432.687683   435.330322   435.330322   \n",
       "75%    1007.364990  1020.649994   997.274994  1007.790008  1007.790008   \n",
       "max    3025.000000  3030.929932  2977.979980  2996.770020  2996.770020   \n",
       "\n",
       "             Volume  \n",
       "count  4.431000e+03  \n",
       "mean   6.444992e+06  \n",
       "std    7.690351e+06  \n",
       "min    4.656000e+05  \n",
       "25%    1.695600e+06  \n",
       "50%    3.778418e+06  \n",
       "75%    8.002390e+06  \n",
       "max    8.215117e+07  "
      ]
     },
     "execution_count": 53,
     "metadata": {},
     "output_type": "execute_result"
    }
   ],
   "source": [
    "Data.describe()"
   ]
  },
  {
   "cell_type": "code",
   "execution_count": 54,
   "metadata": {},
   "outputs": [
    {
     "data": {
      "text/plain": [
       "4431"
      ]
     },
     "execution_count": 54,
     "metadata": {},
     "output_type": "execute_result"
    }
   ],
   "source": [
    "len(Data)"
   ]
  },
  {
   "cell_type": "code",
   "execution_count": 55,
   "metadata": {},
   "outputs": [],
   "source": [
    "Data['Date'] = pd.to_datetime(Data['Date'])\n",
    "Data.set_index('Date',inplace=True)"
   ]
  },
  {
   "cell_type": "code",
   "execution_count": 56,
   "metadata": {},
   "outputs": [
    {
     "data": {
      "text/plain": [
       "(4431, 6)"
      ]
     },
     "execution_count": 56,
     "metadata": {},
     "output_type": "execute_result"
    }
   ],
   "source": [
    "Data.shape"
   ]
  },
  {
   "cell_type": "code",
   "execution_count": 57,
   "metadata": {},
   "outputs": [
    {
     "data": {
      "image/png": "[encoded data removed]",
      "text/plain": [
       "<Figure size 1152x576 with 1 Axes>"
      ]
     },
     "metadata": {
      "needs_background": "light"
     },
     "output_type": "display_data"
    }
   ],
   "source": [
    "plt.figure(figsize=(16,8))\n",
    "plt.title('Close Price History')\n",
    "plt.plot(Data['Close'], color='red')\n",
    "plt.xlabel('Date', fontsize=18)\n",
    "plt.ylabel('Close Price USD', fontsize = 18)\n",
    "plt.show()"
   ]
  },
  {
   "cell_type": "code",
   "execution_count": 58,
   "metadata": {},
   "outputs": [
    {
     "data": {
      "text/html": [
       "<div>\n",
       "<style scoped>\n",
       "    .dataframe tbody tr th:only-of-type {\n",
       "        vertical-align: middle;\n",
       "    }\n",
       "\n",
       "    .dataframe tbody tr th {\n",
       "        vertical-align: top;\n",
       "    }\n",
       "\n",
       "    .dataframe thead th {\n",
       "        text-align: right;\n",
       "    }\n",
       "</style>\n",
       "<table border=\"1\" class=\"dataframe\">\n",
       "  <thead>\n",
       "    <tr style=\"text-align: right;\">\n",
       "      <th></th>\n",
       "      <th>Price</th>\n",
       "    </tr>\n",
       "    <tr>\n",
       "      <th>Date</th>\n",
       "      <th></th>\n",
       "    </tr>\n",
       "  </thead>\n",
       "  <tbody>\n",
       "    <tr>\n",
       "      <th>2004-08-19</th>\n",
       "      <td>50.220219</td>\n",
       "    </tr>\n",
       "    <tr>\n",
       "      <th>2004-08-20</th>\n",
       "      <td>54.209209</td>\n",
       "    </tr>\n",
       "    <tr>\n",
       "      <th>2004-08-23</th>\n",
       "      <td>54.754753</td>\n",
       "    </tr>\n",
       "    <tr>\n",
       "      <th>2004-08-24</th>\n",
       "      <td>52.487488</td>\n",
       "    </tr>\n",
       "    <tr>\n",
       "      <th>2004-08-25</th>\n",
       "      <td>53.053055</td>\n",
       "    </tr>\n",
       "    <tr>\n",
       "      <th>2004-08-26</th>\n",
       "      <td>54.009010</td>\n",
       "    </tr>\n",
       "    <tr>\n",
       "      <th>2004-08-27</th>\n",
       "      <td>53.128128</td>\n",
       "    </tr>\n",
       "    <tr>\n",
       "      <th>2004-08-30</th>\n",
       "      <td>51.056057</td>\n",
       "    </tr>\n",
       "    <tr>\n",
       "      <th>2004-08-31</th>\n",
       "      <td>51.236237</td>\n",
       "    </tr>\n",
       "    <tr>\n",
       "      <th>2004-09-01</th>\n",
       "      <td>50.175175</td>\n",
       "    </tr>\n",
       "  </tbody>\n",
       "</table>\n",
       "</div>"
      ],
      "text/plain": [
       "                Price\n",
       "Date                 \n",
       "2004-08-19  50.220219\n",
       "2004-08-20  54.209209\n",
       "2004-08-23  54.754753\n",
       "2004-08-24  52.487488\n",
       "2004-08-25  53.053055\n",
       "2004-08-26  54.009010\n",
       "2004-08-27  53.128128\n",
       "2004-08-30  51.056057\n",
       "2004-08-31  51.236237\n",
       "2004-09-01  50.175175"
      ]
     },
     "execution_count": 58,
     "metadata": {},
     "output_type": "execute_result"
    }
   ],
   "source": [
    "Shares_price = pd.DataFrame(Data[\"Close\"]).rename(columns={\"Close\": \"Price\"})  \n",
    "Shares_price.head(10)"
   ]
  },
  {
   "cell_type": "code",
   "execution_count": 59,
   "metadata": {},
   "outputs": [
    {
     "data": {
      "image/png": "[encoded data removed]",
      "text/plain": [
       "<Figure size 1152x504 with 1 Axes>"
      ]
     },
     "metadata": {
      "needs_background": "light"
     },
     "output_type": "display_data"
    }
   ],
   "source": [
    "import matplotlib.pyplot as plt\n",
    "Shares_price.plot(figsize=(16, 7))\n",
    "plt.xlabel('Date')\n",
    "plt.ylabel(\"Share Price\")\n",
    "plt.title(\"Price of Shares from 2004 to 2022\", fontsize=18)\n",
    "plt.legend(fontsize=14);"
   ]
  },
  {
   "cell_type": "code",
   "execution_count": 60,
   "metadata": {},
   "outputs": [
    {
     "data": {
      "text/plain": [
       "(array(['2004-08-19T00:00:00.000000000', '2004-08-20T00:00:00.000000000',\n",
       "        '2004-08-23T00:00:00.000000000', '2004-08-24T00:00:00.000000000',\n",
       "        '2004-08-25T00:00:00.000000000', '2004-08-26T00:00:00.000000000',\n",
       "        '2004-08-27T00:00:00.000000000', '2004-08-30T00:00:00.000000000',\n",
       "        '2004-08-31T00:00:00.000000000', '2004-09-01T00:00:00.000000000'],\n",
       "       dtype='datetime64[ns]'),\n",
       " array([50.220219, 54.209209, 54.754753, 52.487488, 53.053055, 54.00901 ,\n",
       "        53.128128, 51.056057, 51.236237, 50.175175]))"
      ]
     },
     "execution_count": 60,
     "metadata": {},
     "output_type": "execute_result"
    }
   ],
   "source": [
    "timesteps = Shares_price.index.to_numpy()\n",
    "prices = Shares_price[\"Price\"].to_numpy()\n",
    "\n",
    "timesteps[:10], prices[:10]"
   ]
  },
  {
   "cell_type": "code",
   "execution_count": 61,
   "metadata": {},
   "outputs": [
    {
     "data": {
      "text/plain": [
       "(3544, 887, 3544, 887)"
      ]
     },
     "execution_count": 61,
     "metadata": {},
     "output_type": "execute_result"
    }
   ],
   "source": [
    "# Create train and test splits the right way for time series data\n",
    "split_size = int(0.8 * len(prices)) # 80% train, 20% test\n",
    "\n",
    "# Create train data splits (everything before the split)\n",
    "X_train, y_train = timesteps[:split_size], prices[:split_size]\n",
    "\n",
    "# Create test data splits (everything after the split)\n",
    "X_test, y_test = timesteps[split_size:], prices[split_size:]\n",
    "\n",
    "len(X_train), len(X_test), len(y_train), len(y_test)"
   ]
  },
  {
   "cell_type": "code",
   "execution_count": 62,
   "metadata": {},
   "outputs": [
    {
     "data": {
      "image/png": "[encoded data removed]",
      "text/plain": [
       "<Figure size 720x504 with 1 Axes>"
      ]
     },
     "metadata": {
      "needs_background": "light"
     },
     "output_type": "display_data"
    }
   ],
   "source": [
    "# Plot correctly made splits\n",
    "plt.figure(figsize=(10, 7))\n",
    "plt.scatter(X_train, y_train, s=5, label=\"Train data\")\n",
    "plt.scatter(X_test, y_test, s=5, label=\"Test data\")\n",
    "plt.xlabel(\"Date\")\n",
    "plt.ylabel(\"Share Price\")\n",
    "plt.legend(fontsize=14)\n",
    "plt.show();"
   ]
  },
  {
   "cell_type": "code",
   "execution_count": 63,
   "metadata": {},
   "outputs": [],
   "source": [
    "def plot_time_series(timesteps, values, format='.', start=0, end=None, label=None):\n",
    "    \n",
    "  # Plot the series\n",
    "  plt.plot(timesteps[start:end], values[start:end], format, label=label)\n",
    "  plt.xlabel(\"Time\")\n",
    "  plt.ylabel(\"Share Price\")\n",
    "  if label:\n",
    "    plt.legend(fontsize=14) # make label bigger\n",
    "  plt.grid(True)"
   ]
  },
  {
   "cell_type": "code",
   "execution_count": 64,
   "metadata": {},
   "outputs": [
    {
     "data": {
      "image/png": "[encoded data removed]",
      "text/plain": [
       "<Figure size 720x504 with 1 Axes>"
      ]
     },
     "metadata": {
      "needs_background": "light"
     },
     "output_type": "display_data"
    }
   ],
   "source": [
    "plt.figure(figsize=(10, 7))\n",
    "plot_time_series(timesteps=X_train, values=y_train, label=\"Train data\")\n",
    "plot_time_series(timesteps=X_test, values=y_test, label=\"Test data\")"
   ]
  },
  {
   "cell_type": "code",
   "execution_count": 65,
   "metadata": {},
   "outputs": [],
   "source": [
    "HORIZON = 1 # predict one step at a time\n",
    "WINDOW_SIZE = 30 # use 30 timesteps in the past"
   ]
  },
  {
   "cell_type": "code",
   "execution_count": 66,
   "metadata": {},
   "outputs": [],
   "source": [
    "def get_labelled_windows(x, horizon=1):\n",
    "      \n",
    "  return x[:, :-horizon], x[:, -horizon:]"
   ]
  },
  {
   "cell_type": "code",
   "execution_count": 67,
   "metadata": {},
   "outputs": [
    {
     "name": "stdout",
     "output_type": "stream",
     "text": [
      "Window: [1 2 3 4 5 6 7] -> Label: 8\n"
     ]
    }
   ],
   "source": [
    "test_window, test_label = get_labelled_windows(tf.expand_dims(tf.range(8)+1, axis=0), horizon=HORIZON)\n",
    "print(f\"Window: {tf.squeeze(test_window).numpy()} -> Label: {tf.squeeze(test_label).numpy()}\")"
   ]
  },
  {
   "cell_type": "code",
   "execution_count": 68,
   "metadata": {},
   "outputs": [],
   "source": [
    "def make_windows(x, window_size=7, horizon=1):\n",
    "      \n",
    "  # 1. Create a window of specific window_size (add the horizon on the end for later labelling)\n",
    "  window_step = np.expand_dims(np.arange(window_size+horizon), axis=0)\n",
    "  # print(f\"Window step:\\n {window_step}\")\n",
    "\n",
    "  # 2. Create a 2D array of multiple window steps (minus 1 to account for 0 indexing)\n",
    "  window_indexes = window_step + np.expand_dims(np.arange(len(x)-(window_size+horizon-1)), axis=0).T # create 2D array of windows of size window_size\n",
    "  # print(f\"Window indexes:\\n {window_indexes[:3], window_indexes[-3:], window_indexes.shape}\")\n",
    "\n",
    "  # 3. Index on the target array (time series) with 2D array of multiple window steps\n",
    "  windowed_array = x[window_indexes]\n",
    "\n",
    "  # 4. Get the labelled windows\n",
    "  windows, labels = get_labelled_windows(windowed_array, horizon=horizon)\n",
    "\n",
    "  return windows, labels"
   ]
  },
  {
   "cell_type": "code",
   "execution_count": 69,
   "metadata": {},
   "outputs": [
    {
     "data": {
      "text/plain": [
       "(4401, 4401)"
      ]
     },
     "execution_count": 69,
     "metadata": {},
     "output_type": "execute_result"
    }
   ],
   "source": [
    "full_windows, full_labels = make_windows(prices, window_size=WINDOW_SIZE, horizon=HORIZON)\n",
    "len(full_windows), len(full_labels)"
   ]
  },
  {
   "cell_type": "code",
   "execution_count": 70,
   "metadata": {},
   "outputs": [
    {
     "name": "stdout",
     "output_type": "stream",
     "text": [
      "Window: [50.220219 54.209209 54.754753 52.487488 53.053055 54.00901  53.128128\n",
      " 51.056057 51.236237 50.175175 50.805805 50.055054 50.840839 51.201202\n",
      " 51.206207 52.717716 53.803802 55.8008   56.056057 57.042042 58.803802\n",
      " 59.739738 58.978977 59.249249 60.47047  59.974976 59.18919  63.493492\n",
      " 65.605606 64.864868] -> Label: [66.356354]\n",
      "Window: [54.209209 54.754753 52.487488 53.053055 54.00901  53.128128 51.056057\n",
      " 51.236237 50.175175 50.805805 50.055054 50.840839 51.201202 51.206207\n",
      " 52.717716 53.803802 55.8008   56.056057 57.042042 58.803802 59.739738\n",
      " 58.978977 59.249249 60.47047  59.974976 59.18919  63.493492 65.605606\n",
      " 64.864868 66.356354] -> Label: [67.597595]\n",
      "Window: [54.754753 52.487488 53.053055 54.00901  53.128128 51.056057 51.236237\n",
      " 50.175175 50.805805 50.055054 50.840839 51.201202 51.206207 52.717716\n",
      " 53.803802 55.8008   56.056057 57.042042 58.803802 59.739738 58.978977\n",
      " 59.249249 60.47047  59.974976 59.18919  63.493492 65.605606 64.864868\n",
      " 66.356354 67.597595] -> Label: [69.254257]\n"
     ]
    }
   ],
   "source": [
    "for i in range(3):\n",
    "  print(f\"Window: {full_windows[i]} -> Label: {full_labels[i]}\")"
   ]
  },
  {
   "cell_type": "code",
   "execution_count": 71,
   "metadata": {},
   "outputs": [
    {
     "name": "stdout",
     "output_type": "stream",
     "text": [
      "Window: [2784.02002  2787.97998  2831.840088 2772.399902 2685.649902 2710.52002\n",
      " 2732.169922 2754.76001  2650.780029 2608.060059 2596.27002  2551.76001\n",
      " 2653.820068 2689.189941 2701.139893 2681.22998  2691.429932 2677.98999\n",
      " 2638.129883 2527.570068 2542.090088 2668.399902 2648.590088 2597.409912\n",
      " 2519.02002  2583.959961 2665.610107 2676.780029 2722.51001  2722.030029] -> Label: [2797.360107]\n",
      "Window: [2787.97998  2831.840088 2772.399902 2685.649902 2710.52002  2732.169922\n",
      " 2754.76001  2650.780029 2608.060059 2596.27002  2551.76001  2653.820068\n",
      " 2689.189941 2701.139893 2681.22998  2691.429932 2677.98999  2638.129883\n",
      " 2527.570068 2542.090088 2668.399902 2648.590088 2597.409912 2519.02002\n",
      " 2583.959961 2665.610107 2676.780029 2722.51001  2722.030029 2797.360107] -> Label: [2765.51001]\n",
      "Window: [2831.840088 2772.399902 2685.649902 2710.52002  2732.169922 2754.76001\n",
      " 2650.780029 2608.060059 2596.27002  2551.76001  2653.820068 2689.189941\n",
      " 2701.139893 2681.22998  2691.429932 2677.98999  2638.129883 2527.570068\n",
      " 2542.090088 2668.399902 2648.590088 2597.409912 2519.02002  2583.959961\n",
      " 2665.610107 2676.780029 2722.51001  2722.030029 2797.360107 2765.51001 ] -> Label: [2831.439941]\n"
     ]
    }
   ],
   "source": [
    "for i in range(3):\n",
    "  print(f\"Window: {full_windows[i-3]} -> Label: {full_labels[i-3]}\")"
   ]
  },
  {
   "cell_type": "code",
   "execution_count": 72,
   "metadata": {},
   "outputs": [],
   "source": [
    "def mean_absolute_scaled_error(y_true, y_pred):\n",
    "      mae = tf.reduce_mean(tf.abs(y_true - y_pred))\n",
    "\n",
    "  # Find MAE of naive forecast (no seasonality)\n",
    "      mae_naive_no_season = tf.reduce_mean(tf.abs(y_true[1:] - y_true[:-1])) # our seasonality is 1 day (hence the shifting of 1 day)\n",
    "      return mae / mae_naive_no_season"
   ]
  },
  {
   "cell_type": "code",
   "execution_count": 73,
   "metadata": {},
   "outputs": [],
   "source": [
    "def evaluate_preds(y_true, y_pred):\n",
    "      # Make sure float32 (for metric calculations)\n",
    "  y_true = tf.cast(y_true, dtype=tf.float32)\n",
    "  y_pred = tf.cast(y_pred, dtype=tf.float32)\n",
    "\n",
    "  # Calculate various metrics\n",
    "  mae = tf.keras.metrics.mean_absolute_error(y_true, y_pred)\n",
    "  mse = tf.keras.metrics.mean_squared_error(y_true, y_pred) # puts and emphasis on outliers (all errors get squared)\n",
    "  rmse = tf.sqrt(mse)\n",
    "  mape = tf.keras.metrics.mean_absolute_percentage_error(y_true, y_pred)\n",
    "  mase = mean_absolute_scaled_error(y_true, y_pred)\n",
    "  \n",
    "  return {\"mae\": mae.numpy(),\n",
    "          \"mse\": mse.numpy(),\n",
    "          \"rmse\": rmse.numpy(),\n",
    "          \"mape\": mape.numpy(),\n",
    "          \"mase\": mase.numpy()}"
   ]
  },
  {
   "cell_type": "code",
   "execution_count": 74,
   "metadata": {},
   "outputs": [],
   "source": [
    "def make_train_test_splits(windows, labels, test_split=0.2):\n",
    "    \n",
    "  split_size = int(len(windows) * (1-test_split)) # this will default to 80% train/20% test\n",
    "  train_windows = windows[:split_size]\n",
    "  train_labels = labels[:split_size]\n",
    "  test_windows = windows[split_size:]\n",
    "  test_labels = labels[split_size:]\n",
    "  return train_windows, test_windows, train_labels, test_labels"
   ]
  },
  {
   "cell_type": "code",
   "execution_count": 75,
   "metadata": {},
   "outputs": [
    {
     "data": {
      "text/plain": [
       "(3520, 881, 3520, 881)"
      ]
     },
     "execution_count": 75,
     "metadata": {},
     "output_type": "execute_result"
    }
   ],
   "source": [
    "train_windows, test_windows, train_labels, test_labels = make_train_test_splits(full_windows, full_labels)\n",
    "len(train_windows), len(test_windows), len(train_labels), len(test_labels)"
   ]
  },
  {
   "cell_type": "code",
   "execution_count": 76,
   "metadata": {},
   "outputs": [
    {
     "data": {
      "text/plain": [
       "(array([[50.220219, 54.209209, 54.754753, 52.487488, 53.053055, 54.00901 ,\n",
       "         53.128128, 51.056057, 51.236237, 50.175175, 50.805805, 50.055054,\n",
       "         50.840839, 51.201202, 51.206207, 52.717716, 53.803802, 55.8008  ,\n",
       "         56.056057, 57.042042, 58.803802, 59.739738, 58.978977, 59.249249,\n",
       "         60.47047 , 59.974976, 59.18919 , 63.493492, 65.605606, 64.864868],\n",
       "        [54.209209, 54.754753, 52.487488, 53.053055, 54.00901 , 53.128128,\n",
       "         51.056057, 51.236237, 50.175175, 50.805805, 50.055054, 50.840839,\n",
       "         51.201202, 51.206207, 52.717716, 53.803802, 55.8008  , 56.056057,\n",
       "         57.042042, 58.803802, 59.739738, 58.978977, 59.249249, 60.47047 ,\n",
       "         59.974976, 59.18919 , 63.493492, 65.605606, 64.864868, 66.356354],\n",
       "        [54.754753, 52.487488, 53.053055, 54.00901 , 53.128128, 51.056057,\n",
       "         51.236237, 50.175175, 50.805805, 50.055054, 50.840839, 51.201202,\n",
       "         51.206207, 52.717716, 53.803802, 55.8008  , 56.056057, 57.042042,\n",
       "         58.803802, 59.739738, 58.978977, 59.249249, 60.47047 , 59.974976,\n",
       "         59.18919 , 63.493492, 65.605606, 64.864868, 66.356354, 67.597595],\n",
       "        [52.487488, 53.053055, 54.00901 , 53.128128, 51.056057, 51.236237,\n",
       "         50.175175, 50.805805, 50.055054, 50.840839, 51.201202, 51.206207,\n",
       "         52.717716, 53.803802, 55.8008  , 56.056057, 57.042042, 58.803802,\n",
       "         59.739738, 58.978977, 59.249249, 60.47047 , 59.974976, 59.18919 ,\n",
       "         63.493492, 65.605606, 64.864868, 66.356354, 67.597595, 69.254257],\n",
       "        [53.053055, 54.00901 , 53.128128, 51.056057, 51.236237, 50.175175,\n",
       "         50.805805, 50.055054, 50.840839, 51.201202, 51.206207, 52.717716,\n",
       "         53.803802, 55.8008  , 56.056057, 57.042042, 58.803802, 59.739738,\n",
       "         58.978977, 59.249249, 60.47047 , 59.974976, 59.18919 , 63.493492,\n",
       "         65.605606, 64.864868, 66.356354, 67.597595, 69.254257, 68.608612]]),\n",
       " array([[66.356354],\n",
       "        [67.597595],\n",
       "        [69.254257],\n",
       "        [68.608612],\n",
       "        [69.494492]]))"
      ]
     },
     "execution_count": 76,
     "metadata": {},
     "output_type": "execute_result"
    }
   ],
   "source": [
    "train_windows[:5], train_labels[:5]"
   ]
  },
  {
   "cell_type": "code",
   "execution_count": 77,
   "metadata": {},
   "outputs": [
    {
     "data": {
      "text/plain": [
       "False"
      ]
     },
     "execution_count": 77,
     "metadata": {},
     "output_type": "execute_result"
    }
   ],
   "source": [
    "np.array_equal(np.squeeze(train_labels[:-HORIZON-1]), y_train[WINDOW_SIZE:])"
   ]
  },
  {
   "cell_type": "code",
   "execution_count": 78,
   "metadata": {},
   "outputs": [],
   "source": [
    "import os\n",
    "\n",
    "# Create a function to implement a ModelCheckpoint callback with a specific filename \n",
    "def create_model_checkpoint(model_name, save_path=\"model_experiments\"):\n",
    "  return tf.keras.callbacks.ModelCheckpoint(filepath=os.path.join(save_path, model_name), # create filepath to save model\n",
    "                                            verbose=0, # only output a limited amount of text\n",
    "                                            save_best_only=True)"
   ]
  },
  {
   "cell_type": "code",
   "execution_count": 79,
   "metadata": {},
   "outputs": [
    {
     "name": "stdout",
     "output_type": "stream",
     "text": [
      "Epoch 1/100\n",
      "20/28 [====================>.........] - ETA: 0s - loss: 28.1705 - mae: 28.1705 INFO:tensorflow:Assets written to: model_experiments\\model_1_dense\\assets\n",
      "28/28 [==============================] - 4s 89ms/step - loss: 25.8334 - mae: 25.8334 - val_loss: 70.8082 - val_mae: 70.8082\n",
      "Epoch 2/100\n",
      "21/28 [=====================>........] - ETA: 0s - loss: 18.8274 - mae: 18.8274INFO:tensorflow:Assets written to: model_experiments\\model_1_dense\\assets\n",
      "28/28 [==============================] - 3s 111ms/step - loss: 18.0669 - mae: 18.0669 - val_loss: 67.1926 - val_mae: 67.1926\n",
      "Epoch 3/100\n",
      "18/28 [==================>...........] - ETA: 0s - loss: 15.3314 - mae: 15.3314INFO:tensorflow:Assets written to: model_experiments\\model_1_dense\\assets\n",
      "28/28 [==============================] - 3s 121ms/step - loss: 15.2303 - mae: 15.2303 - val_loss: 51.4239 - val_mae: 51.4239\n",
      "Epoch 4/100\n",
      "26/28 [==========================>...] - ETA: 0s - loss: 13.2808 - mae: 13.2808INFO:tensorflow:Assets written to: model_experiments\\model_1_dense\\assets\n",
      "28/28 [==============================] - 3s 114ms/step - loss: 13.1476 - mae: 13.1476 - val_loss: 47.5924 - val_mae: 47.5924\n",
      "Epoch 5/100\n",
      "28/28 [==============================] - 0s 14ms/step - loss: 11.6676 - mae: 11.6676 - val_loss: 51.6697 - val_mae: 51.6697\n",
      "Epoch 6/100\n",
      "23/28 [=======================>......] - ETA: 0s - loss: 11.4466 - mae: 11.4466INFO:tensorflow:Assets written to: model_experiments\\model_1_dense\\assets\n",
      "28/28 [==============================] - 4s 146ms/step - loss: 11.2021 - mae: 11.2021 - val_loss: 39.6112 - val_mae: 39.6112\n",
      "Epoch 7/100\n",
      "28/28 [==============================] - 0s 14ms/step - loss: 11.6043 - mae: 11.6043 - val_loss: 40.4705 - val_mae: 40.4705\n",
      "Epoch 8/100\n",
      "21/28 [=====================>........] - ETA: 0s - loss: 12.2963 - mae: 12.2963INFO:tensorflow:Assets written to: model_experiments\\model_1_dense\\assets\n",
      "28/28 [==============================] - 4s 143ms/step - loss: 11.8642 - mae: 11.8642 - val_loss: 37.3588 - val_mae: 37.3588\n",
      "Epoch 9/100\n",
      "28/28 [==============================] - 1s 27ms/step - loss: 9.6482 - mae: 9.6482 - val_loss: 39.9009 - val_mae: 39.9009\n",
      "Epoch 10/100\n",
      "28/28 [==============================] - 1s 39ms/step - loss: 9.7661 - mae: 9.7661 - val_loss: 47.4206 - val_mae: 47.4206\n",
      "Epoch 11/100\n",
      "24/28 [========================>.....] - ETA: 0s - loss: 10.4491 - mae: 10.4491INFO:tensorflow:Assets written to: model_experiments\\model_1_dense\\assets\n",
      "28/28 [==============================] - 3s 122ms/step - loss: 10.2162 - mae: 10.2162 - val_loss: 35.0063 - val_mae: 35.0063\n",
      "Epoch 12/100\n",
      "13/28 [============>.................] - ETA: 0s - loss: 10.7451 - mae: 10.7451INFO:tensorflow:Assets written to: model_experiments\\model_1_dense\\assets\n",
      "28/28 [==============================] - 6s 210ms/step - loss: 10.5470 - mae: 10.5470 - val_loss: 34.4349 - val_mae: 34.4349\n",
      "Epoch 13/100\n",
      "28/28 [==============================] - ETA: 0s - loss: 8.8593 - mae: 8.8593INFO:tensorflow:Assets written to: model_experiments\\model_1_dense\\assets\n",
      "28/28 [==============================] - 3s 99ms/step - loss: 8.8593 - mae: 8.8593 - val_loss: 33.4436 - val_mae: 33.4436\n",
      "Epoch 14/100\n",
      "28/28 [==============================] - 1s 20ms/step - loss: 8.9710 - mae: 8.9710 - val_loss: 33.8446 - val_mae: 33.8446\n",
      "Epoch 15/100\n",
      "28/28 [==============================] - 0s 17ms/step - loss: 12.0878 - mae: 12.0878 - val_loss: 33.7601 - val_mae: 33.7601\n",
      "Epoch 16/100\n",
      "28/28 [==============================] - 1s 26ms/step - loss: 9.3151 - mae: 9.3151 - val_loss: 39.4109 - val_mae: 39.4109\n",
      "Epoch 17/100\n",
      "28/28 [==============================] - 0s 12ms/step - loss: 9.9637 - mae: 9.9637 - val_loss: 33.8680 - val_mae: 33.8680\n",
      "Epoch 18/100\n",
      "28/28 [==============================] - 0s 7ms/step - loss: 8.5486 - mae: 8.5486 - val_loss: 47.2613 - val_mae: 47.2613\n",
      "Epoch 19/100\n",
      "28/28 [==============================] - 0s 14ms/step - loss: 8.4255 - mae: 8.4255 - val_loss: 36.7805 - val_mae: 36.7805\n",
      "Epoch 20/100\n",
      "22/28 [======================>.......] - ETA: 0s - loss: 9.7747 - mae: 9.7747INFO:tensorflow:Assets written to: model_experiments\\model_1_dense\\assets\n",
      "28/28 [==============================] - 2s 78ms/step - loss: 9.4671 - mae: 9.4671 - val_loss: 31.2403 - val_mae: 31.2403\n",
      "Epoch 21/100\n",
      "26/28 [==========================>...] - ETA: 0s - loss: 7.9519 - mae: 7.9519INFO:tensorflow:Assets written to: model_experiments\\model_1_dense\\assets\n",
      "28/28 [==============================] - 2s 89ms/step - loss: 7.9107 - mae: 7.9107 - val_loss: 30.4350 - val_mae: 30.4350\n",
      "Epoch 22/100\n",
      "28/28 [==============================] - 0s 11ms/step - loss: 7.9829 - mae: 7.9829 - val_loss: 34.8352 - val_mae: 34.8352\n",
      "Epoch 23/100\n",
      "28/28 [==============================] - 0s 9ms/step - loss: 11.0148 - mae: 11.0148 - val_loss: 32.3795 - val_mae: 32.3795\n",
      "Epoch 24/100\n",
      "28/28 [==============================] - 0s 12ms/step - loss: 9.0752 - mae: 9.0752 - val_loss: 44.9204 - val_mae: 44.9204\n",
      "Epoch 25/100\n",
      "28/28 [==============================] - 0s 10ms/step - loss: 11.3402 - mae: 11.3402 - val_loss: 44.9645 - val_mae: 44.9645\n",
      "Epoch 26/100\n",
      "28/28 [==============================] - 0s 11ms/step - loss: 9.5614 - mae: 9.5614 - val_loss: 35.4626 - val_mae: 35.4626\n",
      "Epoch 27/100\n",
      "25/28 [=========================>....] - ETA: 0s - loss: 9.4114 - mae: 9.4114 INFO:tensorflow:Assets written to: model_experiments\\model_1_dense\\assets\n",
      "28/28 [==============================] - 2s 60ms/step - loss: 9.1622 - mae: 9.1622 - val_loss: 30.0862 - val_mae: 30.0862\n",
      "Epoch 28/100\n",
      "28/28 [==============================] - 0s 9ms/step - loss: 8.5449 - mae: 8.5449 - val_loss: 31.7784 - val_mae: 31.7784\n",
      "Epoch 29/100\n",
      "28/28 [==============================] - 0s 8ms/step - loss: 8.6523 - mae: 8.6523 - val_loss: 32.3297 - val_mae: 32.3297\n",
      "Epoch 30/100\n",
      "28/28 [==============================] - 0s 8ms/step - loss: 7.6206 - mae: 7.6206 - val_loss: 39.4951 - val_mae: 39.4951\n",
      "Epoch 31/100\n",
      "28/28 [==============================] - 0s 5ms/step - loss: 8.6328 - mae: 8.6328 - val_loss: 41.0233 - val_mae: 41.0233\n",
      "Epoch 32/100\n",
      "28/28 [==============================] - 0s 5ms/step - loss: 8.6969 - mae: 8.6969 - val_loss: 65.3812 - val_mae: 65.3812\n",
      "Epoch 33/100\n",
      "28/28 [==============================] - 0s 10ms/step - loss: 8.8026 - mae: 8.8026 - val_loss: 32.1718 - val_mae: 32.1718\n",
      "Epoch 34/100\n",
      "28/28 [==============================] - 0s 9ms/step - loss: 9.8605 - mae: 9.8605 - val_loss: 55.8519 - val_mae: 55.8519\n",
      "Epoch 35/100\n",
      "19/28 [===================>..........] - ETA: 0s - loss: 9.9724 - mae: 9.9724  INFO:tensorflow:Assets written to: model_experiments\\model_1_dense\\assets\n",
      "28/28 [==============================] - 1s 40ms/step - loss: 9.1895 - mae: 9.1895 - val_loss: 30.0365 - val_mae: 30.0365\n",
      "Epoch 36/100\n",
      "28/28 [==============================] - 0s 8ms/step - loss: 9.0584 - mae: 9.0584 - val_loss: 46.8366 - val_mae: 46.8366\n",
      "Epoch 37/100\n",
      "20/28 [====================>.........] - ETA: 0s - loss: 9.9018 - mae: 9.9018  INFO:tensorflow:Assets written to: model_experiments\\model_1_dense\\assets\n",
      "28/28 [==============================] - 1s 45ms/step - loss: 9.1733 - mae: 9.1733 - val_loss: 29.9107 - val_mae: 29.9107\n",
      "Epoch 38/100\n",
      "23/28 [=======================>......] - ETA: 0s - loss: 6.9879 - mae: 6.9879INFO:tensorflow:Assets written to: model_experiments\\model_1_dense\\assets\n",
      "28/28 [==============================] - 1s 51ms/step - loss: 6.9217 - mae: 6.9217 - val_loss: 28.9712 - val_mae: 28.9712\n",
      "Epoch 39/100\n",
      "28/28 [==============================] - 0s 10ms/step - loss: 7.7483 - mae: 7.7483 - val_loss: 40.5884 - val_mae: 40.5884\n",
      "Epoch 40/100\n",
      "28/28 [==============================] - 0s 6ms/step - loss: 9.8289 - mae: 9.8289 - val_loss: 32.3774 - val_mae: 32.3774\n",
      "Epoch 41/100\n",
      "18/28 [==================>...........] - ETA: 0s - loss: 7.1827 - mae: 7.1827INFO:tensorflow:Assets written to: model_experiments\\model_1_dense\\assets\n",
      "28/28 [==============================] - 1s 44ms/step - loss: 7.2393 - mae: 7.2393 - val_loss: 27.5120 - val_mae: 27.5120\n",
      "Epoch 42/100\n",
      "28/28 [==============================] - 0s 6ms/step - loss: 7.6320 - mae: 7.6320 - val_loss: 30.1434 - val_mae: 30.1434\n",
      "Epoch 43/100\n",
      "28/28 [==============================] - 0s 5ms/step - loss: 7.3504 - mae: 7.3504 - val_loss: 29.1819 - val_mae: 29.1819\n",
      "Epoch 44/100\n",
      "17/28 [=================>............] - ETA: 0s - loss: 7.3138 - mae: 7.3138INFO:tensorflow:Assets written to: model_experiments\\model_1_dense\\assets\n",
      "28/28 [==============================] - 1s 35ms/step - loss: 7.4589 - mae: 7.4589 - val_loss: 27.1743 - val_mae: 27.1743\n",
      "Epoch 45/100\n",
      "28/28 [==============================] - 0s 10ms/step - loss: 7.6529 - mae: 7.6529 - val_loss: 27.5791 - val_mae: 27.5791\n",
      "Epoch 46/100\n",
      "28/28 [==============================] - 0s 13ms/step - loss: 8.2422 - mae: 8.2422 - val_loss: 28.5312 - val_mae: 28.5312\n",
      "Epoch 47/100\n",
      "28/28 [==============================] - 0s 7ms/step - loss: 7.2622 - mae: 7.2622 - val_loss: 31.6309 - val_mae: 31.6309\n",
      "Epoch 48/100\n",
      "28/28 [==============================] - 0s 17ms/step - loss: 8.4360 - mae: 8.4360 - val_loss: 31.8459 - val_mae: 31.8459\n",
      "Epoch 49/100\n",
      "28/28 [==============================] - 0s 10ms/step - loss: 9.5335 - mae: 9.5335 - val_loss: 43.3067 - val_mae: 43.3067\n",
      "Epoch 50/100\n",
      "11/28 [==========>...................] - ETA: 0s - loss: 9.5503 - mae: 9.5503  INFO:tensorflow:Assets written to: model_experiments\\model_1_dense\\assets\n",
      "28/28 [==============================] - 1s 43ms/step - loss: 7.9974 - mae: 7.9974 - val_loss: 26.7944 - val_mae: 26.7944\n",
      "Epoch 51/100\n",
      "28/28 [==============================] - 0s 10ms/step - loss: 7.2068 - mae: 7.2068 - val_loss: 34.1683 - val_mae: 34.1683\n",
      "Epoch 52/100\n",
      "28/28 [==============================] - 0s 10ms/step - loss: 8.3855 - mae: 8.3855 - val_loss: 26.8230 - val_mae: 26.8230\n",
      "Epoch 53/100\n",
      "28/28 [==============================] - 0s 5ms/step - loss: 6.5130 - mae: 6.5130 - val_loss: 26.9492 - val_mae: 26.9492\n",
      "Epoch 54/100\n",
      "23/28 [=======================>......] - ETA: 0s - loss: 7.5260 - mae: 7.5260INFO:tensorflow:Assets written to: model_experiments\\model_1_dense\\assets\n",
      "28/28 [==============================] - 1s 42ms/step - loss: 7.4344 - mae: 7.4344 - val_loss: 26.5566 - val_mae: 26.5566\n",
      "Epoch 55/100\n",
      "28/28 [==============================] - 0s 8ms/step - loss: 6.6888 - mae: 6.6888 - val_loss: 31.4723 - val_mae: 31.4723\n",
      "Epoch 56/100\n",
      "28/28 [==============================] - 0s 11ms/step - loss: 8.0749 - mae: 8.0749 - val_loss: 37.5963 - val_mae: 37.5963\n",
      "Epoch 57/100\n",
      "28/28 [==============================] - 0s 4ms/step - loss: 7.7979 - mae: 7.7979 - val_loss: 34.1553 - val_mae: 34.1553\n",
      "Epoch 58/100\n",
      "28/28 [==============================] - 0s 4ms/step - loss: 8.3222 - mae: 8.3222 - val_loss: 27.8247 - val_mae: 27.8247\n",
      "Epoch 59/100\n",
      "28/28 [==============================] - 0s 5ms/step - loss: 6.4751 - mae: 6.4751 - val_loss: 28.2215 - val_mae: 28.2215\n",
      "Epoch 60/100\n",
      "28/28 [==============================] - 0s 4ms/step - loss: 8.5099 - mae: 8.5099 - val_loss: 32.1813 - val_mae: 32.1813\n",
      "Epoch 61/100\n",
      "28/28 [==============================] - 0s 4ms/step - loss: 6.9621 - mae: 6.9621 - val_loss: 43.2997 - val_mae: 43.2997\n",
      "Epoch 62/100\n",
      "22/28 [======================>.......] - ETA: 0s - loss: 6.9551 - mae: 6.9551INFO:tensorflow:Assets written to: model_experiments\\model_1_dense\\assets\n",
      "28/28 [==============================] - 1s 31ms/step - loss: 6.8140 - mae: 6.8140 - val_loss: 26.1173 - val_mae: 26.1173\n",
      "Epoch 63/100\n",
      "28/28 [==============================] - 1s 20ms/step - loss: 8.6206 - mae: 8.6206 - val_loss: 37.4022 - val_mae: 37.4022\n",
      "Epoch 64/100\n",
      "28/28 [==============================] - 0s 8ms/step - loss: 8.5979 - mae: 8.5979 - val_loss: 31.5420 - val_mae: 31.5420\n",
      "Epoch 65/100\n",
      "17/28 [=================>............] - ETA: 0s - loss: 6.5735 - mae: 6.5735INFO:tensorflow:Assets written to: model_experiments\\model_1_dense\\assets\n",
      "28/28 [==============================] - 1s 32ms/step - loss: 6.4965 - mae: 6.4965 - val_loss: 25.8972 - val_mae: 25.8972\n",
      "Epoch 66/100\n",
      "28/28 [==============================] - 0s 5ms/step - loss: 6.6906 - mae: 6.6906 - val_loss: 31.4188 - val_mae: 31.4188\n",
      "Epoch 67/100\n",
      "28/28 [==============================] - 0s 4ms/step - loss: 8.7813 - mae: 8.7813 - val_loss: 27.9593 - val_mae: 27.9593\n",
      "Epoch 68/100\n",
      "28/28 [==============================] - 0s 4ms/step - loss: 7.1664 - mae: 7.1664 - val_loss: 27.7946 - val_mae: 27.7946\n",
      "Epoch 69/100\n",
      "28/28 [==============================] - 0s 4ms/step - loss: 6.8101 - mae: 6.8101 - val_loss: 44.3781 - val_mae: 44.3781\n",
      "Epoch 70/100\n",
      "28/28 [==============================] - 0s 6ms/step - loss: 9.7605 - mae: 9.7605 - val_loss: 39.5817 - val_mae: 39.5817\n",
      "Epoch 71/100\n",
      "28/28 [==============================] - 0s 5ms/step - loss: 8.9224 - mae: 8.9224 - val_loss: 35.1622 - val_mae: 35.1622\n",
      "Epoch 72/100\n",
      "21/28 [=====================>........] - ETA: 0s - loss: 9.0156 - mae: 9.0156 INFO:tensorflow:Assets written to: model_experiments\\model_1_dense\\assets\n",
      "28/28 [==============================] - 2s 61ms/step - loss: 9.1090 - mae: 9.1090 - val_loss: 25.6659 - val_mae: 25.6659\n",
      "Epoch 73/100\n",
      "28/28 [==============================] - 0s 8ms/step - loss: 6.6724 - mae: 6.6724 - val_loss: 25.7752 - val_mae: 25.7752\n",
      "Epoch 74/100\n",
      "28/28 [==============================] - 0s 10ms/step - loss: 7.8750 - mae: 7.8750 - val_loss: 26.5434 - val_mae: 26.5434\n",
      "Epoch 75/100\n",
      "28/28 [==============================] - 0s 6ms/step - loss: 8.3712 - mae: 8.3712 - val_loss: 29.1812 - val_mae: 29.1812\n",
      "Epoch 76/100\n",
      "28/28 [==============================] - 0s 5ms/step - loss: 6.6363 - mae: 6.6363 - val_loss: 43.6130 - val_mae: 43.6130\n",
      "Epoch 77/100\n",
      "28/28 [==============================] - 0s 5ms/step - loss: 7.9046 - mae: 7.9046 - val_loss: 25.7017 - val_mae: 25.7017\n",
      "Epoch 78/100\n",
      "28/28 [==============================] - 0s 6ms/step - loss: 6.3879 - mae: 6.3879 - val_loss: 26.6355 - val_mae: 26.6355\n",
      "Epoch 79/100\n",
      "28/28 [==============================] - 0s 5ms/step - loss: 6.5579 - mae: 6.5579 - val_loss: 29.6625 - val_mae: 29.6625\n",
      "Epoch 80/100\n",
      "28/28 [==============================] - 0s 4ms/step - loss: 6.4286 - mae: 6.4286 - val_loss: 32.9952 - val_mae: 32.9952\n",
      "Epoch 81/100\n",
      "28/28 [==============================] - 0s 5ms/step - loss: 8.6800 - mae: 8.6800 - val_loss: 26.6956 - val_mae: 26.6956\n",
      "Epoch 82/100\n",
      "28/28 [==============================] - 0s 12ms/step - loss: 6.5583 - mae: 6.5583 - val_loss: 30.7109 - val_mae: 30.7109\n",
      "Epoch 83/100\n",
      "28/28 [==============================] - 0s 7ms/step - loss: 8.9193 - mae: 8.9193 - val_loss: 29.6341 - val_mae: 29.6341\n",
      "Epoch 84/100\n",
      "18/28 [==================>...........] - ETA: 0s - loss: 8.7888 - mae: 8.7888INFO:tensorflow:Assets written to: model_experiments\\model_1_dense\\assets\n",
      "28/28 [==============================] - 1s 35ms/step - loss: 8.2565 - mae: 8.2565 - val_loss: 25.2852 - val_mae: 25.2852\n",
      "Epoch 85/100\n",
      "28/28 [==============================] - 0s 8ms/step - loss: 9.8098 - mae: 9.8098 - val_loss: 42.5284 - val_mae: 42.5284\n",
      "Epoch 86/100\n",
      "28/28 [==============================] - 0s 9ms/step - loss: 7.5987 - mae: 7.5987 - val_loss: 26.1491 - val_mae: 26.1491\n",
      "Epoch 87/100\n",
      "28/28 [==============================] - 0s 4ms/step - loss: 9.2007 - mae: 9.2007 - val_loss: 27.7234 - val_mae: 27.7234\n",
      "Epoch 88/100\n",
      "28/28 [==============================] - 0s 4ms/step - loss: 8.4197 - mae: 8.4197 - val_loss: 35.8666 - val_mae: 35.8666\n",
      "Epoch 89/100\n",
      "28/28 [==============================] - 0s 5ms/step - loss: 8.8008 - mae: 8.8008 - val_loss: 39.1112 - val_mae: 39.1112\n",
      "Epoch 90/100\n",
      "28/28 [==============================] - 0s 5ms/step - loss: 6.3747 - mae: 6.3747 - val_loss: 27.4091 - val_mae: 27.4091\n",
      "Epoch 91/100\n",
      "28/28 [==============================] - 0s 14ms/step - loss: 7.3990 - mae: 7.3990 - val_loss: 31.3429 - val_mae: 31.3429\n",
      "Epoch 92/100\n",
      "28/28 [==============================] - 0s 7ms/step - loss: 6.2449 - mae: 6.2449 - val_loss: 26.3318 - val_mae: 26.3318\n",
      "Epoch 93/100\n",
      "28/28 [==============================] - 0s 5ms/step - loss: 6.7786 - mae: 6.7786 - val_loss: 27.0209 - val_mae: 27.0209\n",
      "Epoch 94/100\n",
      "28/28 [==============================] - 0s 7ms/step - loss: 7.3732 - mae: 7.3732 - val_loss: 25.2937 - val_mae: 25.2937\n",
      "Epoch 95/100\n",
      "28/28 [==============================] - 0s 6ms/step - loss: 6.4432 - mae: 6.4432 - val_loss: 26.9770 - val_mae: 26.9770\n",
      "Epoch 96/100\n",
      "28/28 [==============================] - 0s 9ms/step - loss: 8.3551 - mae: 8.3551 - val_loss: 26.7151 - val_mae: 26.7151\n",
      "Epoch 97/100\n",
      "28/28 [==============================] - 0s 5ms/step - loss: 7.5201 - mae: 7.5201 - val_loss: 27.3569 - val_mae: 27.3569\n",
      "Epoch 98/100\n",
      "23/28 [=======================>......] - ETA: 0s - loss: 6.3190 - mae: 6.3190INFO:tensorflow:Assets written to: model_experiments\\model_1_dense\\assets\n",
      "28/28 [==============================] - 1s 29ms/step - loss: 6.2960 - mae: 6.2960 - val_loss: 25.2750 - val_mae: 25.2750\n",
      "Epoch 99/100\n",
      "28/28 [==============================] - 0s 11ms/step - loss: 6.2114 - mae: 6.2114 - val_loss: 31.0274 - val_mae: 31.0274\n",
      "Epoch 100/100\n",
      "28/28 [==============================] - 0s 7ms/step - loss: 8.7096 - mae: 8.7096 - val_loss: 25.8798 - val_mae: 25.8798\n"
     ]
    },
    {
     "data": {
      "text/plain": [
       "<keras.callbacks.History at 0x1a5a3662f40>"
      ]
     },
     "execution_count": 79,
     "metadata": {},
     "output_type": "execute_result"
    }
   ],
   "source": [
    "import tensorflow as tf\n",
    "from keras import layers\n",
    "\n",
    "# Set random seed for as reproducible results as possible\n",
    "tf.random.set_seed(42)\n",
    "\n",
    "# Construct model\n",
    "model_1 = tf.keras.Sequential([\n",
    "  layers.Dense(128, activation=\"relu\"),\n",
    "  layers.Dense(HORIZON, activation=\"linear\") # linear activation is the same as having no activation                        \n",
    "], name=\"model_1_dense\") # give the model a name so we can save it\n",
    "\n",
    "# Compile model\n",
    "model_1.compile(loss=\"mae\",\n",
    "                optimizer=tf.keras.optimizers.Adam(),\n",
    "                metrics=[\"mae\"]) # we don't necessarily need this when the loss function is already MAE\n",
    "\n",
    "# Fit model\n",
    "model_1.fit(x=train_windows, # train windows of 7 timesteps of Bitcoin prices\n",
    "            y=train_labels, # horizon value of 1 (using the previous 7 timesteps to predict next day)\n",
    "            epochs=100,\n",
    "            verbose=1,\n",
    "            batch_size=128,\n",
    "            validation_data=(test_windows, test_labels),\n",
    "            callbacks=[create_model_checkpoint(model_name=model_1.name)])"
   ]
  },
  {
   "cell_type": "code",
   "execution_count": 80,
   "metadata": {},
   "outputs": [
    {
     "name": "stdout",
     "output_type": "stream",
     "text": [
      "28/28 [==============================] - 0s 5ms/step - loss: 25.8798 - mae: 25.8798\n"
     ]
    },
    {
     "data": {
      "text/plain": [
       "[25.879785537719727, 25.879785537719727]"
      ]
     },
     "execution_count": 80,
     "metadata": {},
     "output_type": "execute_result"
    }
   ],
   "source": [
    "model_1.evaluate(test_windows, test_labels)"
   ]
  },
  {
   "cell_type": "code",
   "execution_count": 81,
   "metadata": {},
   "outputs": [
    {
     "name": "stdout",
     "output_type": "stream",
     "text": [
      "28/28 [==============================] - 0s 3ms/step - loss: 25.2750 - mae: 25.2750\n"
     ]
    },
    {
     "data": {
      "text/plain": [
       "[25.274965286254883, 25.274965286254883]"
      ]
     },
     "execution_count": 81,
     "metadata": {},
     "output_type": "execute_result"
    }
   ],
   "source": [
    "model_1 = tf.keras.models.load_model(\"model_experiments/model_1_dense\")\n",
    "model_1.evaluate(test_windows, test_labels)"
   ]
  },
  {
   "cell_type": "code",
   "execution_count": 82,
   "metadata": {},
   "outputs": [],
   "source": [
    "def make_preds(model, input_data):\n",
    "    \n",
    "  forecast = model.predict(input_data)\n",
    "  return tf.squeeze(forecast)"
   ]
  },
  {
   "cell_type": "code",
   "execution_count": 83,
   "metadata": {},
   "outputs": [
    {
     "name": "stdout",
     "output_type": "stream",
     "text": [
      "28/28 [==============================] - 0s 2ms/step\n"
     ]
    },
    {
     "data": {
      "text/plain": [
       "(881,\n",
       " <tf.Tensor: shape=(10,), dtype=float32, numpy=\n",
       " array([1183.3151, 1184.027 , 1191.0721, 1205.1763, 1203.4696, 1199.0289,\n",
       "        1208.4021, 1210.7723, 1188.6742, 1177.2635], dtype=float32)>)"
      ]
     },
     "execution_count": 83,
     "metadata": {},
     "output_type": "execute_result"
    }
   ],
   "source": [
    "model_1_preds = make_preds(model_1, test_windows)\n",
    "len(model_1_preds), model_1_preds[:10]"
   ]
  },
  {
   "cell_type": "code",
   "execution_count": 84,
   "metadata": {},
   "outputs": [
    {
     "data": {
      "text/plain": [
       "{'mae': 25.274967,\n",
       " 'mse': 1282.0963,\n",
       " 'rmse': 35.806374,\n",
       " 'mape': 1.485918,\n",
       " 'mase': 1.1367728}"
      ]
     },
     "execution_count": 84,
     "metadata": {},
     "output_type": "execute_result"
    }
   ],
   "source": [
    "model_1_results = evaluate_preds(y_true=tf.squeeze(test_labels), # reduce to right shape\n",
    "                                 y_pred=model_1_preds)\n",
    "model_1_results"
   ]
  },
  {
   "cell_type": "code",
   "execution_count": 85,
   "metadata": {},
   "outputs": [
    {
     "data": {
      "image/png": "[encoded data removed]",
      "text/plain": [
       "<Figure size 720x504 with 1 Axes>"
      ]
     },
     "metadata": {
      "needs_background": "light"
     },
     "output_type": "display_data"
    }
   ],
   "source": [
    "offset = 300\n",
    "plt.figure(figsize=(10, 7))\n",
    "# Account for the test_window offset and index into test_labels to ensure correct plotting\n",
    "plot_time_series(timesteps=X_test[-len(test_windows):], values=test_labels[:, 0], start=offset, label=\"Test_data\")\n",
    "plot_time_series(timesteps=X_test[-len(test_windows):], values=model_1_preds, start=offset, format=\"-\", label=\"model_1_preds\")"
   ]
  },
  {
   "cell_type": "code",
   "execution_count": 86,
   "metadata": {},
   "outputs": [],
   "source": [
    "HORIZON = 1 # predict one step at a time\n",
    "WINDOW_SIZE = 30 # use 30 timesteps in the past"
   ]
  },
  {
   "cell_type": "code",
   "execution_count": 87,
   "metadata": {},
   "outputs": [
    {
     "data": {
      "text/plain": [
       "(4401, 4401)"
      ]
     },
     "execution_count": 87,
     "metadata": {},
     "output_type": "execute_result"
    }
   ],
   "source": [
    "full_windows, full_labels = make_windows(prices, window_size=WINDOW_SIZE, horizon=HORIZON)\n",
    "len(full_windows), len(full_labels)"
   ]
  },
  {
   "cell_type": "code",
   "execution_count": 88,
   "metadata": {},
   "outputs": [
    {
     "name": "stdout",
     "output_type": "stream",
     "text": [
      "INFO:tensorflow:Assets written to: model_experiments\\model_2_dense\\assets\n",
      "INFO:tensorflow:Assets written to: model_experiments\\model_2_dense\\assets\n",
      "INFO:tensorflow:Assets written to: model_experiments\\model_2_dense\\assets\n",
      "INFO:tensorflow:Assets written to: model_experiments\\model_2_dense\\assets\n",
      "INFO:tensorflow:Assets written to: model_experiments\\model_2_dense\\assets\n",
      "INFO:tensorflow:Assets written to: model_experiments\\model_2_dense\\assets\n",
      "INFO:tensorflow:Assets written to: model_experiments\\model_2_dense\\assets\n",
      "INFO:tensorflow:Assets written to: model_experiments\\model_2_dense\\assets\n",
      "INFO:tensorflow:Assets written to: model_experiments\\model_2_dense\\assets\n",
      "INFO:tensorflow:Assets written to: model_experiments\\model_2_dense\\assets\n",
      "INFO:tensorflow:Assets written to: model_experiments\\model_2_dense\\assets\n",
      "INFO:tensorflow:Assets written to: model_experiments\\model_2_dense\\assets\n",
      "INFO:tensorflow:Assets written to: model_experiments\\model_2_dense\\assets\n",
      "INFO:tensorflow:Assets written to: model_experiments\\model_2_dense\\assets\n",
      "INFO:tensorflow:Assets written to: model_experiments\\model_2_dense\\assets\n",
      "INFO:tensorflow:Assets written to: model_experiments\\model_2_dense\\assets\n",
      "INFO:tensorflow:Assets written to: model_experiments\\model_2_dense\\assets\n",
      "INFO:tensorflow:Assets written to: model_experiments\\model_2_dense\\assets\n",
      "INFO:tensorflow:Assets written to: model_experiments\\model_2_dense\\assets\n",
      "INFO:tensorflow:Assets written to: model_experiments\\model_2_dense\\assets\n",
      "INFO:tensorflow:Assets written to: model_experiments\\model_2_dense\\assets\n",
      "INFO:tensorflow:Assets written to: model_experiments\\model_2_dense\\assets\n",
      "INFO:tensorflow:Assets written to: model_experiments\\model_2_dense\\assets\n",
      "INFO:tensorflow:Assets written to: model_experiments\\model_2_dense\\assets\n",
      "INFO:tensorflow:Assets written to: model_experiments\\model_2_dense\\assets\n",
      "INFO:tensorflow:Assets written to: model_experiments\\model_2_dense\\assets\n",
      "INFO:tensorflow:Assets written to: model_experiments\\model_2_dense\\assets\n",
      "INFO:tensorflow:Assets written to: model_experiments\\model_2_dense\\assets\n",
      "INFO:tensorflow:Assets written to: model_experiments\\model_2_dense\\assets\n"
     ]
    },
    {
     "data": {
      "text/plain": [
       "<keras.callbacks.History at 0x1a5a328bf10>"
      ]
     },
     "execution_count": 88,
     "metadata": {},
     "output_type": "execute_result"
    }
   ],
   "source": [
    "tf.random.set_seed(42)\n",
    "\n",
    "# Create model (same model as model 1 but data input will be different)\n",
    "model_2 = tf.keras.Sequential([\n",
    "  layers.Dense(128, activation=\"relu\"),\n",
    "  layers.Dense(HORIZON) # need to predict horizon number of steps into the future\n",
    "], name=\"model_2_dense\")\n",
    "\n",
    "model_2.compile(loss=\"mae\",\n",
    "                optimizer=tf.keras.optimizers.Adam())\n",
    "\n",
    "model_2.fit(train_windows,\n",
    "            train_labels,\n",
    "            epochs=100,\n",
    "            batch_size=128,\n",
    "            verbose=0,\n",
    "            validation_data=(test_windows, test_labels),\n",
    "            callbacks=[create_model_checkpoint(model_name=model_2.name)])"
   ]
  },
  {
   "cell_type": "code",
   "execution_count": 89,
   "metadata": {},
   "outputs": [
    {
     "name": "stdout",
     "output_type": "stream",
     "text": [
      "28/28 [==============================] - 0s 2ms/step - loss: 35.9524\n"
     ]
    },
    {
     "data": {
      "text/plain": [
       "35.95236587524414"
      ]
     },
     "execution_count": 89,
     "metadata": {},
     "output_type": "execute_result"
    }
   ],
   "source": [
    "model_2.evaluate(test_windows, test_labels)"
   ]
  },
  {
   "cell_type": "code",
   "execution_count": 90,
   "metadata": {},
   "outputs": [
    {
     "name": "stdout",
     "output_type": "stream",
     "text": [
      "28/28 [==============================] - 0s 1ms/step - loss: 24.9266\n"
     ]
    },
    {
     "data": {
      "text/plain": [
       "24.926570892333984"
      ]
     },
     "execution_count": 90,
     "metadata": {},
     "output_type": "execute_result"
    }
   ],
   "source": [
    "model_2 = tf.keras.models.load_model(\"model_experiments/model_2_dense/\")\n",
    "model_2.evaluate(test_windows, test_labels)"
   ]
  },
  {
   "cell_type": "code",
   "execution_count": 91,
   "metadata": {},
   "outputs": [
    {
     "name": "stdout",
     "output_type": "stream",
     "text": [
      "28/28 [==============================] - 0s 1ms/step\n"
     ]
    }
   ],
   "source": [
    "model_2_preds = make_preds(model_2,\n",
    "                           input_data=test_windows)"
   ]
  },
  {
   "cell_type": "code",
   "execution_count": 92,
   "metadata": {},
   "outputs": [
    {
     "data": {
      "text/plain": [
       "{'mae': 24.926579,\n",
       " 'mse': 1304.5192,\n",
       " 'rmse': 36.11813,\n",
       " 'mape': 1.4764894,\n",
       " 'mase': 1.1211035}"
      ]
     },
     "execution_count": 92,
     "metadata": {},
     "output_type": "execute_result"
    }
   ],
   "source": [
    "model_2_results = evaluate_preds(y_true=tf.squeeze(test_labels), # remove 1 dimension of test labels\n",
    "                                 y_pred=model_2_preds)\n",
    "model_2_results"
   ]
  },
  {
   "cell_type": "code",
   "execution_count": 93,
   "metadata": {},
   "outputs": [
    {
     "data": {
      "image/png": "[encoded data removed]",
      "text/plain": [
       "<Figure size 720x504 with 1 Axes>"
      ]
     },
     "metadata": {
      "needs_background": "light"
     },
     "output_type": "display_data"
    }
   ],
   "source": [
    "offset = 300\n",
    "plt.figure(figsize=(10, 7))\n",
    "# Account for the test_window offset\n",
    "plot_time_series(timesteps=X_test[-len(test_windows):], values=test_labels[:, 0], start=offset, label=\"test_data\")\n",
    "plot_time_series(timesteps=X_test[-len(test_windows):], values=model_2_preds, start=offset, format=\"-\", label=\"model_2_preds\")"
   ]
  },
  {
   "cell_type": "code",
   "execution_count": 94,
   "metadata": {},
   "outputs": [],
   "source": [
    "# Block reward values\n",
    "block_reward_1 = 50 \n",
    "block_reward_2 = 25 \n",
    "block_reward_3 = 12.5 \n",
    "block_reward_4 = 6.25 \n",
    "\n",
    "block_reward_2_datetime = np.datetime64(\"2004-11-28\")\n",
    "block_reward_3_datetime = np.datetime64(\"2016-07-09\")\n",
    "block_reward_4_datetime = np.datetime64(\"2020-05-11\")"
   ]
  },
  {
   "cell_type": "code",
   "execution_count": 95,
   "metadata": {},
   "outputs": [
    {
     "data": {
      "text/plain": [
       "(4342, 5744)"
      ]
     },
     "execution_count": 95,
     "metadata": {},
     "output_type": "execute_result"
    }
   ],
   "source": [
    "# Get date indexes for when to add in different block dates\n",
    "block_reward_2_days = (block_reward_3_datetime - Shares_price.index[0]).days\n",
    "block_reward_3_days = (block_reward_4_datetime - Shares_price.index[0]).days\n",
    "block_reward_2_days, block_reward_3_days"
   ]
  },
  {
   "cell_type": "code",
   "execution_count": 96,
   "metadata": {},
   "outputs": [
    {
     "data": {
      "text/html": [
       "<div>\n",
       "<style scoped>\n",
       "    .dataframe tbody tr th:only-of-type {\n",
       "        vertical-align: middle;\n",
       "    }\n",
       "\n",
       "    .dataframe tbody tr th {\n",
       "        vertical-align: top;\n",
       "    }\n",
       "\n",
       "    .dataframe thead th {\n",
       "        text-align: right;\n",
       "    }\n",
       "</style>\n",
       "<table border=\"1\" class=\"dataframe\">\n",
       "  <thead>\n",
       "    <tr style=\"text-align: right;\">\n",
       "      <th></th>\n",
       "      <th>Price</th>\n",
       "      <th>block_reward</th>\n",
       "    </tr>\n",
       "    <tr>\n",
       "      <th>Date</th>\n",
       "      <th></th>\n",
       "      <th></th>\n",
       "    </tr>\n",
       "  </thead>\n",
       "  <tbody>\n",
       "    <tr>\n",
       "      <th>2004-08-19</th>\n",
       "      <td>50.220219</td>\n",
       "      <td>25</td>\n",
       "    </tr>\n",
       "    <tr>\n",
       "      <th>2004-08-20</th>\n",
       "      <td>54.209209</td>\n",
       "      <td>25</td>\n",
       "    </tr>\n",
       "    <tr>\n",
       "      <th>2004-08-23</th>\n",
       "      <td>54.754753</td>\n",
       "      <td>25</td>\n",
       "    </tr>\n",
       "    <tr>\n",
       "      <th>2004-08-24</th>\n",
       "      <td>52.487488</td>\n",
       "      <td>25</td>\n",
       "    </tr>\n",
       "    <tr>\n",
       "      <th>2004-08-25</th>\n",
       "      <td>53.053055</td>\n",
       "      <td>25</td>\n",
       "    </tr>\n",
       "  </tbody>\n",
       "</table>\n",
       "</div>"
      ],
      "text/plain": [
       "                Price block_reward\n",
       "Date                              \n",
       "2004-08-19  50.220219           25\n",
       "2004-08-20  54.209209           25\n",
       "2004-08-23  54.754753           25\n",
       "2004-08-24  52.487488           25\n",
       "2004-08-25  53.053055           25"
      ]
     },
     "execution_count": 96,
     "metadata": {},
     "output_type": "execute_result"
    }
   ],
   "source": [
    "# Add block_reward column\n",
    "Google_prices_block = Shares_price.copy()\n",
    "Google_prices_block[\"block_reward\"] = None\n",
    "\n",
    "# Set values of block_reward column (it's the last column hence -1 indexing on iloc)\n",
    "Google_prices_block.iloc[:block_reward_2_days, -1] = block_reward_2\n",
    "Google_prices_block.iloc[block_reward_2_days:block_reward_3_days, -1] = block_reward_3\n",
    "Google_prices_block.iloc[block_reward_3_days:, -1] = block_reward_4\n",
    "Google_prices_block.head()"
   ]
  },
  {
   "cell_type": "code",
   "execution_count": 97,
   "metadata": {},
   "outputs": [
    {
     "data": {
      "text/html": [
       "<div>\n",
       "<style scoped>\n",
       "    .dataframe tbody tr th:only-of-type {\n",
       "        vertical-align: middle;\n",
       "    }\n",
       "\n",
       "    .dataframe tbody tr th {\n",
       "        vertical-align: top;\n",
       "    }\n",
       "\n",
       "    .dataframe thead th {\n",
       "        text-align: right;\n",
       "    }\n",
       "</style>\n",
       "<table border=\"1\" class=\"dataframe\">\n",
       "  <thead>\n",
       "    <tr style=\"text-align: right;\">\n",
       "      <th></th>\n",
       "      <th>Price</th>\n",
       "      <th>block_reward</th>\n",
       "      <th>Price+1</th>\n",
       "      <th>Price+2</th>\n",
       "      <th>Price+3</th>\n",
       "      <th>Price+4</th>\n",
       "      <th>Price+5</th>\n",
       "      <th>Price+6</th>\n",
       "      <th>Price+7</th>\n",
       "      <th>Price+8</th>\n",
       "      <th>...</th>\n",
       "      <th>Price+21</th>\n",
       "      <th>Price+22</th>\n",
       "      <th>Price+23</th>\n",
       "      <th>Price+24</th>\n",
       "      <th>Price+25</th>\n",
       "      <th>Price+26</th>\n",
       "      <th>Price+27</th>\n",
       "      <th>Price+28</th>\n",
       "      <th>Price+29</th>\n",
       "      <th>Price+30</th>\n",
       "    </tr>\n",
       "    <tr>\n",
       "      <th>Date</th>\n",
       "      <th></th>\n",
       "      <th></th>\n",
       "      <th></th>\n",
       "      <th></th>\n",
       "      <th></th>\n",
       "      <th></th>\n",
       "      <th></th>\n",
       "      <th></th>\n",
       "      <th></th>\n",
       "      <th></th>\n",
       "      <th></th>\n",
       "      <th></th>\n",
       "      <th></th>\n",
       "      <th></th>\n",
       "      <th></th>\n",
       "      <th></th>\n",
       "      <th></th>\n",
       "      <th></th>\n",
       "      <th></th>\n",
       "      <th></th>\n",
       "      <th></th>\n",
       "    </tr>\n",
       "  </thead>\n",
       "  <tbody>\n",
       "    <tr>\n",
       "      <th>2004-08-19</th>\n",
       "      <td>50.220219</td>\n",
       "      <td>25</td>\n",
       "      <td>NaN</td>\n",
       "      <td>NaN</td>\n",
       "      <td>NaN</td>\n",
       "      <td>NaN</td>\n",
       "      <td>NaN</td>\n",
       "      <td>NaN</td>\n",
       "      <td>NaN</td>\n",
       "      <td>NaN</td>\n",
       "      <td>...</td>\n",
       "      <td>NaN</td>\n",
       "      <td>NaN</td>\n",
       "      <td>NaN</td>\n",
       "      <td>NaN</td>\n",
       "      <td>NaN</td>\n",
       "      <td>NaN</td>\n",
       "      <td>NaN</td>\n",
       "      <td>NaN</td>\n",
       "      <td>NaN</td>\n",
       "      <td>NaN</td>\n",
       "    </tr>\n",
       "    <tr>\n",
       "      <th>2004-08-20</th>\n",
       "      <td>54.209209</td>\n",
       "      <td>25</td>\n",
       "      <td>50.220219</td>\n",
       "      <td>NaN</td>\n",
       "      <td>NaN</td>\n",
       "      <td>NaN</td>\n",
       "      <td>NaN</td>\n",
       "      <td>NaN</td>\n",
       "      <td>NaN</td>\n",
       "      <td>NaN</td>\n",
       "      <td>...</td>\n",
       "      <td>NaN</td>\n",
       "      <td>NaN</td>\n",
       "      <td>NaN</td>\n",
       "      <td>NaN</td>\n",
       "      <td>NaN</td>\n",
       "      <td>NaN</td>\n",
       "      <td>NaN</td>\n",
       "      <td>NaN</td>\n",
       "      <td>NaN</td>\n",
       "      <td>NaN</td>\n",
       "    </tr>\n",
       "    <tr>\n",
       "      <th>2004-08-23</th>\n",
       "      <td>54.754753</td>\n",
       "      <td>25</td>\n",
       "      <td>54.209209</td>\n",
       "      <td>50.220219</td>\n",
       "      <td>NaN</td>\n",
       "      <td>NaN</td>\n",
       "      <td>NaN</td>\n",
       "      <td>NaN</td>\n",
       "      <td>NaN</td>\n",
       "      <td>NaN</td>\n",
       "      <td>...</td>\n",
       "      <td>NaN</td>\n",
       "      <td>NaN</td>\n",
       "      <td>NaN</td>\n",
       "      <td>NaN</td>\n",
       "      <td>NaN</td>\n",
       "      <td>NaN</td>\n",
       "      <td>NaN</td>\n",
       "      <td>NaN</td>\n",
       "      <td>NaN</td>\n",
       "      <td>NaN</td>\n",
       "    </tr>\n",
       "    <tr>\n",
       "      <th>2004-08-24</th>\n",
       "      <td>52.487488</td>\n",
       "      <td>25</td>\n",
       "      <td>54.754753</td>\n",
       "      <td>54.209209</td>\n",
       "      <td>50.220219</td>\n",
       "      <td>NaN</td>\n",
       "      <td>NaN</td>\n",
       "      <td>NaN</td>\n",
       "      <td>NaN</td>\n",
       "      <td>NaN</td>\n",
       "      <td>...</td>\n",
       "      <td>NaN</td>\n",
       "      <td>NaN</td>\n",
       "      <td>NaN</td>\n",
       "      <td>NaN</td>\n",
       "      <td>NaN</td>\n",
       "      <td>NaN</td>\n",
       "      <td>NaN</td>\n",
       "      <td>NaN</td>\n",
       "      <td>NaN</td>\n",
       "      <td>NaN</td>\n",
       "    </tr>\n",
       "    <tr>\n",
       "      <th>2004-08-25</th>\n",
       "      <td>53.053055</td>\n",
       "      <td>25</td>\n",
       "      <td>52.487488</td>\n",
       "      <td>54.754753</td>\n",
       "      <td>54.209209</td>\n",
       "      <td>50.220219</td>\n",
       "      <td>NaN</td>\n",
       "      <td>NaN</td>\n",
       "      <td>NaN</td>\n",
       "      <td>NaN</td>\n",
       "      <td>...</td>\n",
       "      <td>NaN</td>\n",
       "      <td>NaN</td>\n",
       "      <td>NaN</td>\n",
       "      <td>NaN</td>\n",
       "      <td>NaN</td>\n",
       "      <td>NaN</td>\n",
       "      <td>NaN</td>\n",
       "      <td>NaN</td>\n",
       "      <td>NaN</td>\n",
       "      <td>NaN</td>\n",
       "    </tr>\n",
       "    <tr>\n",
       "      <th>2004-08-26</th>\n",
       "      <td>54.009010</td>\n",
       "      <td>25</td>\n",
       "      <td>53.053055</td>\n",
       "      <td>52.487488</td>\n",
       "      <td>54.754753</td>\n",
       "      <td>54.209209</td>\n",
       "      <td>50.220219</td>\n",
       "      <td>NaN</td>\n",
       "      <td>NaN</td>\n",
       "      <td>NaN</td>\n",
       "      <td>...</td>\n",
       "      <td>NaN</td>\n",
       "      <td>NaN</td>\n",
       "      <td>NaN</td>\n",
       "      <td>NaN</td>\n",
       "      <td>NaN</td>\n",
       "      <td>NaN</td>\n",
       "      <td>NaN</td>\n",
       "      <td>NaN</td>\n",
       "      <td>NaN</td>\n",
       "      <td>NaN</td>\n",
       "    </tr>\n",
       "    <tr>\n",
       "      <th>2004-08-27</th>\n",
       "      <td>53.128128</td>\n",
       "      <td>25</td>\n",
       "      <td>54.009010</td>\n",
       "      <td>53.053055</td>\n",
       "      <td>52.487488</td>\n",
       "      <td>54.754753</td>\n",
       "      <td>54.209209</td>\n",
       "      <td>50.220219</td>\n",
       "      <td>NaN</td>\n",
       "      <td>NaN</td>\n",
       "      <td>...</td>\n",
       "      <td>NaN</td>\n",
       "      <td>NaN</td>\n",
       "      <td>NaN</td>\n",
       "      <td>NaN</td>\n",
       "      <td>NaN</td>\n",
       "      <td>NaN</td>\n",
       "      <td>NaN</td>\n",
       "      <td>NaN</td>\n",
       "      <td>NaN</td>\n",
       "      <td>NaN</td>\n",
       "    </tr>\n",
       "    <tr>\n",
       "      <th>2004-08-30</th>\n",
       "      <td>51.056057</td>\n",
       "      <td>25</td>\n",
       "      <td>53.128128</td>\n",
       "      <td>54.009010</td>\n",
       "      <td>53.053055</td>\n",
       "      <td>52.487488</td>\n",
       "      <td>54.754753</td>\n",
       "      <td>54.209209</td>\n",
       "      <td>50.220219</td>\n",
       "      <td>NaN</td>\n",
       "      <td>...</td>\n",
       "      <td>NaN</td>\n",
       "      <td>NaN</td>\n",
       "      <td>NaN</td>\n",
       "      <td>NaN</td>\n",
       "      <td>NaN</td>\n",
       "      <td>NaN</td>\n",
       "      <td>NaN</td>\n",
       "      <td>NaN</td>\n",
       "      <td>NaN</td>\n",
       "      <td>NaN</td>\n",
       "    </tr>\n",
       "    <tr>\n",
       "      <th>2004-08-31</th>\n",
       "      <td>51.236237</td>\n",
       "      <td>25</td>\n",
       "      <td>51.056057</td>\n",
       "      <td>53.128128</td>\n",
       "      <td>54.009010</td>\n",
       "      <td>53.053055</td>\n",
       "      <td>52.487488</td>\n",
       "      <td>54.754753</td>\n",
       "      <td>54.209209</td>\n",
       "      <td>50.220219</td>\n",
       "      <td>...</td>\n",
       "      <td>NaN</td>\n",
       "      <td>NaN</td>\n",
       "      <td>NaN</td>\n",
       "      <td>NaN</td>\n",
       "      <td>NaN</td>\n",
       "      <td>NaN</td>\n",
       "      <td>NaN</td>\n",
       "      <td>NaN</td>\n",
       "      <td>NaN</td>\n",
       "      <td>NaN</td>\n",
       "    </tr>\n",
       "    <tr>\n",
       "      <th>2004-09-01</th>\n",
       "      <td>50.175175</td>\n",
       "      <td>25</td>\n",
       "      <td>51.236237</td>\n",
       "      <td>51.056057</td>\n",
       "      <td>53.128128</td>\n",
       "      <td>54.009010</td>\n",
       "      <td>53.053055</td>\n",
       "      <td>52.487488</td>\n",
       "      <td>54.754753</td>\n",
       "      <td>54.209209</td>\n",
       "      <td>...</td>\n",
       "      <td>NaN</td>\n",
       "      <td>NaN</td>\n",
       "      <td>NaN</td>\n",
       "      <td>NaN</td>\n",
       "      <td>NaN</td>\n",
       "      <td>NaN</td>\n",
       "      <td>NaN</td>\n",
       "      <td>NaN</td>\n",
       "      <td>NaN</td>\n",
       "      <td>NaN</td>\n",
       "    </tr>\n",
       "  </tbody>\n",
       "</table>\n",
       "<p>10 rows × 32 columns</p>\n",
       "</div>"
      ],
      "text/plain": [
       "                Price block_reward    Price+1    Price+2    Price+3  \\\n",
       "Date                                                                  \n",
       "2004-08-19  50.220219           25        NaN        NaN        NaN   \n",
       "2004-08-20  54.209209           25  50.220219        NaN        NaN   \n",
       "2004-08-23  54.754753           25  54.209209  50.220219        NaN   \n",
       "2004-08-24  52.487488           25  54.754753  54.209209  50.220219   \n",
       "2004-08-25  53.053055           25  52.487488  54.754753  54.209209   \n",
       "2004-08-26  54.009010           25  53.053055  52.487488  54.754753   \n",
       "2004-08-27  53.128128           25  54.009010  53.053055  52.487488   \n",
       "2004-08-30  51.056057           25  53.128128  54.009010  53.053055   \n",
       "2004-08-31  51.236237           25  51.056057  53.128128  54.009010   \n",
       "2004-09-01  50.175175           25  51.236237  51.056057  53.128128   \n",
       "\n",
       "              Price+4    Price+5    Price+6    Price+7    Price+8  ...  \\\n",
       "Date                                                               ...   \n",
       "2004-08-19        NaN        NaN        NaN        NaN        NaN  ...   \n",
       "2004-08-20        NaN        NaN        NaN        NaN        NaN  ...   \n",
       "2004-08-23        NaN        NaN        NaN        NaN        NaN  ...   \n",
       "2004-08-24        NaN        NaN        NaN        NaN        NaN  ...   \n",
       "2004-08-25  50.220219        NaN        NaN        NaN        NaN  ...   \n",
       "2004-08-26  54.209209  50.220219        NaN        NaN        NaN  ...   \n",
       "2004-08-27  54.754753  54.209209  50.220219        NaN        NaN  ...   \n",
       "2004-08-30  52.487488  54.754753  54.209209  50.220219        NaN  ...   \n",
       "2004-08-31  53.053055  52.487488  54.754753  54.209209  50.220219  ...   \n",
       "2004-09-01  54.009010  53.053055  52.487488  54.754753  54.209209  ...   \n",
       "\n",
       "            Price+21  Price+22  Price+23  Price+24  Price+25  Price+26  \\\n",
       "Date                                                                     \n",
       "2004-08-19       NaN       NaN       NaN       NaN       NaN       NaN   \n",
       "2004-08-20       NaN       NaN       NaN       NaN       NaN       NaN   \n",
       "2004-08-23       NaN       NaN       NaN       NaN       NaN       NaN   \n",
       "2004-08-24       NaN       NaN       NaN       NaN       NaN       NaN   \n",
       "2004-08-25       NaN       NaN       NaN       NaN       NaN       NaN   \n",
       "2004-08-26       NaN       NaN       NaN       NaN       NaN       NaN   \n",
       "2004-08-27       NaN       NaN       NaN       NaN       NaN       NaN   \n",
       "2004-08-30       NaN       NaN       NaN       NaN       NaN       NaN   \n",
       "2004-08-31       NaN       NaN       NaN       NaN       NaN       NaN   \n",
       "2004-09-01       NaN       NaN       NaN       NaN       NaN       NaN   \n",
       "\n",
       "            Price+27  Price+28  Price+29  Price+30  \n",
       "Date                                                \n",
       "2004-08-19       NaN       NaN       NaN       NaN  \n",
       "2004-08-20       NaN       NaN       NaN       NaN  \n",
       "2004-08-23       NaN       NaN       NaN       NaN  \n",
       "2004-08-24       NaN       NaN       NaN       NaN  \n",
       "2004-08-25       NaN       NaN       NaN       NaN  \n",
       "2004-08-26       NaN       NaN       NaN       NaN  \n",
       "2004-08-27       NaN       NaN       NaN       NaN  \n",
       "2004-08-30       NaN       NaN       NaN       NaN  \n",
       "2004-08-31       NaN       NaN       NaN       NaN  \n",
       "2004-09-01       NaN       NaN       NaN       NaN  \n",
       "\n",
       "[10 rows x 32 columns]"
      ]
     },
     "execution_count": 97,
     "metadata": {},
     "output_type": "execute_result"
    }
   ],
   "source": [
    "Google_prices_windowed = Google_prices_block.copy()\n",
    "\n",
    "# Add windowed columns\n",
    "for i in range(WINDOW_SIZE): # Shift values for each step in WINDOW_SIZE\n",
    "  Google_prices_windowed[f\"Price+{i+1}\"] = Google_prices_windowed[\"Price\"].shift(periods=i+1)\n",
    "Google_prices_windowed.head(10)"
   ]
  },
  {
   "cell_type": "code",
   "execution_count": 98,
   "metadata": {},
   "outputs": [],
   "source": [
    "# Train model on entire data to make prediction for the next day \n",
    "X_all = Google_prices_windowed.drop([\"Price\", \"block_reward\"], axis=1).dropna().to_numpy() # only want prices, our future model can be a univariate model\n",
    "y_all = Google_prices_windowed.dropna()[\"Price\"].to_numpy()"
   ]
  },
  {
   "cell_type": "code",
   "execution_count": 99,
   "metadata": {},
   "outputs": [
    {
     "data": {
      "text/plain": [
       "<PrefetchDataset element_spec=(TensorSpec(shape=(None, 30), dtype=tf.float64, name=None), TensorSpec(shape=(None,), dtype=tf.float64, name=None))>"
      ]
     },
     "execution_count": 99,
     "metadata": {},
     "output_type": "execute_result"
    }
   ],
   "source": [
    "# 1. Turn X and y into tensor Datasets\n",
    "features_dataset_all = tf.data.Dataset.from_tensor_slices(X_all)\n",
    "labels_dataset_all = tf.data.Dataset.from_tensor_slices(y_all)\n",
    "\n",
    "# 2. Combine features & labels\n",
    "dataset_all = tf.data.Dataset.zip((features_dataset_all, labels_dataset_all))\n",
    "\n",
    "# 3. Batch and prefetch for optimal performance\n",
    "BATCH_SIZE = 1024 # taken from Appendix D in N-BEATS paper\n",
    "dataset_all = dataset_all.batch(BATCH_SIZE).prefetch(tf.data.AUTOTUNE)\n",
    "\n",
    "dataset_all"
   ]
  },
  {
   "cell_type": "code",
   "execution_count": 100,
   "metadata": {},
   "outputs": [
    {
     "data": {
      "text/plain": [
       "<keras.callbacks.History at 0x1a5a351aca0>"
      ]
     },
     "execution_count": 100,
     "metadata": {},
     "output_type": "execute_result"
    }
   ],
   "source": [
    "tf.random.set_seed(42)\n",
    "\n",
    "# Create model (nice and simple, just to test)\n",
    "model_3 = tf.keras.Sequential([\n",
    "  layers.Dense(128, activation=\"relu\"),\n",
    "  layers.Dense(128, activation=\"relu\"),\n",
    "  layers.Dense(HORIZON)\n",
    "])\n",
    "\n",
    "# Compile\n",
    "model_3.compile(loss=tf.keras.losses.mae,\n",
    "                optimizer=tf.keras.optimizers.Adam())\n",
    "\n",
    "# Fit model on all of the data to make future forecasts\n",
    "model_3.fit(dataset_all,\n",
    "            epochs=100,\n",
    "            verbose=0) # don't print out anything, we've seen this all before"
   ]
  },
  {
   "cell_type": "code",
   "execution_count": 142,
   "metadata": {},
   "outputs": [],
   "source": [
    "INTO_FUTURE = 17"
   ]
  },
  {
   "cell_type": "code",
   "execution_count": 143,
   "metadata": {},
   "outputs": [],
   "source": [
    "def make_future_forecast(values, model, into_future, window_size=WINDOW_SIZE) -> list:\n",
    "  \"\"\"\n",
    "  Makes future forecasts into_future steps after values ends.\n",
    "\n",
    "  Returns future forecasts as list of floats.\n",
    "  \"\"\"\n",
    "  # 2. Make an empty list for future forecasts/prepare data to forecast on\n",
    "  future_forecast = []\n",
    "  last_window = values[-WINDOW_SIZE:] # only want preds from the last window (this will get updated)\n",
    "\n",
    "  # 3. Make INTO_FUTURE number of predictions, altering the data which gets predicted on each time \n",
    "  for _ in range(into_future):\n",
    "    \n",
    "    # Predict on last window then append it again, again, again (model starts to make forecasts on its own forecasts)\n",
    "    future_pred = model.predict(tf.expand_dims(last_window, axis=0))\n",
    "    print(f\"Predicting on: \\n {last_window} -> Prediction: {tf.squeeze(future_pred).numpy()}\\n\")\n",
    "    \n",
    "    # Append predictions to future_forecast\n",
    "    future_forecast.append(tf.squeeze(future_pred).numpy())\n",
    "    # print(future_forecast)\n",
    "\n",
    "    # Update last window with new pred and get WINDOW_SIZE most recent preds (model was trained on WINDOW_SIZE windows)\n",
    "    last_window = np.append(last_window, future_pred)[-WINDOW_SIZE:]\n",
    "  \n",
    "  return future_forecast"
   ]
  },
  {
   "cell_type": "code",
   "execution_count": 144,
   "metadata": {},
   "outputs": [
    {
     "name": "stdout",
     "output_type": "stream",
     "text": [
      "1/1 [==============================] - 0s 90ms/step\n",
      "Predicting on: \n",
      " [2772.399902 2685.649902 2710.52002  2732.169922 2754.76001  2650.780029\n",
      " 2608.060059 2596.27002  2551.76001  2653.820068 2689.189941 2701.139893\n",
      " 2681.22998  2691.429932 2677.98999  2638.129883 2527.570068 2542.090088\n",
      " 2668.399902 2648.590088 2597.409912 2519.02002  2583.959961 2665.610107\n",
      " 2676.780029 2722.51001  2722.030029 2797.360107 2765.51001  2831.439941] -> Prediction: 2672.49267578125\n",
      "\n",
      "1/1 [==============================] - 0s 50ms/step\n",
      "Predicting on: \n",
      " [2685.649902   2710.52002    2732.169922   2754.76001    2650.780029\n",
      " 2608.060059   2596.27002    2551.76001    2653.820068   2689.189941\n",
      " 2701.139893   2681.22998    2691.429932   2677.98999    2638.129883\n",
      " 2527.570068   2542.090088   2668.399902   2648.590088   2597.409912\n",
      " 2519.02002    2583.959961   2665.610107   2676.780029   2722.51001\n",
      " 2722.030029   2797.360107   2765.51001    2831.439941   2672.49267578] -> Prediction: 2640.37451171875\n",
      "\n",
      "1/1 [==============================] - 0s 68ms/step\n",
      "Predicting on: \n",
      " [2710.52002    2732.169922   2754.76001    2650.780029   2608.060059\n",
      " 2596.27002    2551.76001    2653.820068   2689.189941   2701.139893\n",
      " 2681.22998    2691.429932   2677.98999    2638.129883   2527.570068\n",
      " 2542.090088   2668.399902   2648.590088   2597.409912   2519.02002\n",
      " 2583.959961   2665.610107   2676.780029   2722.51001    2722.030029\n",
      " 2797.360107   2765.51001    2831.439941   2672.49267578 2640.37451172] -> Prediction: 2647.70458984375\n",
      "\n",
      "1/1 [==============================] - 0s 56ms/step\n",
      "Predicting on: \n",
      " [2732.169922   2754.76001    2650.780029   2608.060059   2596.27002\n",
      " 2551.76001    2653.820068   2689.189941   2701.139893   2681.22998\n",
      " 2691.429932   2677.98999    2638.129883   2527.570068   2542.090088\n",
      " 2668.399902   2648.590088   2597.409912   2519.02002    2583.959961\n",
      " 2665.610107   2676.780029   2722.51001    2722.030029   2797.360107\n",
      " 2765.51001    2831.439941   2672.49267578 2640.37451172 2647.70458984] -> Prediction: 2672.143798828125\n",
      "\n",
      "1/1 [==============================] - 0s 42ms/step\n",
      "Predicting on: \n",
      " [2754.76001    2650.780029   2608.060059   2596.27002    2551.76001\n",
      " 2653.820068   2689.189941   2701.139893   2681.22998    2691.429932\n",
      " 2677.98999    2638.129883   2527.570068   2542.090088   2668.399902\n",
      " 2648.590088   2597.409912   2519.02002    2583.959961   2665.610107\n",
      " 2676.780029   2722.51001    2722.030029   2797.360107   2765.51001\n",
      " 2831.439941   2672.49267578 2640.37451172 2647.70458984 2672.14379883] -> Prediction: 2684.17724609375\n",
      "\n",
      "1/1 [==============================] - 0s 49ms/step\n",
      "Predicting on: \n",
      " [2650.780029   2608.060059   2596.27002    2551.76001    2653.820068\n",
      " 2689.189941   2701.139893   2681.22998    2691.429932   2677.98999\n",
      " 2638.129883   2527.570068   2542.090088   2668.399902   2648.590088\n",
      " 2597.409912   2519.02002    2583.959961   2665.610107   2676.780029\n",
      " 2722.51001    2722.030029   2797.360107   2765.51001    2831.439941\n",
      " 2672.49267578 2640.37451172 2647.70458984 2672.14379883 2684.17724609] -> Prediction: 2652.9267578125\n",
      "\n",
      "1/1 [==============================] - 0s 32ms/step\n",
      "Predicting on: \n",
      " [2608.060059   2596.27002    2551.76001    2653.820068   2689.189941\n",
      " 2701.139893   2681.22998    2691.429932   2677.98999    2638.129883\n",
      " 2527.570068   2542.090088   2668.399902   2648.590088   2597.409912\n",
      " 2519.02002    2583.959961   2665.610107   2676.780029   2722.51001\n",
      " 2722.030029   2797.360107   2765.51001    2831.439941   2672.49267578\n",
      " 2640.37451172 2647.70458984 2672.14379883 2684.17724609 2652.92675781] -> Prediction: 2634.44384765625\n",
      "\n",
      "1/1 [==============================] - 0s 34ms/step\n",
      "Predicting on: \n",
      " [2596.27002    2551.76001    2653.820068   2689.189941   2701.139893\n",
      " 2681.22998    2691.429932   2677.98999    2638.129883   2527.570068\n",
      " 2542.090088   2668.399902   2648.590088   2597.409912   2519.02002\n",
      " 2583.959961   2665.610107   2676.780029   2722.51001    2722.030029\n",
      " 2797.360107   2765.51001    2831.439941   2672.49267578 2640.37451172\n",
      " 2647.70458984 2672.14379883 2684.17724609 2652.92675781 2634.44384766] -> Prediction: 2610.2724609375\n",
      "\n",
      "1/1 [==============================] - 0s 29ms/step\n",
      "Predicting on: \n",
      " [2551.76001    2653.820068   2689.189941   2701.139893   2681.22998\n",
      " 2691.429932   2677.98999    2638.129883   2527.570068   2542.090088\n",
      " 2668.399902   2648.590088   2597.409912   2519.02002    2583.959961\n",
      " 2665.610107   2676.780029   2722.51001    2722.030029   2797.360107\n",
      " 2765.51001    2831.439941   2672.49267578 2640.37451172 2647.70458984\n",
      " 2672.14379883 2684.17724609 2652.92675781 2634.44384766 2610.27246094] -> Prediction: 2590.106689453125\n",
      "\n",
      "1/1 [==============================] - 0s 32ms/step\n",
      "Predicting on: \n",
      " [2653.820068   2689.189941   2701.139893   2681.22998    2691.429932\n",
      " 2677.98999    2638.129883   2527.570068   2542.090088   2668.399902\n",
      " 2648.590088   2597.409912   2519.02002    2583.959961   2665.610107\n",
      " 2676.780029   2722.51001    2722.030029   2797.360107   2765.51001\n",
      " 2831.439941   2672.49267578 2640.37451172 2647.70458984 2672.14379883\n",
      " 2684.17724609 2652.92675781 2634.44384766 2610.27246094 2590.10668945] -> Prediction: 2601.543212890625\n",
      "\n",
      "1/1 [==============================] - 0s 51ms/step\n",
      "Predicting on: \n",
      " [2689.189941   2701.139893   2681.22998    2691.429932   2677.98999\n",
      " 2638.129883   2527.570068   2542.090088   2668.399902   2648.590088\n",
      " 2597.409912   2519.02002    2583.959961   2665.610107   2676.780029\n",
      " 2722.51001    2722.030029   2797.360107   2765.51001    2831.439941\n",
      " 2672.49267578 2640.37451172 2647.70458984 2672.14379883 2684.17724609\n",
      " 2652.92675781 2634.44384766 2610.27246094 2590.10668945 2601.54321289] -> Prediction: 2611.45263671875\n",
      "\n",
      "1/1 [==============================] - 0s 75ms/step\n",
      "Predicting on: \n",
      " [2701.139893   2681.22998    2691.429932   2677.98999    2638.129883\n",
      " 2527.570068   2542.090088   2668.399902   2648.590088   2597.409912\n",
      " 2519.02002    2583.959961   2665.610107   2676.780029   2722.51001\n",
      " 2722.030029   2797.360107   2765.51001    2831.439941   2672.49267578\n",
      " 2640.37451172 2647.70458984 2672.14379883 2684.17724609 2652.92675781\n",
      " 2634.44384766 2610.27246094 2590.10668945 2601.54321289 2611.45263672] -> Prediction: 2626.58447265625\n",
      "\n",
      "1/1 [==============================] - 0s 53ms/step\n",
      "Predicting on: \n",
      " [2681.22998    2691.429932   2677.98999    2638.129883   2527.570068\n",
      " 2542.090088   2668.399902   2648.590088   2597.409912   2519.02002\n",
      " 2583.959961   2665.610107   2676.780029   2722.51001    2722.030029\n",
      " 2797.360107   2765.51001    2831.439941   2672.49267578 2640.37451172\n",
      " 2647.70458984 2672.14379883 2684.17724609 2652.92675781 2634.44384766\n",
      " 2610.27246094 2590.10668945 2601.54321289 2611.45263672 2626.58447266] -> Prediction: 2612.098876953125\n",
      "\n",
      "1/1 [==============================] - 0s 75ms/step\n",
      "Predicting on: \n",
      " [2691.429932   2677.98999    2638.129883   2527.570068   2542.090088\n",
      " 2668.399902   2648.590088   2597.409912   2519.02002    2583.959961\n",
      " 2665.610107   2676.780029   2722.51001    2722.030029   2797.360107\n",
      " 2765.51001    2831.439941   2672.49267578 2640.37451172 2647.70458984\n",
      " 2672.14379883 2684.17724609 2652.92675781 2634.44384766 2610.27246094\n",
      " 2590.10668945 2601.54321289 2611.45263672 2626.58447266 2612.09887695] -> Prediction: 2627.334228515625\n",
      "\n",
      "1/1 [==============================] - 0s 60ms/step\n",
      "Predicting on: \n",
      " [2677.98999    2638.129883   2527.570068   2542.090088   2668.399902\n",
      " 2648.590088   2597.409912   2519.02002    2583.959961   2665.610107\n",
      " 2676.780029   2722.51001    2722.030029   2797.360107   2765.51001\n",
      " 2831.439941   2672.49267578 2640.37451172 2647.70458984 2672.14379883\n",
      " 2684.17724609 2652.92675781 2634.44384766 2610.27246094 2590.10668945\n",
      " 2601.54321289 2611.45263672 2626.58447266 2612.09887695 2627.33422852] -> Prediction: 2616.771728515625\n",
      "\n",
      "1/1 [==============================] - 0s 50ms/step\n",
      "Predicting on: \n",
      " [2638.129883   2527.570068   2542.090088   2668.399902   2648.590088\n",
      " 2597.409912   2519.02002    2583.959961   2665.610107   2676.780029\n",
      " 2722.51001    2722.030029   2797.360107   2765.51001    2831.439941\n",
      " 2672.49267578 2640.37451172 2647.70458984 2672.14379883 2684.17724609\n",
      " 2652.92675781 2634.44384766 2610.27246094 2590.10668945 2601.54321289\n",
      " 2611.45263672 2626.58447266 2612.09887695 2627.33422852 2616.77172852] -> Prediction: 2612.459716796875\n",
      "\n",
      "1/1 [==============================] - 0s 47ms/step\n",
      "Predicting on: \n",
      " [2527.570068   2542.090088   2668.399902   2648.590088   2597.409912\n",
      " 2519.02002    2583.959961   2665.610107   2676.780029   2722.51001\n",
      " 2722.030029   2797.360107   2765.51001    2831.439941   2672.49267578\n",
      " 2640.37451172 2647.70458984 2672.14379883 2684.17724609 2652.92675781\n",
      " 2634.44384766 2610.27246094 2590.10668945 2601.54321289 2611.45263672\n",
      " 2626.58447266 2612.09887695 2627.33422852 2616.77172852 2612.4597168 ] -> Prediction: 2607.921630859375\n",
      "\n"
     ]
    }
   ],
   "source": [
    "future_forecast = make_future_forecast(values=y_all,\n",
    "                                       model=model_3,\n",
    "                                       into_future=INTO_FUTURE,\n",
    "                                       window_size=WINDOW_SIZE)\n"
   ]
  },
  {
   "cell_type": "code",
   "execution_count": 145,
   "metadata": {},
   "outputs": [
    {
     "data": {
      "text/plain": [
       "[2672.4927,\n",
       " 2640.3745,\n",
       " 2647.7046,\n",
       " 2672.1438,\n",
       " 2684.1772,\n",
       " 2652.9268,\n",
       " 2634.4438,\n",
       " 2610.2725,\n",
       " 2590.1067,\n",
       " 2601.5432]"
      ]
     },
     "execution_count": 145,
     "metadata": {},
     "output_type": "execute_result"
    }
   ],
   "source": [
    "future_forecast[:10]"
   ]
  },
  {
   "cell_type": "code",
   "execution_count": 146,
   "metadata": {},
   "outputs": [],
   "source": [
    "def get_future_dates(start_date, into_future, offset=1):\n",
    "      \n",
    "  start_date = start_date + np.timedelta64(offset, \"D\") # specify start date, \"D\" stands for day\n",
    "  end_date = start_date + np.timedelta64(into_future, \"D\") # specify end date\n",
    "  return np.arange(start_date, end_date, dtype=\"datetime64[D]\") # return a date range between start date and end date"
   ]
  },
  {
   "cell_type": "code",
   "execution_count": 147,
   "metadata": {},
   "outputs": [
    {
     "data": {
      "text/plain": [
       "Timestamp('2022-03-24 00:00:00')"
      ]
     },
     "execution_count": 147,
     "metadata": {},
     "output_type": "execute_result"
    }
   ],
   "source": [
    "# Last timestep of timesteps (currently in np.datetime64 format)\n",
    "last_timestep = Shares_price.index[-1]\n",
    "last_timestep"
   ]
  },
  {
   "cell_type": "code",
   "execution_count": 148,
   "metadata": {},
   "outputs": [
    {
     "data": {
      "text/plain": [
       "array(['2022-03-25', '2022-03-26', '2022-03-27', '2022-03-28',\n",
       "       '2022-03-29', '2022-03-30', '2022-03-31', '2022-04-01',\n",
       "       '2022-04-02', '2022-04-03', '2022-04-04', '2022-04-05',\n",
       "       '2022-04-06', '2022-04-07', '2022-04-08', '2022-04-09',\n",
       "       '2022-04-10'], dtype='datetime64[D]')"
      ]
     },
     "execution_count": 148,
     "metadata": {},
     "output_type": "execute_result"
    }
   ],
   "source": [
    "# Get next two weeks of timesteps\n",
    "next_time_steps = get_future_dates(start_date=last_timestep, \n",
    "                                   into_future=INTO_FUTURE)\n",
    "next_time_steps"
   ]
  },
  {
   "cell_type": "code",
   "execution_count": 150,
   "metadata": {},
   "outputs": [
    {
     "data": {
      "text/plain": [
       "([Timestamp('2022-03-24 00:00:00'),\n",
       "  Timestamp('2022-03-24 00:00:00'),\n",
       "  Timestamp('2022-03-24 00:00:00'),\n",
       "  Timestamp('2022-03-24 00:00:00'),\n",
       "  Timestamp('2022-03-24 00:00:00'),\n",
       "  Timestamp('2022-03-24 00:00:00'),\n",
       "  Timestamp('2022-03-24 00:00:00'),\n",
       "  Timestamp('2022-03-24 00:00:00'),\n",
       "  Timestamp('2022-03-24 00:00:00'),\n",
       "  Timestamp('2022-03-24 00:00:00')],\n",
       " [52.082081,\n",
       "  54.594597,\n",
       "  56.796799,\n",
       "  55.855858,\n",
       "  54.054054,\n",
       "  54.02903,\n",
       "  54.364365,\n",
       "  52.797798,\n",
       "  51.906906,\n",
       "  51.536537])"
      ]
     },
     "execution_count": 150,
     "metadata": {},
     "output_type": "execute_result"
    }
   ],
   "source": [
    "import csv\n",
    "from datetime import datetime\n",
    "\n",
    "timesteps = []\n",
    "Google_price = []\n",
    "with open(\"./GOOGL.csv\", \"r\") as f:\n",
    "  csv_reader = csv.reader(f, delimiter=\",\") # read in the target CSV\n",
    "  next(csv_reader) # skip first line (this gets rid of the column titles)\n",
    "  for line in csv_reader:\n",
    "    timesteps.append(Data.index[-1]) # get the dates as dates (not strings), strptime = string parse time\n",
    "    Google_price.append(float(line[2])) # get the closing price as float\n",
    "\n",
    "# View first 10 of each\n",
    "timesteps[:10], Google_price[:10]"
   ]
  },
  {
   "cell_type": "code",
   "execution_count": 151,
   "metadata": {},
   "outputs": [
    {
     "data": {
      "text/plain": [
       "(array(['2022-03-24', '2022-03-25', '2022-03-26', '2022-03-27',\n",
       "        '2022-03-28', '2022-03-29', '2022-03-30', '2022-03-31',\n",
       "        '2022-04-01', '2022-04-02', '2022-04-03', '2022-04-04',\n",
       "        '2022-04-05', '2022-04-06', '2022-04-07', '2022-04-08',\n",
       "        '2022-04-09', '2022-04-10'], dtype='datetime64[D]'),\n",
       " array([2832.38  , 2672.4927, 2640.3745, 2647.7046, 2672.1438, 2684.1772,\n",
       "        2652.9268, 2634.4438, 2610.2725, 2590.1067, 2601.5432, 2611.4526,\n",
       "        2626.5845, 2612.0989, 2627.3342, 2616.7717, 2612.4597, 2607.9216],\n",
       "       dtype=float32))"
      ]
     },
     "execution_count": 151,
     "metadata": {},
     "output_type": "execute_result"
    }
   ],
   "source": [
    "next_time_steps = np.insert(next_time_steps, 0, last_timestep)\n",
    "future_forecast = np.insert(future_forecast, 0, Google_price[-1])\n",
    "next_time_steps, future_forecast"
   ]
  },
  {
   "cell_type": "code",
   "execution_count": 152,
   "metadata": {},
   "outputs": [
    {
     "data": {
      "text/plain": [
       "(4431, 1)"
      ]
     },
     "execution_count": 152,
     "metadata": {},
     "output_type": "execute_result"
    }
   ],
   "source": [
    "Shares_price.shape"
   ]
  },
  {
   "cell_type": "code",
   "execution_count": 153,
   "metadata": {},
   "outputs": [
    {
     "data": {
      "text/plain": [
       "array(['2022-03-24', '2022-03-25', '2022-03-26', '2022-03-27',\n",
       "       '2022-03-28', '2022-03-29', '2022-03-30', '2022-03-31',\n",
       "       '2022-04-01', '2022-04-02', '2022-04-03', '2022-04-04',\n",
       "       '2022-04-05', '2022-04-06', '2022-04-07', '2022-04-08',\n",
       "       '2022-04-09', '2022-04-10'], dtype='datetime64[D]')"
      ]
     },
     "execution_count": 153,
     "metadata": {},
     "output_type": "execute_result"
    }
   ],
   "source": [
    "next_time_steps\n"
   ]
  },
  {
   "cell_type": "code",
   "execution_count": 165,
   "metadata": {},
   "outputs": [
    {
     "data": {
      "image/png": "[encoded data removed]",
      "text/plain": [
       "<Figure size 720x576 with 1 Axes>"
      ]
     },
     "metadata": {
      "needs_background": "light"
     },
     "output_type": "display_data"
    }
   ],
   "source": [
    "plt.figure(figsize=(10, 8))\n",
    "plot_time_series(Shares_price.index, Google_price, start=4300, format=\"-\", label=\"Actual Share Price\")\n",
    "plot_time_series(next_time_steps, future_forecast, format=\"-\", label=\"Predicted Share Price\")"
   ]
  },
  {
   "cell_type": "code",
   "execution_count": 166,
   "metadata": {},
   "outputs": [
    {
     "data": {
      "text/html": [
       "<div>\n",
       "<style scoped>\n",
       "    .dataframe tbody tr th:only-of-type {\n",
       "        vertical-align: middle;\n",
       "    }\n",
       "\n",
       "    .dataframe tbody tr th {\n",
       "        vertical-align: top;\n",
       "    }\n",
       "\n",
       "    .dataframe thead th {\n",
       "        text-align: right;\n",
       "    }\n",
       "</style>\n",
       "<table border=\"1\" class=\"dataframe\">\n",
       "  <thead>\n",
       "    <tr style=\"text-align: right;\">\n",
       "      <th></th>\n",
       "      <th>mae</th>\n",
       "      <th>mse</th>\n",
       "      <th>rmse</th>\n",
       "      <th>mape</th>\n",
       "      <th>mase</th>\n",
       "    </tr>\n",
       "  </thead>\n",
       "  <tbody>\n",
       "    <tr>\n",
       "      <th>model_1_dense_w7_h1</th>\n",
       "      <td>25.274967</td>\n",
       "      <td>1282.096313</td>\n",
       "      <td>35.806374</td>\n",
       "      <td>1.485918</td>\n",
       "      <td>1.136773</td>\n",
       "    </tr>\n",
       "    <tr>\n",
       "      <th>model_2_dense_w30_h1</th>\n",
       "      <td>24.926579</td>\n",
       "      <td>1304.519165</td>\n",
       "      <td>36.118130</td>\n",
       "      <td>1.476489</td>\n",
       "      <td>1.121104</td>\n",
       "    </tr>\n",
       "  </tbody>\n",
       "</table>\n",
       "</div>"
      ],
      "text/plain": [
       "                            mae          mse       rmse      mape      mase\n",
       "model_1_dense_w7_h1   25.274967  1282.096313  35.806374  1.485918  1.136773\n",
       "model_2_dense_w30_h1  24.926579  1304.519165  36.118130  1.476489  1.121104"
      ]
     },
     "execution_count": 166,
     "metadata": {},
     "output_type": "execute_result"
    }
   ],
   "source": [
    "model_results = pd.DataFrame({\"model_1_dense_w7_h1\": model_1_results,\n",
    "                              \"model_2_dense_w30_h1\": model_2_results,}).T\n",
    "model_results.head(10)"
   ]
  },
  {
   "cell_type": "code",
   "execution_count": 171,
   "metadata": {},
   "outputs": [
    {
     "data": {
      "image/png": "[encoded data removed]",
      "text/plain": [
       "<Figure size 720x360 with 1 Axes>"
      ]
     },
     "metadata": {
      "needs_background": "light"
     },
     "output_type": "display_data"
    }
   ],
   "source": [
    "model_results[[\"mae\"]].sort_values(by=\"mae\").plot(figsize=(10, 5), kind=\"bar\");"
   ]
  },
  {
   "cell_type": "code",
   "execution_count": null,
   "metadata": {},
   "outputs": [],
   "source": []
  }
 ],
 "metadata": {
  "kernelspec": {
   "display_name": "Python 3.9.6 64-bit",
   "language": "python",
   "name": "python3"
  },
  "language_info": {
   "codemirror_mode": {
    "name": "ipython",
    "version": 3
   },
   "file_extension": ".py",
   "mimetype": "text/x-python",
   "name": "python",
   "nbconvert_exporter": "python",
   "pygments_lexer": "ipython3",
   "version": "3.9.6"
  },
  "orig_nbformat": 4,
  "vscode": {
   "interpreter": {
    "hash": "11938c6bc6919ae2720b4d5011047913343b08a43b18698fd82dedb0d4417594"
   }
  }
 },
 "nbformat": 4,
 "nbformat_minor": 2
}
