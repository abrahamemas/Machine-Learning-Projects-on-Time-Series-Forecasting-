{
 "cells": [
  {
   "cell_type": "code",
   "execution_count": 609,
   "metadata": {},
   "outputs": [],
   "source": [
    "import numpy as np \n",
    "import pandas as pd \n",
    "import matplotlib.pyplot as plt\n",
    "import seaborn as sns\n",
    "import sklearn as sk\n",
    "import math\n",
    "import tensorflow as tf \n",
    "from sklearn.model_selection import train_test_split\n",
    "from tensorflow import keras\n",
    "from keras import layers"
   ]
  },
  {
   "cell_type": "code",
   "execution_count": 610,
   "metadata": {},
   "outputs": [
    {
     "data": {
      "text/html": [
       "<div>\n",
       "<style scoped>\n",
       "    .dataframe tbody tr th:only-of-type {\n",
       "        vertical-align: middle;\n",
       "    }\n",
       "\n",
       "    .dataframe tbody tr th {\n",
       "        vertical-align: top;\n",
       "    }\n",
       "\n",
       "    .dataframe thead th {\n",
       "        text-align: right;\n",
       "    }\n",
       "</style>\n",
       "<table border=\"1\" class=\"dataframe\">\n",
       "  <thead>\n",
       "    <tr style=\"text-align: right;\">\n",
       "      <th></th>\n",
       "      <th>Date</th>\n",
       "      <th>High</th>\n",
       "      <th>Low</th>\n",
       "      <th>Open</th>\n",
       "      <th>Close</th>\n",
       "      <th>Volume</th>\n",
       "      <th>Adj Close</th>\n",
       "    </tr>\n",
       "  </thead>\n",
       "  <tbody>\n",
       "    <tr>\n",
       "      <th>0</th>\n",
       "      <td>2002-05-23</td>\n",
       "      <td>1.242857</td>\n",
       "      <td>1.145714</td>\n",
       "      <td>1.156429</td>\n",
       "      <td>1.196429</td>\n",
       "      <td>104790000.0</td>\n",
       "      <td>1.196429</td>\n",
       "    </tr>\n",
       "    <tr>\n",
       "      <th>1</th>\n",
       "      <td>2002-05-24</td>\n",
       "      <td>1.225000</td>\n",
       "      <td>1.197143</td>\n",
       "      <td>1.214286</td>\n",
       "      <td>1.210000</td>\n",
       "      <td>11104800.0</td>\n",
       "      <td>1.210000</td>\n",
       "    </tr>\n",
       "    <tr>\n",
       "      <th>2</th>\n",
       "      <td>2002-05-28</td>\n",
       "      <td>1.232143</td>\n",
       "      <td>1.157143</td>\n",
       "      <td>1.213571</td>\n",
       "      <td>1.157143</td>\n",
       "      <td>6609400.0</td>\n",
       "      <td>1.157143</td>\n",
       "    </tr>\n",
       "    <tr>\n",
       "      <th>3</th>\n",
       "      <td>2002-05-29</td>\n",
       "      <td>1.164286</td>\n",
       "      <td>1.085714</td>\n",
       "      <td>1.164286</td>\n",
       "      <td>1.103571</td>\n",
       "      <td>6757800.0</td>\n",
       "      <td>1.103571</td>\n",
       "    </tr>\n",
       "    <tr>\n",
       "      <th>4</th>\n",
       "      <td>2002-05-30</td>\n",
       "      <td>1.107857</td>\n",
       "      <td>1.071429</td>\n",
       "      <td>1.107857</td>\n",
       "      <td>1.071429</td>\n",
       "      <td>10154200.0</td>\n",
       "      <td>1.071429</td>\n",
       "    </tr>\n",
       "    <tr>\n",
       "      <th>5</th>\n",
       "      <td>2002-05-31</td>\n",
       "      <td>1.078571</td>\n",
       "      <td>1.071429</td>\n",
       "      <td>1.078571</td>\n",
       "      <td>1.076429</td>\n",
       "      <td>8464400.0</td>\n",
       "      <td>1.076429</td>\n",
       "    </tr>\n",
       "    <tr>\n",
       "      <th>6</th>\n",
       "      <td>2002-06-03</td>\n",
       "      <td>1.149286</td>\n",
       "      <td>1.076429</td>\n",
       "      <td>1.080000</td>\n",
       "      <td>1.128571</td>\n",
       "      <td>3151400.0</td>\n",
       "      <td>1.128571</td>\n",
       "    </tr>\n",
       "    <tr>\n",
       "      <th>7</th>\n",
       "      <td>2002-06-04</td>\n",
       "      <td>1.140000</td>\n",
       "      <td>1.110714</td>\n",
       "      <td>1.135714</td>\n",
       "      <td>1.117857</td>\n",
       "      <td>3105200.0</td>\n",
       "      <td>1.117857</td>\n",
       "    </tr>\n",
       "    <tr>\n",
       "      <th>8</th>\n",
       "      <td>2002-06-05</td>\n",
       "      <td>1.159286</td>\n",
       "      <td>1.107143</td>\n",
       "      <td>1.110714</td>\n",
       "      <td>1.147143</td>\n",
       "      <td>1531600.0</td>\n",
       "      <td>1.147143</td>\n",
       "    </tr>\n",
       "    <tr>\n",
       "      <th>9</th>\n",
       "      <td>2002-06-06</td>\n",
       "      <td>1.232143</td>\n",
       "      <td>1.148571</td>\n",
       "      <td>1.150000</td>\n",
       "      <td>1.182143</td>\n",
       "      <td>2305800.0</td>\n",
       "      <td>1.182143</td>\n",
       "    </tr>\n",
       "  </tbody>\n",
       "</table>\n",
       "</div>"
      ],
      "text/plain": [
       "         Date      High       Low      Open     Close       Volume  Adj Close\n",
       "0  2002-05-23  1.242857  1.145714  1.156429  1.196429  104790000.0   1.196429\n",
       "1  2002-05-24  1.225000  1.197143  1.214286  1.210000   11104800.0   1.210000\n",
       "2  2002-05-28  1.232143  1.157143  1.213571  1.157143    6609400.0   1.157143\n",
       "3  2002-05-29  1.164286  1.085714  1.164286  1.103571    6757800.0   1.103571\n",
       "4  2002-05-30  1.107857  1.071429  1.107857  1.071429   10154200.0   1.071429\n",
       "5  2002-05-31  1.078571  1.071429  1.078571  1.076429    8464400.0   1.076429\n",
       "6  2002-06-03  1.149286  1.076429  1.080000  1.128571    3151400.0   1.128571\n",
       "7  2002-06-04  1.140000  1.110714  1.135714  1.117857    3105200.0   1.117857\n",
       "8  2002-06-05  1.159286  1.107143  1.110714  1.147143    1531600.0   1.147143\n",
       "9  2002-06-06  1.232143  1.148571  1.150000  1.182143    2305800.0   1.182143"
      ]
     },
     "execution_count": 610,
     "metadata": {},
     "output_type": "execute_result"
    }
   ],
   "source": [
    "data = pd.read_csv('netflix.csv')\n",
    "data.head(10)"
   ]
  },
  {
   "cell_type": "code",
   "execution_count": 611,
   "metadata": {},
   "outputs": [
    {
     "data": {
      "text/html": [
       "<div>\n",
       "<style scoped>\n",
       "    .dataframe tbody tr th:only-of-type {\n",
       "        vertical-align: middle;\n",
       "    }\n",
       "\n",
       "    .dataframe tbody tr th {\n",
       "        vertical-align: top;\n",
       "    }\n",
       "\n",
       "    .dataframe thead th {\n",
       "        text-align: right;\n",
       "    }\n",
       "</style>\n",
       "<table border=\"1\" class=\"dataframe\">\n",
       "  <thead>\n",
       "    <tr style=\"text-align: right;\">\n",
       "      <th></th>\n",
       "      <th>Date</th>\n",
       "      <th>High</th>\n",
       "      <th>Low</th>\n",
       "      <th>Open</th>\n",
       "      <th>Close</th>\n",
       "      <th>Volume</th>\n",
       "      <th>Adj Close</th>\n",
       "    </tr>\n",
       "  </thead>\n",
       "  <tbody>\n",
       "    <tr>\n",
       "      <th>4876</th>\n",
       "      <td>2021-10-05</td>\n",
       "      <td>640.390015</td>\n",
       "      <td>606.890015</td>\n",
       "      <td>606.940002</td>\n",
       "      <td>634.809998</td>\n",
       "      <td>9534300.0</td>\n",
       "      <td>634.809998</td>\n",
       "    </tr>\n",
       "    <tr>\n",
       "      <th>4877</th>\n",
       "      <td>2021-10-06</td>\n",
       "      <td>639.869995</td>\n",
       "      <td>626.359985</td>\n",
       "      <td>628.179993</td>\n",
       "      <td>639.099976</td>\n",
       "      <td>4580400.0</td>\n",
       "      <td>639.099976</td>\n",
       "    </tr>\n",
       "    <tr>\n",
       "      <th>4878</th>\n",
       "      <td>2021-10-07</td>\n",
       "      <td>646.840027</td>\n",
       "      <td>630.450012</td>\n",
       "      <td>642.229980</td>\n",
       "      <td>631.849976</td>\n",
       "      <td>3556900.0</td>\n",
       "      <td>631.849976</td>\n",
       "    </tr>\n",
       "    <tr>\n",
       "      <th>4879</th>\n",
       "      <td>2021-10-08</td>\n",
       "      <td>643.799988</td>\n",
       "      <td>630.859985</td>\n",
       "      <td>634.169983</td>\n",
       "      <td>632.659973</td>\n",
       "      <td>3271100.0</td>\n",
       "      <td>632.659973</td>\n",
       "    </tr>\n",
       "    <tr>\n",
       "      <th>4880</th>\n",
       "      <td>2021-10-11</td>\n",
       "      <td>639.419983</td>\n",
       "      <td>626.780029</td>\n",
       "      <td>633.200012</td>\n",
       "      <td>627.039978</td>\n",
       "      <td>2861200.0</td>\n",
       "      <td>627.039978</td>\n",
       "    </tr>\n",
       "  </tbody>\n",
       "</table>\n",
       "</div>"
      ],
      "text/plain": [
       "            Date        High         Low        Open       Close     Volume  \\\n",
       "4876  2021-10-05  640.390015  606.890015  606.940002  634.809998  9534300.0   \n",
       "4877  2021-10-06  639.869995  626.359985  628.179993  639.099976  4580400.0   \n",
       "4878  2021-10-07  646.840027  630.450012  642.229980  631.849976  3556900.0   \n",
       "4879  2021-10-08  643.799988  630.859985  634.169983  632.659973  3271100.0   \n",
       "4880  2021-10-11  639.419983  626.780029  633.200012  627.039978  2861200.0   \n",
       "\n",
       "       Adj Close  \n",
       "4876  634.809998  \n",
       "4877  639.099976  \n",
       "4878  631.849976  \n",
       "4879  632.659973  \n",
       "4880  627.039978  "
      ]
     },
     "execution_count": 611,
     "metadata": {},
     "output_type": "execute_result"
    }
   ],
   "source": [
    "data.tail()"
   ]
  },
  {
   "cell_type": "code",
   "execution_count": 612,
   "metadata": {},
   "outputs": [
    {
     "name": "stdout",
     "output_type": "stream",
     "text": [
      "<class 'pandas.core.frame.DataFrame'>\n",
      "RangeIndex: 4881 entries, 0 to 4880\n",
      "Data columns (total 7 columns):\n",
      " #   Column     Non-Null Count  Dtype  \n",
      "---  ------     --------------  -----  \n",
      " 0   Date       4881 non-null   object \n",
      " 1   High       4881 non-null   float64\n",
      " 2   Low        4881 non-null   float64\n",
      " 3   Open       4881 non-null   float64\n",
      " 4   Close      4881 non-null   float64\n",
      " 5   Volume     4881 non-null   float64\n",
      " 6   Adj Close  4881 non-null   float64\n",
      "dtypes: float64(6), object(1)\n",
      "memory usage: 267.1+ KB\n"
     ]
    }
   ],
   "source": [
    "data.info()"
   ]
  },
  {
   "cell_type": "code",
   "execution_count": 613,
   "metadata": {},
   "outputs": [
    {
     "data": {
      "text/html": [
       "<div>\n",
       "<style scoped>\n",
       "    .dataframe tbody tr th:only-of-type {\n",
       "        vertical-align: middle;\n",
       "    }\n",
       "\n",
       "    .dataframe tbody tr th {\n",
       "        vertical-align: top;\n",
       "    }\n",
       "\n",
       "    .dataframe thead th {\n",
       "        text-align: right;\n",
       "    }\n",
       "</style>\n",
       "<table border=\"1\" class=\"dataframe\">\n",
       "  <thead>\n",
       "    <tr style=\"text-align: right;\">\n",
       "      <th></th>\n",
       "      <th>High</th>\n",
       "      <th>Low</th>\n",
       "      <th>Open</th>\n",
       "      <th>Close</th>\n",
       "      <th>Volume</th>\n",
       "      <th>Adj Close</th>\n",
       "    </tr>\n",
       "  </thead>\n",
       "  <tbody>\n",
       "    <tr>\n",
       "      <th>count</th>\n",
       "      <td>4881.000000</td>\n",
       "      <td>4881.000000</td>\n",
       "      <td>4881.000000</td>\n",
       "      <td>4881.000000</td>\n",
       "      <td>4.881000e+03</td>\n",
       "      <td>4881.000000</td>\n",
       "    </tr>\n",
       "    <tr>\n",
       "      <th>mean</th>\n",
       "      <td>107.003361</td>\n",
       "      <td>103.742674</td>\n",
       "      <td>105.388477</td>\n",
       "      <td>105.434149</td>\n",
       "      <td>1.679949e+07</td>\n",
       "      <td>105.434149</td>\n",
       "    </tr>\n",
       "    <tr>\n",
       "      <th>std</th>\n",
       "      <td>159.326383</td>\n",
       "      <td>154.662309</td>\n",
       "      <td>157.007060</td>\n",
       "      <td>157.073188</td>\n",
       "      <td>1.936794e+07</td>\n",
       "      <td>157.073188</td>\n",
       "    </tr>\n",
       "    <tr>\n",
       "      <th>min</th>\n",
       "      <td>0.410714</td>\n",
       "      <td>0.346429</td>\n",
       "      <td>0.377857</td>\n",
       "      <td>0.372857</td>\n",
       "      <td>2.856000e+05</td>\n",
       "      <td>0.372857</td>\n",
       "    </tr>\n",
       "    <tr>\n",
       "      <th>25%</th>\n",
       "      <td>3.977143</td>\n",
       "      <td>3.838571</td>\n",
       "      <td>3.901429</td>\n",
       "      <td>3.906429</td>\n",
       "      <td>6.286300e+06</td>\n",
       "      <td>3.906429</td>\n",
       "    </tr>\n",
       "    <tr>\n",
       "      <th>50%</th>\n",
       "      <td>22.261429</td>\n",
       "      <td>21.150000</td>\n",
       "      <td>21.524286</td>\n",
       "      <td>21.632856</td>\n",
       "      <td>1.082310e+07</td>\n",
       "      <td>21.632856</td>\n",
       "    </tr>\n",
       "    <tr>\n",
       "      <th>75%</th>\n",
       "      <td>127.430000</td>\n",
       "      <td>123.589996</td>\n",
       "      <td>125.949997</td>\n",
       "      <td>125.389999</td>\n",
       "      <td>2.015640e+07</td>\n",
       "      <td>125.389999</td>\n",
       "    </tr>\n",
       "    <tr>\n",
       "      <th>max</th>\n",
       "      <td>646.840027</td>\n",
       "      <td>630.859985</td>\n",
       "      <td>642.229980</td>\n",
       "      <td>639.099976</td>\n",
       "      <td>3.234140e+08</td>\n",
       "      <td>639.099976</td>\n",
       "    </tr>\n",
       "  </tbody>\n",
       "</table>\n",
       "</div>"
      ],
      "text/plain": [
       "              High          Low         Open        Close        Volume  \\\n",
       "count  4881.000000  4881.000000  4881.000000  4881.000000  4.881000e+03   \n",
       "mean    107.003361   103.742674   105.388477   105.434149  1.679949e+07   \n",
       "std     159.326383   154.662309   157.007060   157.073188  1.936794e+07   \n",
       "min       0.410714     0.346429     0.377857     0.372857  2.856000e+05   \n",
       "25%       3.977143     3.838571     3.901429     3.906429  6.286300e+06   \n",
       "50%      22.261429    21.150000    21.524286    21.632856  1.082310e+07   \n",
       "75%     127.430000   123.589996   125.949997   125.389999  2.015640e+07   \n",
       "max     646.840027   630.859985   642.229980   639.099976  3.234140e+08   \n",
       "\n",
       "         Adj Close  \n",
       "count  4881.000000  \n",
       "mean    105.434149  \n",
       "std     157.073188  \n",
       "min       0.372857  \n",
       "25%       3.906429  \n",
       "50%      21.632856  \n",
       "75%     125.389999  \n",
       "max     639.099976  "
      ]
     },
     "execution_count": 613,
     "metadata": {},
     "output_type": "execute_result"
    }
   ],
   "source": [
    "data.describe()"
   ]
  },
  {
   "cell_type": "code",
   "execution_count": 614,
   "metadata": {},
   "outputs": [
    {
     "data": {
      "text/html": [
       "<div>\n",
       "<style scoped>\n",
       "    .dataframe tbody tr th:only-of-type {\n",
       "        vertical-align: middle;\n",
       "    }\n",
       "\n",
       "    .dataframe tbody tr th {\n",
       "        vertical-align: top;\n",
       "    }\n",
       "\n",
       "    .dataframe thead th {\n",
       "        text-align: right;\n",
       "    }\n",
       "</style>\n",
       "<table border=\"1\" class=\"dataframe\">\n",
       "  <thead>\n",
       "    <tr style=\"text-align: right;\">\n",
       "      <th></th>\n",
       "      <th>Column</th>\n",
       "      <th>Missing_Count</th>\n",
       "      <th>Missing_Percentage</th>\n",
       "    </tr>\n",
       "  </thead>\n",
       "  <tbody>\n",
       "    <tr>\n",
       "      <th>0</th>\n",
       "      <td>Date</td>\n",
       "      <td>0</td>\n",
       "      <td>0.0</td>\n",
       "    </tr>\n",
       "    <tr>\n",
       "      <th>1</th>\n",
       "      <td>High</td>\n",
       "      <td>0</td>\n",
       "      <td>0.0</td>\n",
       "    </tr>\n",
       "    <tr>\n",
       "      <th>2</th>\n",
       "      <td>Low</td>\n",
       "      <td>0</td>\n",
       "      <td>0.0</td>\n",
       "    </tr>\n",
       "    <tr>\n",
       "      <th>3</th>\n",
       "      <td>Open</td>\n",
       "      <td>0</td>\n",
       "      <td>0.0</td>\n",
       "    </tr>\n",
       "    <tr>\n",
       "      <th>4</th>\n",
       "      <td>Close</td>\n",
       "      <td>0</td>\n",
       "      <td>0.0</td>\n",
       "    </tr>\n",
       "    <tr>\n",
       "      <th>5</th>\n",
       "      <td>Volume</td>\n",
       "      <td>0</td>\n",
       "      <td>0.0</td>\n",
       "    </tr>\n",
       "    <tr>\n",
       "      <th>6</th>\n",
       "      <td>Adj Close</td>\n",
       "      <td>0</td>\n",
       "      <td>0.0</td>\n",
       "    </tr>\n",
       "  </tbody>\n",
       "</table>\n",
       "</div>"
      ],
      "text/plain": [
       "      Column  Missing_Count  Missing_Percentage\n",
       "0       Date              0                 0.0\n",
       "1       High              0                 0.0\n",
       "2        Low              0                 0.0\n",
       "3       Open              0                 0.0\n",
       "4      Close              0                 0.0\n",
       "5     Volume              0                 0.0\n",
       "6  Adj Close              0                 0.0"
      ]
     },
     "execution_count": 614,
     "metadata": {},
     "output_type": "execute_result"
    }
   ],
   "source": [
    "def missing_data(Data):\n",
    "    missing_data_count = Data.isnull().sum()*100 / Data.shape[0]\n",
    "    Data_missing_count = pd.DataFrame(missing_data_count).round(2)\n",
    "    Data_missing_count = Data_missing_count.reset_index().rename(\n",
    "               columns= {\n",
    "                       'index': 'Column',\n",
    "                        0 : 'Missing_Percentage',\n",
    "               }\n",
    ")\n",
    "    Data_missing_value = Data.isnull().sum()\n",
    "    Data_missing_value = Data_missing_value.reset_index().rename(\n",
    "                columns= {\n",
    "                    'index': 'Column',\n",
    "                     0: 'Missing_Count',\n",
    "                }\n",
    ")\n",
    "    Final = Data_missing_value.merge(Data_missing_count,how = 'inner', left_on = 'Column', right_on = 'Column')  \n",
    "    Final = Final.sort_values(by = 'Missing_Count', ascending = False)\n",
    "    return Final\n",
    "\n",
    "missing_data(data)"
   ]
  },
  {
   "cell_type": "code",
   "execution_count": 615,
   "metadata": {},
   "outputs": [
    {
     "data": {
      "text/plain": [
       "4881"
      ]
     },
     "execution_count": 615,
     "metadata": {},
     "output_type": "execute_result"
    }
   ],
   "source": [
    "len(data)"
   ]
  },
  {
   "cell_type": "code",
   "execution_count": 616,
   "metadata": {},
   "outputs": [],
   "source": [
    "data['Date'] = pd.to_datetime(data['Date'])\n",
    "data.set_index('Date', inplace=True)"
   ]
  },
  {
   "cell_type": "code",
   "execution_count": 617,
   "metadata": {},
   "outputs": [
    {
     "data": {
      "text/plain": [
       "(4881, 6)"
      ]
     },
     "execution_count": 617,
     "metadata": {},
     "output_type": "execute_result"
    }
   ],
   "source": [
    "data.shape"
   ]
  },
  {
   "cell_type": "code",
   "execution_count": 618,
   "metadata": {},
   "outputs": [
    {
     "data": {
      "image/png": "[encoded data removed]",
      "text/plain": [
       "<Figure size 1152x576 with 1 Axes>"
      ]
     },
     "metadata": {
      "needs_background": "light"
     },
     "output_type": "display_data"
    }
   ],
   "source": [
    "plt.figure(figsize= (16,8))\n",
    "plt.title(\"Close Price Histroy\")\n",
    "plt.plot(data['Close'],color = \"red\")\n",
    "plt.xlabel('Date', fontsize=18)\n",
    "plt.ylabel('Close Price USD', fontsize = 18)\n",
    "plt.show()"
   ]
  },
  {
   "cell_type": "code",
   "execution_count": 619,
   "metadata": {},
   "outputs": [
    {
     "data": {
      "text/html": [
       "<div>\n",
       "<style scoped>\n",
       "    .dataframe tbody tr th:only-of-type {\n",
       "        vertical-align: middle;\n",
       "    }\n",
       "\n",
       "    .dataframe tbody tr th {\n",
       "        vertical-align: top;\n",
       "    }\n",
       "\n",
       "    .dataframe thead th {\n",
       "        text-align: right;\n",
       "    }\n",
       "</style>\n",
       "<table border=\"1\" class=\"dataframe\">\n",
       "  <thead>\n",
       "    <tr style=\"text-align: right;\">\n",
       "      <th></th>\n",
       "      <th>Price</th>\n",
       "    </tr>\n",
       "    <tr>\n",
       "      <th>Date</th>\n",
       "      <th></th>\n",
       "    </tr>\n",
       "  </thead>\n",
       "  <tbody>\n",
       "    <tr>\n",
       "      <th>2002-05-23</th>\n",
       "      <td>1.196429</td>\n",
       "    </tr>\n",
       "    <tr>\n",
       "      <th>2002-05-24</th>\n",
       "      <td>1.210000</td>\n",
       "    </tr>\n",
       "    <tr>\n",
       "      <th>2002-05-28</th>\n",
       "      <td>1.157143</td>\n",
       "    </tr>\n",
       "    <tr>\n",
       "      <th>2002-05-29</th>\n",
       "      <td>1.103571</td>\n",
       "    </tr>\n",
       "    <tr>\n",
       "      <th>2002-05-30</th>\n",
       "      <td>1.071429</td>\n",
       "    </tr>\n",
       "    <tr>\n",
       "      <th>2002-05-31</th>\n",
       "      <td>1.076429</td>\n",
       "    </tr>\n",
       "    <tr>\n",
       "      <th>2002-06-03</th>\n",
       "      <td>1.128571</td>\n",
       "    </tr>\n",
       "    <tr>\n",
       "      <th>2002-06-04</th>\n",
       "      <td>1.117857</td>\n",
       "    </tr>\n",
       "    <tr>\n",
       "      <th>2002-06-05</th>\n",
       "      <td>1.147143</td>\n",
       "    </tr>\n",
       "    <tr>\n",
       "      <th>2002-06-06</th>\n",
       "      <td>1.182143</td>\n",
       "    </tr>\n",
       "  </tbody>\n",
       "</table>\n",
       "</div>"
      ],
      "text/plain": [
       "               Price\n",
       "Date                \n",
       "2002-05-23  1.196429\n",
       "2002-05-24  1.210000\n",
       "2002-05-28  1.157143\n",
       "2002-05-29  1.103571\n",
       "2002-05-30  1.071429\n",
       "2002-05-31  1.076429\n",
       "2002-06-03  1.128571\n",
       "2002-06-04  1.117857\n",
       "2002-06-05  1.147143\n",
       "2002-06-06  1.182143"
      ]
     },
     "execution_count": 619,
     "metadata": {},
     "output_type": "execute_result"
    }
   ],
   "source": [
    "Stock_price = pd.DataFrame(data['Close']).rename(columns = { 'Close' : 'Price'})\n",
    "Stock_price.head(10)"
   ]
  },
  {
   "cell_type": "code",
   "execution_count": 620,
   "metadata": {},
   "outputs": [
    {
     "data": {
      "text/plain": [
       "<matplotlib.legend.Legend at 0x160f81aa0d0>"
      ]
     },
     "execution_count": 620,
     "metadata": {},
     "output_type": "execute_result"
    },
    {
     "data": {
      "image/png": "[encoded data removed]",
      "text/plain": [
       "<Figure size 1152x576 with 1 Axes>"
      ]
     },
     "metadata": {
      "needs_background": "light"
     },
     "output_type": "display_data"
    }
   ],
   "source": [
    "Stock_price.plot(figsize=(16,8))\n",
    "plt.xlabel('Date')\n",
    "plt.ylabel('Stork price')\n",
    "plt.title(\"Price of Shares from 2004 to 2020\", fontsize=18)\n",
    "plt.legend(fontsize = 18)"
   ]
  },
  {
   "cell_type": "code",
   "execution_count": 621,
   "metadata": {},
   "outputs": [
    {
     "data": {
      "text/plain": [
       "(array(['2002-05-23T00:00:00.000000000', '2002-05-24T00:00:00.000000000',\n",
       "        '2002-05-28T00:00:00.000000000', '2002-05-29T00:00:00.000000000',\n",
       "        '2002-05-30T00:00:00.000000000', '2002-05-31T00:00:00.000000000',\n",
       "        '2002-06-03T00:00:00.000000000', '2002-06-04T00:00:00.000000000',\n",
       "        '2002-06-05T00:00:00.000000000', '2002-06-06T00:00:00.000000000'],\n",
       "       dtype='datetime64[ns]'),\n",
       " array([1.19642901, 1.21000004, 1.157143  , 1.10357106, 1.07142901,\n",
       "        1.07642901, 1.12857103, 1.11785698, 1.14714301, 1.18214297]))"
      ]
     },
     "execution_count": 621,
     "metadata": {},
     "output_type": "execute_result"
    }
   ],
   "source": [
    "timesteps = Stock_price.index.to_numpy()\n",
    "prices = Stock_price[\"Price\"].to_numpy()\n",
    "\n",
    "timesteps[:10], prices[:10]"
   ]
  },
  {
   "cell_type": "code",
   "execution_count": 622,
   "metadata": {},
   "outputs": [
    {
     "data": {
      "text/plain": [
       "(3904, 3904, 977, 977)"
      ]
     },
     "execution_count": 622,
     "metadata": {},
     "output_type": "execute_result"
    }
   ],
   "source": [
    "spilt_size = int(0.8 * len(prices))\n",
    "X_train, y_train = timesteps[:spilt_size], prices[:spilt_size]\n",
    "X_test, y_test = timesteps[spilt_size:], prices[spilt_size:]\n",
    "len(X_train),len(y_train),len(X_test),len(y_test)\n"
   ]
  },
  {
   "cell_type": "code",
   "execution_count": 623,
   "metadata": {},
   "outputs": [
    {
     "data": {
      "image/png": "[encoded data removed]",
      "text/plain": [
       "<Figure size 720x504 with 1 Axes>"
      ]
     },
     "metadata": {
      "needs_background": "light"
     },
     "output_type": "display_data"
    }
   ],
   "source": [
    "plt.figure(figsize=(10, 7))\n",
    "plt.scatter(X_train, y_train, s=5, label=\"Train data\")\n",
    "plt.scatter(X_test, y_test, s=5, label=\"Test data\")\n",
    "plt.xlabel(\"Date\")\n",
    "plt.ylabel(\"Stock Price\")\n",
    "plt.legend(fontsize=14)\n",
    "plt.show();"
   ]
  },
  {
   "cell_type": "code",
   "execution_count": 624,
   "metadata": {},
   "outputs": [],
   "source": [
    "def plot_time_series(timesteps, values, format='.', start=0, end=None, label=None):\n",
    "    \n",
    "  # Plot the series\n",
    "  plt.plot(timesteps[start:end], values[start:end], format, label=label)\n",
    "  plt.xlabel(\"Time\")\n",
    "  plt.ylabel(\"Stock Price\")\n",
    "  if label:\n",
    "    plt.legend(fontsize=14) # make label bigger\n",
    "  plt.grid(True)"
   ]
  },
  {
   "cell_type": "code",
   "execution_count": 625,
   "metadata": {},
   "outputs": [
    {
     "data": {
      "image/png": "[encoded data removed]",
      "text/plain": [
       "<Figure size 720x504 with 1 Axes>"
      ]
     },
     "metadata": {
      "needs_background": "light"
     },
     "output_type": "display_data"
    }
   ],
   "source": [
    "plt.figure(figsize=(10, 7))\n",
    "plot_time_series(timesteps=X_train, values=y_train, label=\"Train data\")\n",
    "plot_time_series(timesteps=X_test, values=y_test, label=\"Test data\")"
   ]
  },
  {
   "cell_type": "code",
   "execution_count": 626,
   "metadata": {},
   "outputs": [],
   "source": [
    "HORIZON = 1 # predict one step at a time\n",
    "WINDOW_SIZE = 30 # use 30 timesteps in the past"
   ]
  },
  {
   "cell_type": "code",
   "execution_count": 627,
   "metadata": {},
   "outputs": [],
   "source": [
    "def get_labelled_windows(x, horizon=1):\n",
    "      \n",
    "  return x[:, :-horizon], x[:, -horizon:]"
   ]
  },
  {
   "cell_type": "code",
   "execution_count": 628,
   "metadata": {},
   "outputs": [
    {
     "name": "stdout",
     "output_type": "stream",
     "text": [
      "Window: [1 2 3 4 5 6 7] -> Label: 8\n"
     ]
    }
   ],
   "source": [
    "test_window, test_label = get_labelled_windows(tf.expand_dims(tf.range(8)+1, axis=0), horizon=HORIZON)\n",
    "print(f\"Window: {tf.squeeze(test_window).numpy()} -> Label: {tf.squeeze(test_label).numpy()}\")"
   ]
  },
  {
   "cell_type": "code",
   "execution_count": 629,
   "metadata": {},
   "outputs": [],
   "source": [
    "def make_windows(x, window_size=7, horizon=1):\n",
    "      \n",
    "  # 1. Create a window of specific window_size (add the horizon on the end for later labelling)\n",
    "  window_step = np.expand_dims(np.arange(window_size+horizon), axis=0)\n",
    "  # print(f\"Window step:\\n {window_step}\")\n",
    "\n",
    "  # 2. Create a 2D array of multiple window steps (minus 1 to account for 0 indexing)\n",
    "  window_indexes = window_step + np.expand_dims(np.arange(len(x)-(window_size+horizon-1)), axis=0).T # create 2D array of windows of size window_size\n",
    "  # print(f\"Window indexes:\\n {window_indexes[:3], window_indexes[-3:], window_indexes.shape}\")\n",
    "\n",
    "  # 3. Index on the target array (time series) with 2D array of multiple window steps\n",
    "  windowed_array = x[window_indexes]\n",
    "\n",
    "  # 4. Get the labelled windows\n",
    "  windows, labels = get_labelled_windows(windowed_array, horizon=horizon)\n",
    "\n",
    "  return windows, labels"
   ]
  },
  {
   "cell_type": "code",
   "execution_count": 630,
   "metadata": {},
   "outputs": [
    {
     "data": {
      "text/plain": [
       "(4851, 4851)"
      ]
     },
     "execution_count": 630,
     "metadata": {},
     "output_type": "execute_result"
    }
   ],
   "source": [
    "full_windows, full_labels = make_windows(prices, window_size=WINDOW_SIZE, horizon=HORIZON)\n",
    "len(full_windows), len(full_labels)"
   ]
  },
  {
   "cell_type": "code",
   "execution_count": 631,
   "metadata": {},
   "outputs": [
    {
     "name": "stdout",
     "output_type": "stream",
     "text": [
      "Window: [1.19642901 1.21000004 1.157143   1.10357106 1.07142901 1.07642901\n",
      " 1.12857103 1.11785698 1.14714301 1.18214297 1.11857104 1.15642905\n",
      " 1.15357101 1.092857   1.08285701 0.98642898 0.92214298 0.91071397\n",
      " 0.95142901 0.95714301 0.97928602 0.978571   0.96428603 0.98857099\n",
      " 0.94357097 0.999286   1.02785695 1.17285705 1.21428597 1.27642906] -> Label: [1.17571402]\n",
      "Window: [1.21000004 1.157143   1.10357106 1.07142901 1.07642901 1.12857103\n",
      " 1.11785698 1.14714301 1.18214297 1.11857104 1.15642905 1.15357101\n",
      " 1.092857   1.08285701 0.98642898 0.92214298 0.91071397 0.95142901\n",
      " 0.95714301 0.97928602 0.978571   0.96428603 0.98857099 0.94357097\n",
      " 0.999286   1.02785695 1.17285705 1.21428597 1.27642906 1.17571402] -> Label: [1.16071403]\n",
      "Window: [1.157143   1.10357106 1.07142901 1.07642901 1.12857103 1.11785698\n",
      " 1.14714301 1.18214297 1.11857104 1.15642905 1.15357101 1.092857\n",
      " 1.08285701 0.98642898 0.92214298 0.91071397 0.95142901 0.95714301\n",
      " 0.97928602 0.978571   0.96428603 0.98857099 0.94357097 0.999286\n",
      " 1.02785695 1.17285705 1.21428597 1.27642906 1.17571402 1.16071403] -> Label: [1.163571]\n"
     ]
    }
   ],
   "source": [
    "for i in range(3):\n",
    "  print(f\"Window: {full_windows[i]} -> Label: {full_labels[i]}\")"
   ]
  },
  {
   "cell_type": "code",
   "execution_count": 632,
   "metadata": {},
   "outputs": [
    {
     "name": "stdout",
     "output_type": "stream",
     "text": [
      "Window: [547.58001709 550.11999512 558.91998291 566.17999268 569.19000244\n",
      " 582.07000732 588.54998779 590.5300293  606.71002197 606.04998779\n",
      " 597.53997803 598.7199707  589.28997803 577.76000977 582.86999512\n",
      " 586.5        589.34997559 575.42999268 573.14001465 590.65002441\n",
      " 593.26000977 592.39001465 592.64001465 583.84997559 599.05999756\n",
      " 610.34002686 613.15002441 603.34997559 634.80999756 639.09997559] -> Label: [631.84997559]\n",
      "Window: [550.11999512 558.91998291 566.17999268 569.19000244 582.07000732\n",
      " 588.54998779 590.5300293  606.71002197 606.04998779 597.53997803\n",
      " 598.7199707  589.28997803 577.76000977 582.86999512 586.5\n",
      " 589.34997559 575.42999268 573.14001465 590.65002441 593.26000977\n",
      " 592.39001465 592.64001465 583.84997559 599.05999756 610.34002686\n",
      " 613.15002441 603.34997559 634.80999756 639.09997559 631.84997559] -> Label: [632.65997314]\n",
      "Window: [558.91998291 566.17999268 569.19000244 582.07000732 588.54998779\n",
      " 590.5300293  606.71002197 606.04998779 597.53997803 598.7199707\n",
      " 589.28997803 577.76000977 582.86999512 586.5        589.34997559\n",
      " 575.42999268 573.14001465 590.65002441 593.26000977 592.39001465\n",
      " 592.64001465 583.84997559 599.05999756 610.34002686 613.15002441\n",
      " 603.34997559 634.80999756 639.09997559 631.84997559 632.65997314] -> Label: [627.03997803]\n"
     ]
    }
   ],
   "source": [
    "for i in range(3):\n",
    "  print(f\"Window: {full_windows[i-3]} -> Label: {full_labels[i-3]}\")"
   ]
  },
  {
   "cell_type": "code",
   "execution_count": 633,
   "metadata": {},
   "outputs": [],
   "source": [
    "def mean_absolute_scaled_error(y_true, y_pred):\n",
    "      mae = tf.reduce_mean(tf.abs(y_true - y_pred))\n",
    "\n",
    "  # Find MAE of naive forecast (no seasonality)\n",
    "      mae_naive_no_season = tf.reduce_mean(tf.abs(y_true[1:] - y_true[:-1])) # our seasonality is 1 day (hence the shifting of 1 day)\n",
    "      return mae / mae_naive_no_season"
   ]
  },
  {
   "cell_type": "code",
   "execution_count": 634,
   "metadata": {},
   "outputs": [],
   "source": [
    "def evaluate_preds(y_true, y_pred):\n",
    "      # Make sure float32 (for metric calculations)\n",
    "  y_true = tf.cast(y_true, dtype=tf.float32)\n",
    "  y_pred = tf.cast(y_pred, dtype=tf.float32)\n",
    "\n",
    "  # Calculate various metrics\n",
    "  mae = tf.keras.metrics.mean_absolute_error(y_true, y_pred)\n",
    "  mse = tf.keras.metrics.mean_squared_error(y_true, y_pred) # puts and emphasis on outliers (all errors get squared)\n",
    "  rmse = tf.sqrt(mse)\n",
    "  mape = tf.keras.metrics.mean_absolute_percentage_error(y_true, y_pred)\n",
    "  mase = mean_absolute_scaled_error(y_true, y_pred)\n",
    "  \n",
    "  return {\"mae\": mae.numpy(),\n",
    "          \"mse\": mse.numpy(),\n",
    "          \"rmse\": rmse.numpy(),\n",
    "          \"mape\": mape.numpy(),\n",
    "          \"mase\": mase.numpy()}"
   ]
  },
  {
   "cell_type": "code",
   "execution_count": 635,
   "metadata": {},
   "outputs": [],
   "source": [
    "def make_train_test_splits(windows, labels, test_split=0.2):\n",
    "    \n",
    "  split_size = int(len(windows) * (1-test_split)) # this will default to 80% train/20% test\n",
    "  train_windows = windows[:split_size]\n",
    "  train_labels = labels[:split_size]\n",
    "  test_windows = windows[split_size:]\n",
    "  test_labels = labels[split_size:]\n",
    "  return train_windows, test_windows, train_labels, test_labels"
   ]
  },
  {
   "cell_type": "code",
   "execution_count": 636,
   "metadata": {},
   "outputs": [
    {
     "data": {
      "text/plain": [
       "(3880, 971, 3880, 971)"
      ]
     },
     "execution_count": 636,
     "metadata": {},
     "output_type": "execute_result"
    }
   ],
   "source": [
    "train_windows, test_windows, train_labels, test_labels = make_train_test_splits(full_windows, full_labels)\n",
    "len(train_windows), len(test_windows), len(train_labels), len(test_labels)"
   ]
  },
  {
   "cell_type": "code",
   "execution_count": 637,
   "metadata": {},
   "outputs": [
    {
     "data": {
      "text/plain": [
       "(array([[1.19642901, 1.21000004, 1.157143  , 1.10357106, 1.07142901,\n",
       "         1.07642901, 1.12857103, 1.11785698, 1.14714301, 1.18214297,\n",
       "         1.11857104, 1.15642905, 1.15357101, 1.092857  , 1.08285701,\n",
       "         0.98642898, 0.92214298, 0.91071397, 0.95142901, 0.95714301,\n",
       "         0.97928602, 0.978571  , 0.96428603, 0.98857099, 0.94357097,\n",
       "         0.999286  , 1.02785695, 1.17285705, 1.21428597, 1.27642906],\n",
       "        [1.21000004, 1.157143  , 1.10357106, 1.07142901, 1.07642901,\n",
       "         1.12857103, 1.11785698, 1.14714301, 1.18214297, 1.11857104,\n",
       "         1.15642905, 1.15357101, 1.092857  , 1.08285701, 0.98642898,\n",
       "         0.92214298, 0.91071397, 0.95142901, 0.95714301, 0.97928602,\n",
       "         0.978571  , 0.96428603, 0.98857099, 0.94357097, 0.999286  ,\n",
       "         1.02785695, 1.17285705, 1.21428597, 1.27642906, 1.17571402],\n",
       "        [1.157143  , 1.10357106, 1.07142901, 1.07642901, 1.12857103,\n",
       "         1.11785698, 1.14714301, 1.18214297, 1.11857104, 1.15642905,\n",
       "         1.15357101, 1.092857  , 1.08285701, 0.98642898, 0.92214298,\n",
       "         0.91071397, 0.95142901, 0.95714301, 0.97928602, 0.978571  ,\n",
       "         0.96428603, 0.98857099, 0.94357097, 0.999286  , 1.02785695,\n",
       "         1.17285705, 1.21428597, 1.27642906, 1.17571402, 1.16071403],\n",
       "        [1.10357106, 1.07142901, 1.07642901, 1.12857103, 1.11785698,\n",
       "         1.14714301, 1.18214297, 1.11857104, 1.15642905, 1.15357101,\n",
       "         1.092857  , 1.08285701, 0.98642898, 0.92214298, 0.91071397,\n",
       "         0.95142901, 0.95714301, 0.97928602, 0.978571  , 0.96428603,\n",
       "         0.98857099, 0.94357097, 0.999286  , 1.02785695, 1.17285705,\n",
       "         1.21428597, 1.27642906, 1.17571402, 1.16071403, 1.163571  ],\n",
       "        [1.07142901, 1.07642901, 1.12857103, 1.11785698, 1.14714301,\n",
       "         1.18214297, 1.11857104, 1.15642905, 1.15357101, 1.092857  ,\n",
       "         1.08285701, 0.98642898, 0.92214298, 0.91071397, 0.95142901,\n",
       "         0.95714301, 0.97928602, 0.978571  , 0.96428603, 0.98857099,\n",
       "         0.94357097, 0.999286  , 1.02785695, 1.17285705, 1.21428597,\n",
       "         1.27642906, 1.17571402, 1.16071403, 1.163571  , 1.26928604]]),\n",
       " array([[1.17571402],\n",
       "        [1.16071403],\n",
       "        [1.163571  ],\n",
       "        [1.26928604],\n",
       "        [1.20785701]]))"
      ]
     },
     "execution_count": 637,
     "metadata": {},
     "output_type": "execute_result"
    }
   ],
   "source": [
    "train_windows[:5], train_labels[:5]"
   ]
  },
  {
   "cell_type": "code",
   "execution_count": 638,
   "metadata": {},
   "outputs": [
    {
     "data": {
      "text/plain": [
       "False"
      ]
     },
     "execution_count": 638,
     "metadata": {},
     "output_type": "execute_result"
    }
   ],
   "source": [
    "np.array_equal(np.squeeze(train_labels[:-HORIZON-1]), y_train[WINDOW_SIZE:])"
   ]
  },
  {
   "cell_type": "code",
   "execution_count": 639,
   "metadata": {},
   "outputs": [],
   "source": [
    "import os\n",
    "\n",
    "# Create a function to implement a ModelCheckpoint callback with a specific filename \n",
    "def create_model_checkpoint(model_name, save_path=\"model_experiments\"):\n",
    "  return tf.keras.callbacks.ModelCheckpoint(filepath=os.path.join(save_path, model_name), # create filepath to save model\n",
    "                                            verbose=0, # only output a limited amount of text\n",
    "                                            save_best_only=True)"
   ]
  },
  {
   "cell_type": "code",
   "execution_count": 640,
   "metadata": {},
   "outputs": [
    {
     "name": "stdout",
     "output_type": "stream",
     "text": [
      "Epoch 1/100\n",
      "29/31 [===========================>..] - ETA: 0s - loss: 4.9427 - mae: 4.9427   INFO:tensorflow:Assets written to: model_experiments\\model_1_dense\\assets\n",
      "31/31 [==============================] - 2s 28ms/step - loss: 4.8485 - mae: 4.8485 - val_loss: 22.2604 - val_mae: 22.2604\n",
      "Epoch 2/100\n",
      "17/31 [===============>..............] - ETA: 0s - loss: 2.2326 - mae: 2.2326INFO:tensorflow:Assets written to: model_experiments\\model_1_dense\\assets\n",
      "31/31 [==============================] - 1s 32ms/step - loss: 2.0465 - mae: 2.0465 - val_loss: 18.1009 - val_mae: 18.1009\n",
      "Epoch 3/100\n",
      "17/31 [===============>..............] - ETA: 0s - loss: 1.7624 - mae: 1.7624INFO:tensorflow:Assets written to: model_experiments\\model_1_dense\\assets\n",
      "31/31 [==============================] - 2s 60ms/step - loss: 1.7471 - mae: 1.7471 - val_loss: 15.1668 - val_mae: 15.1668\n",
      "Epoch 4/100\n",
      "28/31 [==========================>...] - ETA: 0s - loss: 1.4849 - mae: 1.4849INFO:tensorflow:Assets written to: model_experiments\\model_1_dense\\assets\n",
      "31/31 [==============================] - 2s 54ms/step - loss: 1.5059 - mae: 1.5059 - val_loss: 13.9519 - val_mae: 13.9519\n",
      "Epoch 5/100\n",
      "31/31 [==============================] - 0s 8ms/step - loss: 1.3749 - mae: 1.3749 - val_loss: 14.1899 - val_mae: 14.1899\n",
      "Epoch 6/100\n",
      "18/31 [================>.............] - ETA: 0s - loss: 1.3424 - mae: 1.3424INFO:tensorflow:Assets written to: model_experiments\\model_1_dense\\assets\n",
      "31/31 [==============================] - 1s 32ms/step - loss: 1.3269 - mae: 1.3269 - val_loss: 12.3041 - val_mae: 12.3041\n",
      "Epoch 7/100\n",
      "16/31 [==============>...............] - ETA: 0s - loss: 1.2137 - mae: 1.2137INFO:tensorflow:Assets written to: model_experiments\\model_1_dense\\assets\n",
      "31/31 [==============================] - 1s 34ms/step - loss: 1.2272 - mae: 1.2272 - val_loss: 11.9308 - val_mae: 11.9308\n",
      "Epoch 8/100\n",
      "29/31 [===========================>..] - ETA: 0s - loss: 1.2395 - mae: 1.2395INFO:tensorflow:Assets written to: model_experiments\\model_1_dense\\assets\n",
      "31/31 [==============================] - 2s 52ms/step - loss: 1.2392 - mae: 1.2392 - val_loss: 11.5267 - val_mae: 11.5267\n",
      "Epoch 9/100\n",
      "31/31 [==============================] - 0s 5ms/step - loss: 1.2632 - mae: 1.2632 - val_loss: 19.6365 - val_mae: 19.6365\n",
      "Epoch 10/100\n",
      "31/31 [==============================] - 0s 6ms/step - loss: 1.3183 - mae: 1.3183 - val_loss: 12.5754 - val_mae: 12.5754\n",
      "Epoch 11/100\n",
      "18/31 [================>.............] - ETA: 0s - loss: 1.1785 - mae: 1.1785INFO:tensorflow:Assets written to: model_experiments\\model_1_dense\\assets\n",
      "31/31 [==============================] - 1s 43ms/step - loss: 1.1350 - mae: 1.1350 - val_loss: 10.6357 - val_mae: 10.6357\n",
      "Epoch 12/100\n",
      "31/31 [==============================] - 0s 5ms/step - loss: 1.0247 - mae: 1.0247 - val_loss: 11.7846 - val_mae: 11.7846\n",
      "Epoch 13/100\n",
      "21/31 [===================>..........] - ETA: 0s - loss: 1.0503 - mae: 1.0503INFO:tensorflow:Assets written to: model_experiments\\model_1_dense\\assets\n",
      "31/31 [==============================] - 1s 37ms/step - loss: 1.0557 - mae: 1.0557 - val_loss: 10.1587 - val_mae: 10.1587\n",
      "Epoch 14/100\n",
      "31/31 [==============================] - 0s 10ms/step - loss: 1.1491 - mae: 1.1491 - val_loss: 11.6494 - val_mae: 11.6494\n",
      "Epoch 15/100\n",
      "31/31 [==============================] - 0s 13ms/step - loss: 1.3060 - mae: 1.3060 - val_loss: 11.0496 - val_mae: 11.0496\n",
      "Epoch 16/100\n",
      "31/31 [==============================] - 1s 17ms/step - loss: 1.0733 - mae: 1.0733 - val_loss: 13.3702 - val_mae: 13.3702\n",
      "Epoch 17/100\n",
      "31/31 [==============================] - 0s 11ms/step - loss: 1.0647 - mae: 1.0647 - val_loss: 10.6477 - val_mae: 10.6477\n",
      "Epoch 18/100\n",
      "27/31 [=========================>....] - ETA: 0s - loss: 1.0448 - mae: 1.0448INFO:tensorflow:Assets written to: model_experiments\\model_1_dense\\assets\n",
      "31/31 [==============================] - 2s 63ms/step - loss: 1.0406 - mae: 1.0406 - val_loss: 9.8453 - val_mae: 9.8453\n",
      "Epoch 19/100\n",
      "31/31 [==============================] - 0s 7ms/step - loss: 1.0369 - mae: 1.0369 - val_loss: 9.8902 - val_mae: 9.8902\n",
      "Epoch 20/100\n",
      "16/31 [==============>...............] - ETA: 0s - loss: 0.9515 - mae: 0.9515INFO:tensorflow:Assets written to: model_experiments\\model_1_dense\\assets\n",
      "31/31 [==============================] - 2s 55ms/step - loss: 0.9275 - mae: 0.9275 - val_loss: 9.3338 - val_mae: 9.3338\n",
      "Epoch 21/100\n",
      "31/31 [==============================] - 0s 10ms/step - loss: 0.9415 - mae: 0.9415 - val_loss: 10.4066 - val_mae: 10.4066\n",
      "Epoch 22/100\n",
      "31/31 [==============================] - 0s 5ms/step - loss: 0.9638 - mae: 0.9638 - val_loss: 9.7252 - val_mae: 9.7252\n",
      "Epoch 23/100\n",
      "31/31 [==============================] - 0s 4ms/step - loss: 0.9689 - mae: 0.9689 - val_loss: 10.6261 - val_mae: 10.6261\n",
      "Epoch 24/100\n",
      "31/31 [==============================] - 0s 4ms/step - loss: 1.0054 - mae: 1.0054 - val_loss: 14.9497 - val_mae: 14.9497\n",
      "Epoch 25/100\n",
      "31/31 [==============================] - 0s 4ms/step - loss: 1.0940 - mae: 1.0940 - val_loss: 10.7752 - val_mae: 10.7752\n",
      "Epoch 26/100\n",
      "26/31 [========================>.....] - ETA: 0s - loss: 0.9423 - mae: 0.9423INFO:tensorflow:Assets written to: model_experiments\\model_1_dense\\assets\n",
      "31/31 [==============================] - 1s 28ms/step - loss: 0.9120 - mae: 0.9120 - val_loss: 8.9453 - val_mae: 8.9453\n",
      "Epoch 27/100\n",
      "31/31 [==============================] - 0s 9ms/step - loss: 0.9759 - mae: 0.9759 - val_loss: 13.8837 - val_mae: 13.8837\n",
      "Epoch 28/100\n",
      "31/31 [==============================] - 0s 10ms/step - loss: 1.1255 - mae: 1.1255 - val_loss: 14.8515 - val_mae: 14.8515\n",
      "Epoch 29/100\n",
      "31/31 [==============================] - 0s 7ms/step - loss: 0.9584 - mae: 0.9584 - val_loss: 10.6376 - val_mae: 10.6376\n",
      "Epoch 30/100\n",
      "31/31 [==============================] - 0s 7ms/step - loss: 1.1940 - mae: 1.1940 - val_loss: 9.3480 - val_mae: 9.3480\n",
      "Epoch 31/100\n",
      "31/31 [==============================] - 0s 7ms/step - loss: 0.8476 - mae: 0.8476 - val_loss: 13.4283 - val_mae: 13.4283\n",
      "Epoch 32/100\n",
      "26/31 [========================>.....] - ETA: 0s - loss: 0.8539 - mae: 0.8539INFO:tensorflow:Assets written to: model_experiments\\model_1_dense\\assets\n",
      "31/31 [==============================] - 1s 33ms/step - loss: 0.8569 - mae: 0.8569 - val_loss: 8.7411 - val_mae: 8.7411\n",
      "Epoch 33/100\n",
      "31/31 [==============================] - 0s 4ms/step - loss: 0.8871 - mae: 0.8871 - val_loss: 16.9532 - val_mae: 16.9532\n",
      "Epoch 34/100\n",
      "20/31 [==================>...........] - ETA: 0s - loss: 1.0064 - mae: 1.0064INFO:tensorflow:Assets written to: model_experiments\\model_1_dense\\assets\n",
      "31/31 [==============================] - 2s 60ms/step - loss: 0.9684 - mae: 0.9684 - val_loss: 8.5750 - val_mae: 8.5750\n",
      "Epoch 35/100\n",
      "31/31 [==============================] - 0s 6ms/step - loss: 0.8328 - mae: 0.8328 - val_loss: 10.2464 - val_mae: 10.2464\n",
      "Epoch 36/100\n",
      "31/31 [==============================] - 0s 6ms/step - loss: 0.8518 - mae: 0.8518 - val_loss: 9.1883 - val_mae: 9.1883\n",
      "Epoch 37/100\n",
      "31/31 [==============================] - 0s 5ms/step - loss: 1.1046 - mae: 1.1046 - val_loss: 9.2015 - val_mae: 9.2015\n",
      "Epoch 38/100\n",
      "31/31 [==============================] - 0s 7ms/step - loss: 0.8517 - mae: 0.8517 - val_loss: 11.6545 - val_mae: 11.6545\n",
      "Epoch 39/100\n",
      "27/31 [=========================>....] - ETA: 0s - loss: 0.8365 - mae: 0.8365INFO:tensorflow:Assets written to: model_experiments\\model_1_dense\\assets\n",
      "31/31 [==============================] - 1s 32ms/step - loss: 0.8436 - mae: 0.8436 - val_loss: 8.4454 - val_mae: 8.4454\n",
      "Epoch 40/100\n",
      "31/31 [==============================] - 0s 8ms/step - loss: 0.7947 - mae: 0.7947 - val_loss: 9.8121 - val_mae: 9.8121\n",
      "Epoch 41/100\n",
      "31/31 [==============================] - 0s 11ms/step - loss: 1.0175 - mae: 1.0175 - val_loss: 12.8956 - val_mae: 12.8956\n",
      "Epoch 42/100\n",
      "31/31 [==============================] - 0s 6ms/step - loss: 1.0338 - mae: 1.0338 - val_loss: 9.8809 - val_mae: 9.8809\n",
      "Epoch 43/100\n",
      "31/31 [==============================] - 0s 5ms/step - loss: 0.8267 - mae: 0.8267 - val_loss: 15.1842 - val_mae: 15.1842\n",
      "Epoch 44/100\n",
      "31/31 [==============================] - 0s 5ms/step - loss: 0.9308 - mae: 0.9308 - val_loss: 9.3897 - val_mae: 9.3897\n",
      "Epoch 45/100\n",
      "31/31 [==============================] - 0s 4ms/step - loss: 0.7932 - mae: 0.7932 - val_loss: 9.8122 - val_mae: 9.8122\n",
      "Epoch 46/100\n",
      "31/31 [==============================] - 0s 4ms/step - loss: 0.8398 - mae: 0.8398 - val_loss: 9.8669 - val_mae: 9.8669\n",
      "Epoch 47/100\n",
      "27/31 [=========================>....] - ETA: 0s - loss: 0.8314 - mae: 0.8314INFO:tensorflow:Assets written to: model_experiments\\model_1_dense\\assets\n",
      "31/31 [==============================] - 1s 35ms/step - loss: 0.8379 - mae: 0.8379 - val_loss: 8.2894 - val_mae: 8.2894\n",
      "Epoch 48/100\n",
      "19/31 [=================>............] - ETA: 0s - loss: 0.8272 - mae: 0.8272INFO:tensorflow:Assets written to: model_experiments\\model_1_dense\\assets\n",
      "31/31 [==============================] - 1s 35ms/step - loss: 0.9051 - mae: 0.9051 - val_loss: 8.1885 - val_mae: 8.1885\n",
      "Epoch 49/100\n",
      "31/31 [==============================] - 0s 11ms/step - loss: 0.8551 - mae: 0.8551 - val_loss: 9.5103 - val_mae: 9.5103\n",
      "Epoch 50/100\n",
      "31/31 [==============================] - ETA: 0s - loss: 0.7921 - mae: 0.7921INFO:tensorflow:Assets written to: model_experiments\\model_1_dense\\assets\n",
      "31/31 [==============================] - 1s 38ms/step - loss: 0.7921 - mae: 0.7921 - val_loss: 8.1023 - val_mae: 8.1023\n",
      "Epoch 51/100\n",
      "31/31 [==============================] - 0s 6ms/step - loss: 0.7966 - mae: 0.7966 - val_loss: 8.3933 - val_mae: 8.3933\n",
      "Epoch 52/100\n",
      "31/31 [==============================] - 0s 8ms/step - loss: 0.8037 - mae: 0.8037 - val_loss: 10.3271 - val_mae: 10.3271\n",
      "Epoch 53/100\n",
      "31/31 [==============================] - 0s 4ms/step - loss: 0.8031 - mae: 0.8031 - val_loss: 8.2413 - val_mae: 8.2413\n",
      "Epoch 54/100\n",
      "31/31 [==============================] - 0s 4ms/step - loss: 0.8901 - mae: 0.8901 - val_loss: 9.9267 - val_mae: 9.9267\n",
      "Epoch 55/100\n",
      "31/31 [==============================] - 0s 4ms/step - loss: 0.8007 - mae: 0.8007 - val_loss: 8.3137 - val_mae: 8.3137\n",
      "Epoch 56/100\n",
      "31/31 [==============================] - 0s 4ms/step - loss: 0.7935 - mae: 0.7935 - val_loss: 8.5084 - val_mae: 8.5084\n",
      "Epoch 57/100\n",
      "31/31 [==============================] - 0s 5ms/step - loss: 0.8229 - mae: 0.8229 - val_loss: 8.3674 - val_mae: 8.3674\n",
      "Epoch 58/100\n",
      "31/31 [==============================] - 0s 4ms/step - loss: 0.9722 - mae: 0.9722 - val_loss: 10.8980 - val_mae: 10.8980\n",
      "Epoch 59/100\n",
      "31/31 [==============================] - 0s 4ms/step - loss: 0.8399 - mae: 0.8399 - val_loss: 17.4142 - val_mae: 17.4142\n",
      "Epoch 60/100\n",
      "19/31 [=================>............] - ETA: 0s - loss: 1.0027 - mae: 1.0027INFO:tensorflow:Assets written to: model_experiments\\model_1_dense\\assets\n",
      "31/31 [==============================] - 1s 44ms/step - loss: 1.0507 - mae: 1.0507 - val_loss: 7.8530 - val_mae: 7.8530\n",
      "Epoch 61/100\n",
      "31/31 [==============================] - 0s 4ms/step - loss: 0.7933 - mae: 0.7933 - val_loss: 10.8859 - val_mae: 10.8859\n",
      "Epoch 62/100\n",
      "31/31 [==============================] - 0s 4ms/step - loss: 1.3744 - mae: 1.3744 - val_loss: 20.4903 - val_mae: 20.4903\n",
      "Epoch 63/100\n",
      "31/31 [==============================] - 0s 5ms/step - loss: 0.8591 - mae: 0.8591 - val_loss: 7.8925 - val_mae: 7.8925\n",
      "Epoch 64/100\n",
      "31/31 [==============================] - 0s 10ms/step - loss: 0.7241 - mae: 0.7241 - val_loss: 8.1876 - val_mae: 8.1876\n",
      "Epoch 65/100\n",
      "31/31 [==============================] - 0s 6ms/step - loss: 0.7575 - mae: 0.7575 - val_loss: 12.3201 - val_mae: 12.3201\n",
      "Epoch 66/100\n",
      "31/31 [==============================] - 0s 9ms/step - loss: 0.8611 - mae: 0.8611 - val_loss: 7.9258 - val_mae: 7.9258\n",
      "Epoch 67/100\n",
      "31/31 [==============================] - 0s 9ms/step - loss: 1.0659 - mae: 1.0659 - val_loss: 13.0800 - val_mae: 13.0800\n",
      "Epoch 68/100\n",
      "28/31 [==========================>...] - ETA: 0s - loss: 0.8773 - mae: 0.8773INFO:tensorflow:Assets written to: model_experiments\\model_1_dense\\assets\n",
      "31/31 [==============================] - 2s 61ms/step - loss: 0.8744 - mae: 0.8744 - val_loss: 7.7765 - val_mae: 7.7765\n",
      "Epoch 69/100\n",
      "31/31 [==============================] - 0s 8ms/step - loss: 0.8180 - mae: 0.8180 - val_loss: 8.2134 - val_mae: 8.2134\n",
      "Epoch 70/100\n",
      "31/31 [==============================] - 0s 6ms/step - loss: 0.7633 - mae: 0.7633 - val_loss: 7.9062 - val_mae: 7.9062\n",
      "Epoch 71/100\n",
      "26/31 [========================>.....] - ETA: 0s - loss: 0.7452 - mae: 0.7452INFO:tensorflow:Assets written to: model_experiments\\model_1_dense\\assets\n",
      "31/31 [==============================] - 3s 86ms/step - loss: 0.7531 - mae: 0.7531 - val_loss: 7.7205 - val_mae: 7.7205\n",
      "Epoch 72/100\n",
      "31/31 [==============================] - 0s 12ms/step - loss: 0.7477 - mae: 0.7477 - val_loss: 8.2878 - val_mae: 8.2878\n",
      "Epoch 73/100\n",
      "31/31 [==============================] - 0s 12ms/step - loss: 0.7446 - mae: 0.7446 - val_loss: 8.8682 - val_mae: 8.8682\n",
      "Epoch 74/100\n",
      "31/31 [==============================] - 0s 13ms/step - loss: 0.9052 - mae: 0.9052 - val_loss: 8.2204 - val_mae: 8.2204\n",
      "Epoch 75/100\n",
      "31/31 [==============================] - 0s 9ms/step - loss: 0.7893 - mae: 0.7893 - val_loss: 11.9216 - val_mae: 11.9216\n",
      "Epoch 76/100\n",
      "31/31 [==============================] - 0s 14ms/step - loss: 0.7821 - mae: 0.7821 - val_loss: 7.7694 - val_mae: 7.7694\n",
      "Epoch 77/100\n",
      "31/31 [==============================] - 0s 9ms/step - loss: 0.7448 - mae: 0.7448 - val_loss: 8.2223 - val_mae: 8.2223\n",
      "Epoch 78/100\n",
      "31/31 [==============================] - 0s 9ms/step - loss: 0.7262 - mae: 0.7262 - val_loss: 8.1740 - val_mae: 8.1740\n",
      "Epoch 79/100\n",
      "31/31 [==============================] - 0s 5ms/step - loss: 0.7290 - mae: 0.7290 - val_loss: 9.5766 - val_mae: 9.5766\n",
      "Epoch 80/100\n",
      "31/31 [==============================] - 0s 8ms/step - loss: 0.7438 - mae: 0.7438 - val_loss: 8.7659 - val_mae: 8.7659\n",
      "Epoch 81/100\n",
      "31/31 [==============================] - 0s 11ms/step - loss: 0.9001 - mae: 0.9001 - val_loss: 14.2923 - val_mae: 14.2923\n",
      "Epoch 82/100\n",
      "30/31 [============================>.] - ETA: 0s - loss: 0.8393 - mae: 0.8393INFO:tensorflow:Assets written to: model_experiments\\model_1_dense\\assets\n",
      "31/31 [==============================] - 1s 46ms/step - loss: 0.8383 - mae: 0.8383 - val_loss: 7.6024 - val_mae: 7.6024\n",
      "Epoch 83/100\n",
      "31/31 [==============================] - 0s 5ms/step - loss: 0.7814 - mae: 0.7814 - val_loss: 8.4688 - val_mae: 8.4688\n",
      "Epoch 84/100\n",
      "31/31 [==============================] - 0s 5ms/step - loss: 0.7247 - mae: 0.7247 - val_loss: 10.2165 - val_mae: 10.2165\n",
      "Epoch 85/100\n",
      "31/31 [==============================] - 0s 5ms/step - loss: 0.7438 - mae: 0.7438 - val_loss: 9.1250 - val_mae: 9.1250\n",
      "Epoch 86/100\n",
      "31/31 [==============================] - 0s 4ms/step - loss: 0.8512 - mae: 0.8512 - val_loss: 10.8149 - val_mae: 10.8149\n",
      "Epoch 87/100\n",
      "31/31 [==============================] - 1s 20ms/step - loss: 1.0948 - mae: 1.0948 - val_loss: 23.0470 - val_mae: 23.0470\n",
      "Epoch 88/100\n",
      "31/31 [==============================] - 0s 13ms/step - loss: 1.1247 - mae: 1.1247 - val_loss: 7.6891 - val_mae: 7.6891\n",
      "Epoch 89/100\n",
      "26/31 [========================>.....] - ETA: 0s - loss: 0.6955 - mae: 0.6955INFO:tensorflow:Assets written to: model_experiments\\model_1_dense\\assets\n",
      "31/31 [==============================] - 2s 63ms/step - loss: 0.7053 - mae: 0.7053 - val_loss: 7.5899 - val_mae: 7.5899\n",
      "Epoch 90/100\n",
      "31/31 [==============================] - 0s 5ms/step - loss: 0.7141 - mae: 0.7141 - val_loss: 11.7967 - val_mae: 11.7967\n",
      "Epoch 91/100\n",
      "31/31 [==============================] - 0s 5ms/step - loss: 0.8477 - mae: 0.8477 - val_loss: 12.6789 - val_mae: 12.6789\n",
      "Epoch 92/100\n",
      "31/31 [==============================] - 0s 7ms/step - loss: 0.8407 - mae: 0.8407 - val_loss: 7.8184 - val_mae: 7.8184\n",
      "Epoch 93/100\n",
      "31/31 [==============================] - 0s 13ms/step - loss: 0.7096 - mae: 0.7096 - val_loss: 8.9497 - val_mae: 8.9497\n",
      "Epoch 94/100\n",
      "31/31 [==============================] - 0s 6ms/step - loss: 0.8406 - mae: 0.8406 - val_loss: 19.1281 - val_mae: 19.1281\n",
      "Epoch 95/100\n",
      "31/31 [==============================] - 0s 5ms/step - loss: 1.0358 - mae: 1.0358 - val_loss: 8.9229 - val_mae: 8.9229\n",
      "Epoch 96/100\n",
      "31/31 [==============================] - 0s 5ms/step - loss: 0.7975 - mae: 0.7975 - val_loss: 8.0488 - val_mae: 8.0488\n",
      "Epoch 97/100\n",
      "31/31 [==============================] - 0s 5ms/step - loss: 0.7634 - mae: 0.7634 - val_loss: 10.1851 - val_mae: 10.1851\n",
      "Epoch 98/100\n",
      "18/31 [================>.............] - ETA: 0s - loss: 0.7518 - mae: 0.7518INFO:tensorflow:Assets written to: model_experiments\\model_1_dense\\assets\n",
      "31/31 [==============================] - 1s 49ms/step - loss: 0.7185 - mae: 0.7185 - val_loss: 7.5601 - val_mae: 7.5601\n",
      "Epoch 99/100\n",
      "20/31 [==================>...........] - ETA: 0s - loss: 0.6793 - mae: 0.6793INFO:tensorflow:Assets written to: model_experiments\\model_1_dense\\assets\n",
      "31/31 [==============================] - 2s 51ms/step - loss: 0.7146 - mae: 0.7146 - val_loss: 7.5204 - val_mae: 7.5204\n",
      "Epoch 100/100\n",
      "31/31 [==============================] - 0s 6ms/step - loss: 0.7029 - mae: 0.7029 - val_loss: 7.7349 - val_mae: 7.7349\n"
     ]
    },
    {
     "data": {
      "text/plain": [
       "<keras.callbacks.History at 0x160fbde0940>"
      ]
     },
     "execution_count": 640,
     "metadata": {},
     "output_type": "execute_result"
    }
   ],
   "source": [
    "import tensorflow as tf\n",
    "from keras import layers\n",
    "\n",
    "# Set random seed for as reproducible results as possible\n",
    "tf.random.set_seed(42)\n",
    "\n",
    "# Construct model\n",
    "model_1 = tf.keras.Sequential([\n",
    "  layers.Dense(128, activation=\"relu\"),\n",
    "  layers.Dense(HORIZON, activation=\"linear\") # linear activation is the same as having no activation                        \n",
    "], name=\"model_1_dense\") # give the model a name so we can save it\n",
    "\n",
    "# Compile model\n",
    "model_1.compile(loss=\"mae\",\n",
    "                optimizer=tf.keras.optimizers.Adam(),\n",
    "                metrics=[\"mae\"]) # we don't necessarily need this when the loss function is already MAE\n",
    "\n",
    "# Fit model\n",
    "model_1.fit(x=train_windows, # train windows of 7 timesteps of Bitcoin prices\n",
    "            y=train_labels, # horizon value of 1 (using the previous 7 timesteps to predict next day)\n",
    "            epochs=100,\n",
    "            verbose=1,\n",
    "            batch_size=128,\n",
    "            validation_data=(test_windows, test_labels),\n",
    "            callbacks=[create_model_checkpoint(model_name=model_1.name)])"
   ]
  },
  {
   "cell_type": "code",
   "execution_count": 641,
   "metadata": {},
   "outputs": [
    {
     "name": "stdout",
     "output_type": "stream",
     "text": [
      "31/31 [==============================] - 0s 3ms/step - loss: 7.7349 - mae: 7.7349\n"
     ]
    },
    {
     "data": {
      "text/plain": [
       "[7.734905242919922, 7.734905242919922]"
      ]
     },
     "execution_count": 641,
     "metadata": {},
     "output_type": "execute_result"
    }
   ],
   "source": [
    "model_1.evaluate(test_windows, test_labels)"
   ]
  },
  {
   "cell_type": "code",
   "execution_count": 642,
   "metadata": {},
   "outputs": [
    {
     "name": "stdout",
     "output_type": "stream",
     "text": [
      "31/31 [==============================] - 1s 3ms/step - loss: 7.5204 - mae: 7.5204\n"
     ]
    },
    {
     "data": {
      "text/plain": [
       "[7.520394802093506, 7.520394802093506]"
      ]
     },
     "execution_count": 642,
     "metadata": {},
     "output_type": "execute_result"
    }
   ],
   "source": [
    "model_1 = tf.keras.models.load_model(\"model_experiments/model_1_dense\")\n",
    "model_1.evaluate(test_windows, test_labels)"
   ]
  },
  {
   "cell_type": "code",
   "execution_count": 643,
   "metadata": {},
   "outputs": [],
   "source": [
    "def make_preds(model, input_data):\n",
    "    \n",
    "  forecast = model.predict(input_data)\n",
    "  return tf.squeeze(forecast)"
   ]
  },
  {
   "cell_type": "code",
   "execution_count": 644,
   "metadata": {},
   "outputs": [
    {
     "name": "stdout",
     "output_type": "stream",
     "text": [
      "31/31 [==============================] - 0s 3ms/step\n"
     ]
    },
    {
     "data": {
      "text/plain": [
       "(971,\n",
       " <tf.Tensor: shape=(10,), dtype=float32, numpy=\n",
       " array([189.26668, 188.83229, 184.7686 , 185.24884, 184.81773, 186.13956,\n",
       "        187.7444 , 188.75085, 186.95326, 187.95532], dtype=float32)>)"
      ]
     },
     "execution_count": 644,
     "metadata": {},
     "output_type": "execute_result"
    }
   ],
   "source": [
    "model_1_preds = make_preds(model_1, test_windows)\n",
    "len(model_1_preds), model_1_preds[:10]"
   ]
  },
  {
   "cell_type": "code",
   "execution_count": 645,
   "metadata": {},
   "outputs": [
    {
     "data": {
      "text/plain": [
       "{'mae': 7.5203953,\n",
       " 'mse': 112.49613,\n",
       " 'rmse': 10.60642,\n",
       " 'mape': 1.9601386,\n",
       " 'mase': 1.0698484}"
      ]
     },
     "execution_count": 645,
     "metadata": {},
     "output_type": "execute_result"
    }
   ],
   "source": [
    "model_1_results = evaluate_preds(y_true=tf.squeeze(test_labels), # reduce to right shape\n",
    "                                 y_pred=model_1_preds)\n",
    "model_1_results"
   ]
  },
  {
   "cell_type": "code",
   "execution_count": 646,
   "metadata": {},
   "outputs": [
    {
     "data": {
      "image/png": "[encoded data removed]",
      "text/plain": [
       "<Figure size 720x504 with 1 Axes>"
      ]
     },
     "metadata": {
      "needs_background": "light"
     },
     "output_type": "display_data"
    }
   ],
   "source": [
    "offset = 300\n",
    "plt.figure(figsize=(10, 7))\n",
    "# Account for the test_window offset and index into test_labels to ensure correct plotting\n",
    "plot_time_series(timesteps=X_test[-len(test_windows):], values=test_labels[:, 0], start=offset, label=\"Test_data\")\n",
    "plot_time_series(timesteps=X_test[-len(test_windows):], values=model_1_preds, start=offset, format=\"-\", label=\"model_1_preds\")"
   ]
  },
  {
   "cell_type": "code",
   "execution_count": 647,
   "metadata": {},
   "outputs": [],
   "source": [
    "HORIZON = 1 # predict one step at a time\n",
    "WINDOW_SIZE = 30"
   ]
  },
  {
   "cell_type": "code",
   "execution_count": 648,
   "metadata": {},
   "outputs": [
    {
     "data": {
      "text/plain": [
       "(4851, 4851)"
      ]
     },
     "execution_count": 648,
     "metadata": {},
     "output_type": "execute_result"
    }
   ],
   "source": [
    "full_windows, full_labels = make_windows(prices, window_size=WINDOW_SIZE, horizon=HORIZON)\n",
    "len(full_windows), len(full_labels)"
   ]
  },
  {
   "cell_type": "code",
   "execution_count": 649,
   "metadata": {},
   "outputs": [
    {
     "name": "stdout",
     "output_type": "stream",
     "text": [
      "INFO:tensorflow:Assets written to: model_experiments\\model_2_dense\\assets\n",
      "INFO:tensorflow:Assets written to: model_experiments\\model_2_dense\\assets\n",
      "INFO:tensorflow:Assets written to: model_experiments\\model_2_dense\\assets\n",
      "INFO:tensorflow:Assets written to: model_experiments\\model_2_dense\\assets\n",
      "INFO:tensorflow:Assets written to: model_experiments\\model_2_dense\\assets\n",
      "INFO:tensorflow:Assets written to: model_experiments\\model_2_dense\\assets\n",
      "INFO:tensorflow:Assets written to: model_experiments\\model_2_dense\\assets\n",
      "INFO:tensorflow:Assets written to: model_experiments\\model_2_dense\\assets\n",
      "INFO:tensorflow:Assets written to: model_experiments\\model_2_dense\\assets\n",
      "INFO:tensorflow:Assets written to: model_experiments\\model_2_dense\\assets\n",
      "INFO:tensorflow:Assets written to: model_experiments\\model_2_dense\\assets\n",
      "INFO:tensorflow:Assets written to: model_experiments\\model_2_dense\\assets\n",
      "INFO:tensorflow:Assets written to: model_experiments\\model_2_dense\\assets\n",
      "INFO:tensorflow:Assets written to: model_experiments\\model_2_dense\\assets\n",
      "INFO:tensorflow:Assets written to: model_experiments\\model_2_dense\\assets\n",
      "INFO:tensorflow:Assets written to: model_experiments\\model_2_dense\\assets\n",
      "INFO:tensorflow:Assets written to: model_experiments\\model_2_dense\\assets\n",
      "INFO:tensorflow:Assets written to: model_experiments\\model_2_dense\\assets\n",
      "INFO:tensorflow:Assets written to: model_experiments\\model_2_dense\\assets\n",
      "INFO:tensorflow:Assets written to: model_experiments\\model_2_dense\\assets\n",
      "INFO:tensorflow:Assets written to: model_experiments\\model_2_dense\\assets\n",
      "INFO:tensorflow:Assets written to: model_experiments\\model_2_dense\\assets\n",
      "INFO:tensorflow:Assets written to: model_experiments\\model_2_dense\\assets\n",
      "INFO:tensorflow:Assets written to: model_experiments\\model_2_dense\\assets\n",
      "INFO:tensorflow:Assets written to: model_experiments\\model_2_dense\\assets\n",
      "INFO:tensorflow:Assets written to: model_experiments\\model_2_dense\\assets\n"
     ]
    },
    {
     "data": {
      "text/plain": [
       "<keras.callbacks.History at 0x1608456b430>"
      ]
     },
     "execution_count": 649,
     "metadata": {},
     "output_type": "execute_result"
    }
   ],
   "source": [
    "tf.random.set_seed(42)\n",
    "\n",
    "# Create model (same model as model 1 but data input will be different)\n",
    "model_2 = tf.keras.Sequential([\n",
    "  layers.Dense(128, activation=\"relu\"),\n",
    "  layers.Dense(HORIZON) # need to predict horizon number of steps into the future\n",
    "], name=\"model_2_dense\")\n",
    "\n",
    "model_2.compile(loss=\"mae\",\n",
    "                optimizer=tf.keras.optimizers.Adam())\n",
    "\n",
    "model_2.fit(train_windows,\n",
    "            train_labels,\n",
    "            epochs=100,\n",
    "            batch_size=128,\n",
    "            verbose=0,\n",
    "            validation_data=(test_windows, test_labels),\n",
    "            callbacks=[create_model_checkpoint(model_name=model_2.name)])"
   ]
  },
  {
   "cell_type": "code",
   "execution_count": 650,
   "metadata": {},
   "outputs": [
    {
     "name": "stdout",
     "output_type": "stream",
     "text": [
      "31/31 [==============================] - 0s 4ms/step - loss: 7.4651\n"
     ]
    },
    {
     "data": {
      "text/plain": [
       "7.4650774002075195"
      ]
     },
     "execution_count": 650,
     "metadata": {},
     "output_type": "execute_result"
    }
   ],
   "source": [
    "model_2.evaluate(test_windows, test_labels)"
   ]
  },
  {
   "cell_type": "code",
   "execution_count": 651,
   "metadata": {},
   "outputs": [
    {
     "name": "stdout",
     "output_type": "stream",
     "text": [
      "31/31 [==============================] - 1s 6ms/step - loss: 7.4651\n"
     ]
    },
    {
     "data": {
      "text/plain": [
       "7.4650774002075195"
      ]
     },
     "execution_count": 651,
     "metadata": {},
     "output_type": "execute_result"
    }
   ],
   "source": [
    "model_2 = tf.keras.models.load_model(\"model_experiments/model_2_dense/\")\n",
    "model_2.evaluate(test_windows, test_labels)"
   ]
  },
  {
   "cell_type": "code",
   "execution_count": 652,
   "metadata": {},
   "outputs": [
    {
     "name": "stdout",
     "output_type": "stream",
     "text": [
      "31/31 [==============================] - 1s 9ms/step\n"
     ]
    }
   ],
   "source": [
    "model_2_preds = make_preds(model_2,\n",
    "                           input_data=test_windows)"
   ]
  },
  {
   "cell_type": "code",
   "execution_count": 653,
   "metadata": {},
   "outputs": [
    {
     "data": {
      "text/plain": [
       "{'mae': 7.465078,\n",
       " 'mse': 110.07766,\n",
       " 'rmse': 10.49179,\n",
       " 'mape': 1.9415684,\n",
       " 'mase': 1.061979}"
      ]
     },
     "execution_count": 653,
     "metadata": {},
     "output_type": "execute_result"
    }
   ],
   "source": [
    "model_2_results = evaluate_preds(y_true=tf.squeeze(test_labels), # remove 1 dimension of test labels\n",
    "                                 y_pred=model_2_preds)\n",
    "model_2_results"
   ]
  },
  {
   "cell_type": "code",
   "execution_count": 654,
   "metadata": {},
   "outputs": [
    {
     "data": {
      "image/png": "[encoded data removed]",
      "text/plain": [
       "<Figure size 720x504 with 1 Axes>"
      ]
     },
     "metadata": {
      "needs_background": "light"
     },
     "output_type": "display_data"
    }
   ],
   "source": [
    "offset = 300\n",
    "plt.figure(figsize=(10, 7))\n",
    "# Account for the test_window offset\n",
    "plot_time_series(timesteps=X_test[-len(test_windows):], values=test_labels[:, 0], start=offset, label=\"test_data\")\n",
    "plot_time_series(timesteps=X_test[-len(test_windows):], values=model_2_preds, start=offset, format=\"-\", label=\"model_2_preds\")"
   ]
  },
  {
   "cell_type": "code",
   "execution_count": 655,
   "metadata": {},
   "outputs": [],
   "source": [
    "block_reward_1 = 100\n",
    "block_reward_2 = 50 \n",
    "block_reward_3 = 25\n",
    "block_reward_4 = 12.5\n",
    "\n",
    "block_reward_2_datetime = np.datetime64(\"2004-11-28\")\n",
    "block_reward_3_datetime = np.datetime64(\"2016-07-09\")\n",
    "block_reward_4_datetime = np.datetime64(\"2022-01-19\")"
   ]
  },
  {
   "cell_type": "code",
   "execution_count": 656,
   "metadata": {},
   "outputs": [
    {
     "data": {
      "text/plain": [
       "(5161, 7181)"
      ]
     },
     "execution_count": 656,
     "metadata": {},
     "output_type": "execute_result"
    }
   ],
   "source": [
    "block_reward_2_days = (block_reward_3_datetime - Stock_price.index[0]).days\n",
    "block_reward_3_days = (block_reward_4_datetime - Stock_price.index[0]).days\n",
    "block_reward_2_days, block_reward_3_days"
   ]
  },
  {
   "cell_type": "code",
   "execution_count": 657,
   "metadata": {},
   "outputs": [
    {
     "data": {
      "text/html": [
       "<div>\n",
       "<style scoped>\n",
       "    .dataframe tbody tr th:only-of-type {\n",
       "        vertical-align: middle;\n",
       "    }\n",
       "\n",
       "    .dataframe tbody tr th {\n",
       "        vertical-align: top;\n",
       "    }\n",
       "\n",
       "    .dataframe thead th {\n",
       "        text-align: right;\n",
       "    }\n",
       "</style>\n",
       "<table border=\"1\" class=\"dataframe\">\n",
       "  <thead>\n",
       "    <tr style=\"text-align: right;\">\n",
       "      <th></th>\n",
       "      <th>Price</th>\n",
       "      <th>block_reward</th>\n",
       "    </tr>\n",
       "    <tr>\n",
       "      <th>Date</th>\n",
       "      <th></th>\n",
       "      <th></th>\n",
       "    </tr>\n",
       "  </thead>\n",
       "  <tbody>\n",
       "    <tr>\n",
       "      <th>2002-05-23</th>\n",
       "      <td>1.196429</td>\n",
       "      <td>50</td>\n",
       "    </tr>\n",
       "    <tr>\n",
       "      <th>2002-05-24</th>\n",
       "      <td>1.210000</td>\n",
       "      <td>50</td>\n",
       "    </tr>\n",
       "    <tr>\n",
       "      <th>2002-05-28</th>\n",
       "      <td>1.157143</td>\n",
       "      <td>50</td>\n",
       "    </tr>\n",
       "    <tr>\n",
       "      <th>2002-05-29</th>\n",
       "      <td>1.103571</td>\n",
       "      <td>50</td>\n",
       "    </tr>\n",
       "    <tr>\n",
       "      <th>2002-05-30</th>\n",
       "      <td>1.071429</td>\n",
       "      <td>50</td>\n",
       "    </tr>\n",
       "  </tbody>\n",
       "</table>\n",
       "</div>"
      ],
      "text/plain": [
       "               Price block_reward\n",
       "Date                             \n",
       "2002-05-23  1.196429           50\n",
       "2002-05-24  1.210000           50\n",
       "2002-05-28  1.157143           50\n",
       "2002-05-29  1.103571           50\n",
       "2002-05-30  1.071429           50"
      ]
     },
     "execution_count": 657,
     "metadata": {},
     "output_type": "execute_result"
    }
   ],
   "source": [
    "Netflix_prices_block = Stock_price.copy()\n",
    "Netflix_prices_block[\"block_reward\"] = None\n",
    "\n",
    "# Set values of block_reward column (it's the last column hence -1 indexing on iloc)\n",
    "Netflix_prices_block.iloc[:block_reward_2_days, -1] = block_reward_2\n",
    "Netflix_prices_block.iloc[block_reward_2_days:block_reward_3_days, -1] = block_reward_3\n",
    "Netflix_prices_block.iloc[block_reward_3_days:, -1] = block_reward_4\n",
    "Netflix_prices_block.head()"
   ]
  },
  {
   "cell_type": "code",
   "execution_count": 658,
   "metadata": {},
   "outputs": [
    {
     "data": {
      "text/html": [
       "<div>\n",
       "<style scoped>\n",
       "    .dataframe tbody tr th:only-of-type {\n",
       "        vertical-align: middle;\n",
       "    }\n",
       "\n",
       "    .dataframe tbody tr th {\n",
       "        vertical-align: top;\n",
       "    }\n",
       "\n",
       "    .dataframe thead th {\n",
       "        text-align: right;\n",
       "    }\n",
       "</style>\n",
       "<table border=\"1\" class=\"dataframe\">\n",
       "  <thead>\n",
       "    <tr style=\"text-align: right;\">\n",
       "      <th></th>\n",
       "      <th>Price</th>\n",
       "      <th>block_reward</th>\n",
       "      <th>Price+1</th>\n",
       "      <th>Price+2</th>\n",
       "      <th>Price+3</th>\n",
       "      <th>Price+4</th>\n",
       "      <th>Price+5</th>\n",
       "      <th>Price+6</th>\n",
       "      <th>Price+7</th>\n",
       "      <th>Price+8</th>\n",
       "      <th>...</th>\n",
       "      <th>Price+21</th>\n",
       "      <th>Price+22</th>\n",
       "      <th>Price+23</th>\n",
       "      <th>Price+24</th>\n",
       "      <th>Price+25</th>\n",
       "      <th>Price+26</th>\n",
       "      <th>Price+27</th>\n",
       "      <th>Price+28</th>\n",
       "      <th>Price+29</th>\n",
       "      <th>Price+30</th>\n",
       "    </tr>\n",
       "    <tr>\n",
       "      <th>Date</th>\n",
       "      <th></th>\n",
       "      <th></th>\n",
       "      <th></th>\n",
       "      <th></th>\n",
       "      <th></th>\n",
       "      <th></th>\n",
       "      <th></th>\n",
       "      <th></th>\n",
       "      <th></th>\n",
       "      <th></th>\n",
       "      <th></th>\n",
       "      <th></th>\n",
       "      <th></th>\n",
       "      <th></th>\n",
       "      <th></th>\n",
       "      <th></th>\n",
       "      <th></th>\n",
       "      <th></th>\n",
       "      <th></th>\n",
       "      <th></th>\n",
       "      <th></th>\n",
       "    </tr>\n",
       "  </thead>\n",
       "  <tbody>\n",
       "    <tr>\n",
       "      <th>2002-05-23</th>\n",
       "      <td>1.196429</td>\n",
       "      <td>50</td>\n",
       "      <td>NaN</td>\n",
       "      <td>NaN</td>\n",
       "      <td>NaN</td>\n",
       "      <td>NaN</td>\n",
       "      <td>NaN</td>\n",
       "      <td>NaN</td>\n",
       "      <td>NaN</td>\n",
       "      <td>NaN</td>\n",
       "      <td>...</td>\n",
       "      <td>NaN</td>\n",
       "      <td>NaN</td>\n",
       "      <td>NaN</td>\n",
       "      <td>NaN</td>\n",
       "      <td>NaN</td>\n",
       "      <td>NaN</td>\n",
       "      <td>NaN</td>\n",
       "      <td>NaN</td>\n",
       "      <td>NaN</td>\n",
       "      <td>NaN</td>\n",
       "    </tr>\n",
       "    <tr>\n",
       "      <th>2002-05-24</th>\n",
       "      <td>1.210000</td>\n",
       "      <td>50</td>\n",
       "      <td>1.196429</td>\n",
       "      <td>NaN</td>\n",
       "      <td>NaN</td>\n",
       "      <td>NaN</td>\n",
       "      <td>NaN</td>\n",
       "      <td>NaN</td>\n",
       "      <td>NaN</td>\n",
       "      <td>NaN</td>\n",
       "      <td>...</td>\n",
       "      <td>NaN</td>\n",
       "      <td>NaN</td>\n",
       "      <td>NaN</td>\n",
       "      <td>NaN</td>\n",
       "      <td>NaN</td>\n",
       "      <td>NaN</td>\n",
       "      <td>NaN</td>\n",
       "      <td>NaN</td>\n",
       "      <td>NaN</td>\n",
       "      <td>NaN</td>\n",
       "    </tr>\n",
       "    <tr>\n",
       "      <th>2002-05-28</th>\n",
       "      <td>1.157143</td>\n",
       "      <td>50</td>\n",
       "      <td>1.210000</td>\n",
       "      <td>1.196429</td>\n",
       "      <td>NaN</td>\n",
       "      <td>NaN</td>\n",
       "      <td>NaN</td>\n",
       "      <td>NaN</td>\n",
       "      <td>NaN</td>\n",
       "      <td>NaN</td>\n",
       "      <td>...</td>\n",
       "      <td>NaN</td>\n",
       "      <td>NaN</td>\n",
       "      <td>NaN</td>\n",
       "      <td>NaN</td>\n",
       "      <td>NaN</td>\n",
       "      <td>NaN</td>\n",
       "      <td>NaN</td>\n",
       "      <td>NaN</td>\n",
       "      <td>NaN</td>\n",
       "      <td>NaN</td>\n",
       "    </tr>\n",
       "    <tr>\n",
       "      <th>2002-05-29</th>\n",
       "      <td>1.103571</td>\n",
       "      <td>50</td>\n",
       "      <td>1.157143</td>\n",
       "      <td>1.210000</td>\n",
       "      <td>1.196429</td>\n",
       "      <td>NaN</td>\n",
       "      <td>NaN</td>\n",
       "      <td>NaN</td>\n",
       "      <td>NaN</td>\n",
       "      <td>NaN</td>\n",
       "      <td>...</td>\n",
       "      <td>NaN</td>\n",
       "      <td>NaN</td>\n",
       "      <td>NaN</td>\n",
       "      <td>NaN</td>\n",
       "      <td>NaN</td>\n",
       "      <td>NaN</td>\n",
       "      <td>NaN</td>\n",
       "      <td>NaN</td>\n",
       "      <td>NaN</td>\n",
       "      <td>NaN</td>\n",
       "    </tr>\n",
       "    <tr>\n",
       "      <th>2002-05-30</th>\n",
       "      <td>1.071429</td>\n",
       "      <td>50</td>\n",
       "      <td>1.103571</td>\n",
       "      <td>1.157143</td>\n",
       "      <td>1.210000</td>\n",
       "      <td>1.196429</td>\n",
       "      <td>NaN</td>\n",
       "      <td>NaN</td>\n",
       "      <td>NaN</td>\n",
       "      <td>NaN</td>\n",
       "      <td>...</td>\n",
       "      <td>NaN</td>\n",
       "      <td>NaN</td>\n",
       "      <td>NaN</td>\n",
       "      <td>NaN</td>\n",
       "      <td>NaN</td>\n",
       "      <td>NaN</td>\n",
       "      <td>NaN</td>\n",
       "      <td>NaN</td>\n",
       "      <td>NaN</td>\n",
       "      <td>NaN</td>\n",
       "    </tr>\n",
       "    <tr>\n",
       "      <th>2002-05-31</th>\n",
       "      <td>1.076429</td>\n",
       "      <td>50</td>\n",
       "      <td>1.071429</td>\n",
       "      <td>1.103571</td>\n",
       "      <td>1.157143</td>\n",
       "      <td>1.210000</td>\n",
       "      <td>1.196429</td>\n",
       "      <td>NaN</td>\n",
       "      <td>NaN</td>\n",
       "      <td>NaN</td>\n",
       "      <td>...</td>\n",
       "      <td>NaN</td>\n",
       "      <td>NaN</td>\n",
       "      <td>NaN</td>\n",
       "      <td>NaN</td>\n",
       "      <td>NaN</td>\n",
       "      <td>NaN</td>\n",
       "      <td>NaN</td>\n",
       "      <td>NaN</td>\n",
       "      <td>NaN</td>\n",
       "      <td>NaN</td>\n",
       "    </tr>\n",
       "    <tr>\n",
       "      <th>2002-06-03</th>\n",
       "      <td>1.128571</td>\n",
       "      <td>50</td>\n",
       "      <td>1.076429</td>\n",
       "      <td>1.071429</td>\n",
       "      <td>1.103571</td>\n",
       "      <td>1.157143</td>\n",
       "      <td>1.210000</td>\n",
       "      <td>1.196429</td>\n",
       "      <td>NaN</td>\n",
       "      <td>NaN</td>\n",
       "      <td>...</td>\n",
       "      <td>NaN</td>\n",
       "      <td>NaN</td>\n",
       "      <td>NaN</td>\n",
       "      <td>NaN</td>\n",
       "      <td>NaN</td>\n",
       "      <td>NaN</td>\n",
       "      <td>NaN</td>\n",
       "      <td>NaN</td>\n",
       "      <td>NaN</td>\n",
       "      <td>NaN</td>\n",
       "    </tr>\n",
       "    <tr>\n",
       "      <th>2002-06-04</th>\n",
       "      <td>1.117857</td>\n",
       "      <td>50</td>\n",
       "      <td>1.128571</td>\n",
       "      <td>1.076429</td>\n",
       "      <td>1.071429</td>\n",
       "      <td>1.103571</td>\n",
       "      <td>1.157143</td>\n",
       "      <td>1.210000</td>\n",
       "      <td>1.196429</td>\n",
       "      <td>NaN</td>\n",
       "      <td>...</td>\n",
       "      <td>NaN</td>\n",
       "      <td>NaN</td>\n",
       "      <td>NaN</td>\n",
       "      <td>NaN</td>\n",
       "      <td>NaN</td>\n",
       "      <td>NaN</td>\n",
       "      <td>NaN</td>\n",
       "      <td>NaN</td>\n",
       "      <td>NaN</td>\n",
       "      <td>NaN</td>\n",
       "    </tr>\n",
       "    <tr>\n",
       "      <th>2002-06-05</th>\n",
       "      <td>1.147143</td>\n",
       "      <td>50</td>\n",
       "      <td>1.117857</td>\n",
       "      <td>1.128571</td>\n",
       "      <td>1.076429</td>\n",
       "      <td>1.071429</td>\n",
       "      <td>1.103571</td>\n",
       "      <td>1.157143</td>\n",
       "      <td>1.210000</td>\n",
       "      <td>1.196429</td>\n",
       "      <td>...</td>\n",
       "      <td>NaN</td>\n",
       "      <td>NaN</td>\n",
       "      <td>NaN</td>\n",
       "      <td>NaN</td>\n",
       "      <td>NaN</td>\n",
       "      <td>NaN</td>\n",
       "      <td>NaN</td>\n",
       "      <td>NaN</td>\n",
       "      <td>NaN</td>\n",
       "      <td>NaN</td>\n",
       "    </tr>\n",
       "    <tr>\n",
       "      <th>2002-06-06</th>\n",
       "      <td>1.182143</td>\n",
       "      <td>50</td>\n",
       "      <td>1.147143</td>\n",
       "      <td>1.117857</td>\n",
       "      <td>1.128571</td>\n",
       "      <td>1.076429</td>\n",
       "      <td>1.071429</td>\n",
       "      <td>1.103571</td>\n",
       "      <td>1.157143</td>\n",
       "      <td>1.210000</td>\n",
       "      <td>...</td>\n",
       "      <td>NaN</td>\n",
       "      <td>NaN</td>\n",
       "      <td>NaN</td>\n",
       "      <td>NaN</td>\n",
       "      <td>NaN</td>\n",
       "      <td>NaN</td>\n",
       "      <td>NaN</td>\n",
       "      <td>NaN</td>\n",
       "      <td>NaN</td>\n",
       "      <td>NaN</td>\n",
       "    </tr>\n",
       "  </tbody>\n",
       "</table>\n",
       "<p>10 rows × 32 columns</p>\n",
       "</div>"
      ],
      "text/plain": [
       "               Price block_reward   Price+1   Price+2   Price+3   Price+4  \\\n",
       "Date                                                                        \n",
       "2002-05-23  1.196429           50       NaN       NaN       NaN       NaN   \n",
       "2002-05-24  1.210000           50  1.196429       NaN       NaN       NaN   \n",
       "2002-05-28  1.157143           50  1.210000  1.196429       NaN       NaN   \n",
       "2002-05-29  1.103571           50  1.157143  1.210000  1.196429       NaN   \n",
       "2002-05-30  1.071429           50  1.103571  1.157143  1.210000  1.196429   \n",
       "2002-05-31  1.076429           50  1.071429  1.103571  1.157143  1.210000   \n",
       "2002-06-03  1.128571           50  1.076429  1.071429  1.103571  1.157143   \n",
       "2002-06-04  1.117857           50  1.128571  1.076429  1.071429  1.103571   \n",
       "2002-06-05  1.147143           50  1.117857  1.128571  1.076429  1.071429   \n",
       "2002-06-06  1.182143           50  1.147143  1.117857  1.128571  1.076429   \n",
       "\n",
       "             Price+5   Price+6   Price+7   Price+8  ...  Price+21  Price+22  \\\n",
       "Date                                                ...                       \n",
       "2002-05-23       NaN       NaN       NaN       NaN  ...       NaN       NaN   \n",
       "2002-05-24       NaN       NaN       NaN       NaN  ...       NaN       NaN   \n",
       "2002-05-28       NaN       NaN       NaN       NaN  ...       NaN       NaN   \n",
       "2002-05-29       NaN       NaN       NaN       NaN  ...       NaN       NaN   \n",
       "2002-05-30       NaN       NaN       NaN       NaN  ...       NaN       NaN   \n",
       "2002-05-31  1.196429       NaN       NaN       NaN  ...       NaN       NaN   \n",
       "2002-06-03  1.210000  1.196429       NaN       NaN  ...       NaN       NaN   \n",
       "2002-06-04  1.157143  1.210000  1.196429       NaN  ...       NaN       NaN   \n",
       "2002-06-05  1.103571  1.157143  1.210000  1.196429  ...       NaN       NaN   \n",
       "2002-06-06  1.071429  1.103571  1.157143  1.210000  ...       NaN       NaN   \n",
       "\n",
       "            Price+23  Price+24  Price+25  Price+26  Price+27  Price+28  \\\n",
       "Date                                                                     \n",
       "2002-05-23       NaN       NaN       NaN       NaN       NaN       NaN   \n",
       "2002-05-24       NaN       NaN       NaN       NaN       NaN       NaN   \n",
       "2002-05-28       NaN       NaN       NaN       NaN       NaN       NaN   \n",
       "2002-05-29       NaN       NaN       NaN       NaN       NaN       NaN   \n",
       "2002-05-30       NaN       NaN       NaN       NaN       NaN       NaN   \n",
       "2002-05-31       NaN       NaN       NaN       NaN       NaN       NaN   \n",
       "2002-06-03       NaN       NaN       NaN       NaN       NaN       NaN   \n",
       "2002-06-04       NaN       NaN       NaN       NaN       NaN       NaN   \n",
       "2002-06-05       NaN       NaN       NaN       NaN       NaN       NaN   \n",
       "2002-06-06       NaN       NaN       NaN       NaN       NaN       NaN   \n",
       "\n",
       "            Price+29  Price+30  \n",
       "Date                            \n",
       "2002-05-23       NaN       NaN  \n",
       "2002-05-24       NaN       NaN  \n",
       "2002-05-28       NaN       NaN  \n",
       "2002-05-29       NaN       NaN  \n",
       "2002-05-30       NaN       NaN  \n",
       "2002-05-31       NaN       NaN  \n",
       "2002-06-03       NaN       NaN  \n",
       "2002-06-04       NaN       NaN  \n",
       "2002-06-05       NaN       NaN  \n",
       "2002-06-06       NaN       NaN  \n",
       "\n",
       "[10 rows x 32 columns]"
      ]
     },
     "execution_count": 658,
     "metadata": {},
     "output_type": "execute_result"
    }
   ],
   "source": [
    "Netflix_prices_windowed = Netflix_prices_block.copy()\n",
    "\n",
    "# Add windowed columns\n",
    "for i in range(WINDOW_SIZE): # Shift values for each step in WINDOW_SIZE\n",
    "  Netflix_prices_windowed[f\"Price+{i+1}\"] = Netflix_prices_windowed[\"Price\"].shift(periods=i+1)\n",
    "Netflix_prices_windowed.head(10)"
   ]
  },
  {
   "cell_type": "code",
   "execution_count": 659,
   "metadata": {},
   "outputs": [],
   "source": [
    "X_all = Netflix_prices_windowed.drop([\"Price\", \"block_reward\"], axis=1).dropna().to_numpy() # only want prices, our future model can be a univariate model\n",
    "y_all = Netflix_prices_windowed.dropna()[\"Price\"].to_numpy()"
   ]
  },
  {
   "cell_type": "code",
   "execution_count": 660,
   "metadata": {},
   "outputs": [
    {
     "data": {
      "text/plain": [
       "<PrefetchDataset element_spec=(TensorSpec(shape=(None, 30), dtype=tf.float64, name=None), TensorSpec(shape=(None,), dtype=tf.float64, name=None))>"
      ]
     },
     "execution_count": 660,
     "metadata": {},
     "output_type": "execute_result"
    }
   ],
   "source": [
    "features_dataset_all = tf.data.Dataset.from_tensor_slices(X_all)\n",
    "labels_dataset_all = tf.data.Dataset.from_tensor_slices(y_all)\n",
    "\n",
    "# 2. Combine features & labels\n",
    "dataset_all = tf.data.Dataset.zip((features_dataset_all, labels_dataset_all))\n",
    "\n",
    "# 3. Batch and prefetch for optimal performance\n",
    "BATCH_SIZE = 1024 # taken from Appendix D in N-BEATS paper\n",
    "dataset_all = dataset_all.batch(BATCH_SIZE).prefetch(tf.data.AUTOTUNE)\n",
    "\n",
    "dataset_all"
   ]
  },
  {
   "cell_type": "code",
   "execution_count": 661,
   "metadata": {},
   "outputs": [
    {
     "data": {
      "text/plain": [
       "<keras.callbacks.History at 0x160f92ce310>"
      ]
     },
     "execution_count": 661,
     "metadata": {},
     "output_type": "execute_result"
    }
   ],
   "source": [
    "tf.random.set_seed(42)\n",
    "\n",
    "# Create model (nice and simple, just to test)\n",
    "model_3 = tf.keras.Sequential([\n",
    "  layers.Dense(128, activation=\"relu\"),\n",
    "  layers.Dense(128, activation=\"relu\"),\n",
    "  layers.Dense(HORIZON)\n",
    "])\n",
    "\n",
    "# Compile\n",
    "model_3.compile(loss=tf.keras.losses.mae,\n",
    "                optimizer=tf.keras.optimizers.Adam())\n",
    "\n",
    "# Fit model on all of the data to make future forecasts\n",
    "model_3.fit(dataset_all,\n",
    "            epochs=100,\n",
    "            verbose=0) # don't print out anything, we've seen this all before"
   ]
  },
  {
   "cell_type": "code",
   "execution_count": 662,
   "metadata": {},
   "outputs": [],
   "source": [
    "INTO_FUTURE = 1"
   ]
  },
  {
   "cell_type": "code",
   "execution_count": 663,
   "metadata": {},
   "outputs": [],
   "source": [
    "def make_future_forecast(values, model, into_future, window_size=WINDOW_SIZE) -> list:\n",
    "      \n",
    "    future_forecast = []\n",
    "    last_window = values[-WINDOW_SIZE:] # only want preds from the last window (this will get updated)\n",
    "\n",
    "    # 3. Make INTO_FUTURE number of predictions, altering the data which gets predicted on each time \n",
    "    for _ in range(into_future):\n",
    "    \n",
    "    # Predict on last window then append it again, again, again (model starts to make forecasts on its own forecasts)\n",
    "     future_pred = model.predict(tf.expand_dims(last_window, axis=0))\n",
    "    print(f\"Predicting on: \\n {last_window} -> Prediction: {tf.squeeze(future_pred).numpy()}\\n\")\n",
    "    \n",
    "    # Append predictions to future_forecast\n",
    "    future_forecast.append(tf.squeeze(future_pred).numpy())\n",
    "    # print(future_forecast)\n",
    "\n",
    "    # Update last window with new pred and get WINDOW_SIZE most recent preds (model was trained on WINDOW_SIZE windows)\n",
    "    last_window = np.append(last_window, future_pred)[-WINDOW_SIZE:]\n",
    "  \n",
    "    return future_forecast"
   ]
  },
  {
   "cell_type": "code",
   "execution_count": 664,
   "metadata": {},
   "outputs": [
    {
     "name": "stdout",
     "output_type": "stream",
     "text": [
      "1/1 [==============================] - 1s 958ms/step\n",
      "Predicting on: \n",
      " [566.17999268 569.19000244 582.07000732 588.54998779 590.5300293\n",
      " 606.71002197 606.04998779 597.53997803 598.7199707  589.28997803\n",
      " 577.76000977 582.86999512 586.5        589.34997559 575.42999268\n",
      " 573.14001465 590.65002441 593.26000977 592.39001465 592.64001465\n",
      " 583.84997559 599.05999756 610.34002686 613.15002441 603.34997559\n",
      " 634.80999756 639.09997559 631.84997559 632.65997314 627.03997803] -> Prediction: 577.365234375\n",
      "\n"
     ]
    }
   ],
   "source": [
    "future_forecast = make_future_forecast(values=y_all,\n",
    "                                       model=model_3,\n",
    "                                       into_future=INTO_FUTURE,\n",
    "                                       window_size=WINDOW_SIZE)"
   ]
  },
  {
   "cell_type": "code",
   "execution_count": 665,
   "metadata": {},
   "outputs": [
    {
     "data": {
      "text/plain": [
       "[577.36523]"
      ]
     },
     "execution_count": 665,
     "metadata": {},
     "output_type": "execute_result"
    }
   ],
   "source": [
    "future_forecast[:10]"
   ]
  },
  {
   "cell_type": "code",
   "execution_count": 666,
   "metadata": {},
   "outputs": [],
   "source": [
    "def get_future_dates(start_date, into_future, offset=1):\n",
    "      \n",
    "  start_date = start_date + np.timedelta64(offset, \"D\") # specify start date, \"D\" stands for day\n",
    "  end_date = start_date + np.timedelta64(into_future, \"D\") # specify end date\n",
    "  return np.arange(start_date, end_date, dtype=\"datetime64[D]\")"
   ]
  },
  {
   "cell_type": "code",
   "execution_count": 667,
   "metadata": {},
   "outputs": [
    {
     "data": {
      "text/plain": [
       "Timestamp('2021-10-11 00:00:00')"
      ]
     },
     "execution_count": 667,
     "metadata": {},
     "output_type": "execute_result"
    }
   ],
   "source": [
    "last_timestep = Stock_price.index[-1]\n",
    "last_timestep"
   ]
  },
  {
   "cell_type": "code",
   "execution_count": 668,
   "metadata": {},
   "outputs": [
    {
     "data": {
      "text/plain": [
       "array(['2021-10-12'], dtype='datetime64[D]')"
      ]
     },
     "execution_count": 668,
     "metadata": {},
     "output_type": "execute_result"
    }
   ],
   "source": [
    "next_time_steps = get_future_dates(start_date=last_timestep, \n",
    "                                   into_future=INTO_FUTURE)\n",
    "next_time_steps"
   ]
  },
  {
   "cell_type": "code",
   "execution_count": 669,
   "metadata": {},
   "outputs": [
    {
     "data": {
      "text/plain": [
       "([Timestamp('2021-10-11 00:00:00'),\n",
       "  Timestamp('2021-10-11 00:00:00'),\n",
       "  Timestamp('2021-10-11 00:00:00'),\n",
       "  Timestamp('2021-10-11 00:00:00'),\n",
       "  Timestamp('2021-10-11 00:00:00'),\n",
       "  Timestamp('2021-10-11 00:00:00'),\n",
       "  Timestamp('2021-10-11 00:00:00'),\n",
       "  Timestamp('2021-10-11 00:00:00'),\n",
       "  Timestamp('2021-10-11 00:00:00'),\n",
       "  Timestamp('2021-10-11 00:00:00')],\n",
       " [1.1457140445709229,\n",
       "  1.1971429586410522,\n",
       "  1.157142996788025,\n",
       "  1.0857139825820923,\n",
       "  1.0714290142059326,\n",
       "  1.0714290142059326,\n",
       "  1.076429009437561,\n",
       "  1.1107139587402344,\n",
       "  1.1071430444717407,\n",
       "  1.1485710144042969])"
      ]
     },
     "execution_count": 669,
     "metadata": {},
     "output_type": "execute_result"
    }
   ],
   "source": [
    "import csv\n",
    "from datetime import datetime\n",
    "\n",
    "timesteps = []\n",
    "Netflix_price = []\n",
    "with open(\"./netflix.csv\", \"r\") as f:\n",
    "  csv_reader = csv.reader(f, delimiter=\",\") # read in the target CSV\n",
    "  next(csv_reader) # skip first line (this gets rid of the column titles)\n",
    "  for line in csv_reader:\n",
    "    timesteps.append(data.index[-1]) # get the dates as dates (not strings), strptime = string parse time\n",
    "    Netflix_price.append(float(line[2])) # get the closing price as float\n",
    "\n",
    "# View first 10 of each\n",
    "timesteps[:10], Netflix_price[:10]"
   ]
  },
  {
   "cell_type": "code",
   "execution_count": 670,
   "metadata": {},
   "outputs": [
    {
     "data": {
      "text/plain": [
       "(array(['2021-10-11', '2021-10-12'], dtype='datetime64[D]'),\n",
       " array([626.78   , 577.36523], dtype=float32))"
      ]
     },
     "execution_count": 670,
     "metadata": {},
     "output_type": "execute_result"
    }
   ],
   "source": [
    "next_time_steps = np.insert(next_time_steps, 0, last_timestep)\n",
    "future_forecast = np.insert(future_forecast, 0,  Netflix_price[-1])\n",
    "next_time_steps, future_forecast"
   ]
  },
  {
   "cell_type": "code",
   "execution_count": 671,
   "metadata": {},
   "outputs": [
    {
     "data": {
      "text/plain": [
       "(4881, 1)"
      ]
     },
     "execution_count": 671,
     "metadata": {},
     "output_type": "execute_result"
    }
   ],
   "source": [
    "Stock_price.shape"
   ]
  },
  {
   "cell_type": "code",
   "execution_count": 672,
   "metadata": {},
   "outputs": [
    {
     "data": {
      "text/plain": [
       "array(['2021-10-11', '2021-10-12'], dtype='datetime64[D]')"
      ]
     },
     "execution_count": 672,
     "metadata": {},
     "output_type": "execute_result"
    }
   ],
   "source": [
    "next_time_steps"
   ]
  },
  {
   "cell_type": "code",
   "execution_count": 673,
   "metadata": {},
   "outputs": [
    {
     "data": {
      "image/png": "[encoded data removed]",
      "text/plain": [
       "<Figure size 720x576 with 1 Axes>"
      ]
     },
     "metadata": {
      "needs_background": "light"
     },
     "output_type": "display_data"
    }
   ],
   "source": [
    "plt.figure(figsize=(10, 8))\n",
    "plot_time_series(Stock_price.index, Netflix_price, start=4800, format=\"-\", label=\"Actual Share Price\")\n",
    "plot_time_series(next_time_steps, future_forecast, format=\"-\", label=\"Predicted Share Price\")"
   ]
  },
  {
   "cell_type": "code",
   "execution_count": null,
   "metadata": {},
   "outputs": [],
   "source": []
  }
 ],
 "metadata": {
  "kernelspec": {
   "display_name": "Python 3.9.6 64-bit",
   "language": "python",
   "name": "python3"
  },
  "language_info": {
   "codemirror_mode": {
    "name": "ipython",
    "version": 3
   },
   "file_extension": ".py",
   "mimetype": "text/x-python",
   "name": "python",
   "nbconvert_exporter": "python",
   "pygments_lexer": "ipython3",
   "version": "3.9.6"
  },
  "orig_nbformat": 4,
  "vscode": {
   "interpreter": {
    "hash": "11938c6bc6919ae2720b4d5011047913343b08a43b18698fd82dedb0d4417594"
   }
  }
 },
 "nbformat": 4,
 "nbformat_minor": 2
}
